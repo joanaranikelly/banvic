{
 "cells": [
  {
   "cell_type": "markdown",
   "metadata": {},
   "source": [
    "# Análise exploratória dos dados"
   ]
  },
  {
   "cell_type": "code",
   "execution_count": 1,
   "metadata": {},
   "outputs": [],
   "source": [
    "import pandas as pd\n",
    "import matplotlib.pyplot as plt\n",
    "import seaborn as sns\n",
    "from datetime import datetime"
   ]
  },
  {
   "cell_type": "markdown",
   "metadata": {},
   "source": [
    "## Leitura e exploração do arquivo 'agencias.csv'"
   ]
  },
  {
   "cell_type": "code",
   "execution_count": 2,
   "metadata": {},
   "outputs": [
    {
     "data": {
      "text/html": [
       "<div>\n",
       "<style scoped>\n",
       "    .dataframe tbody tr th:only-of-type {\n",
       "        vertical-align: middle;\n",
       "    }\n",
       "\n",
       "    .dataframe tbody tr th {\n",
       "        vertical-align: top;\n",
       "    }\n",
       "\n",
       "    .dataframe thead th {\n",
       "        text-align: right;\n",
       "    }\n",
       "</style>\n",
       "<table border=\"1\" class=\"dataframe\">\n",
       "  <thead>\n",
       "    <tr style=\"text-align: right;\">\n",
       "      <th></th>\n",
       "      <th>cod_agencia</th>\n",
       "      <th>nome</th>\n",
       "      <th>endereco</th>\n",
       "      <th>cidade</th>\n",
       "      <th>uf</th>\n",
       "      <th>data_abertura</th>\n",
       "      <th>tipo_agencia</th>\n",
       "    </tr>\n",
       "  </thead>\n",
       "  <tbody>\n",
       "    <tr>\n",
       "      <th>0</th>\n",
       "      <td>7</td>\n",
       "      <td>Agência Digital</td>\n",
       "      <td>Av. Paulista, 1436 - Cerqueira César, São Paul...</td>\n",
       "      <td>São Paulo</td>\n",
       "      <td>SP</td>\n",
       "      <td>2015-08-01</td>\n",
       "      <td>Digital</td>\n",
       "    </tr>\n",
       "    <tr>\n",
       "      <th>1</th>\n",
       "      <td>1</td>\n",
       "      <td>Agência Matriz</td>\n",
       "      <td>Av. Paulista, 1436 - Cerqueira César, São Paul...</td>\n",
       "      <td>São Paulo</td>\n",
       "      <td>SP</td>\n",
       "      <td>2010-01-01</td>\n",
       "      <td>Física</td>\n",
       "    </tr>\n",
       "    <tr>\n",
       "      <th>2</th>\n",
       "      <td>2</td>\n",
       "      <td>Agência Tatuapé</td>\n",
       "      <td>Praça Sílvio Romero, 158 - Tatuapé, São Paulo ...</td>\n",
       "      <td>São Paulo</td>\n",
       "      <td>SP</td>\n",
       "      <td>2010-06-14</td>\n",
       "      <td>Física</td>\n",
       "    </tr>\n",
       "    <tr>\n",
       "      <th>3</th>\n",
       "      <td>3</td>\n",
       "      <td>Agência Campinas</td>\n",
       "      <td>Av. Francisco Glicério, 895 - Vila Lidia, Camp...</td>\n",
       "      <td>Campinas</td>\n",
       "      <td>SP</td>\n",
       "      <td>2012-03-04</td>\n",
       "      <td>Física</td>\n",
       "    </tr>\n",
       "    <tr>\n",
       "      <th>4</th>\n",
       "      <td>4</td>\n",
       "      <td>Agência Osasco</td>\n",
       "      <td>Av. Antônio Carlos Costa, 1000 - Bela Vista, O...</td>\n",
       "      <td>Osasco</td>\n",
       "      <td>SP</td>\n",
       "      <td>2013-11-06</td>\n",
       "      <td>Física</td>\n",
       "    </tr>\n",
       "    <tr>\n",
       "      <th>5</th>\n",
       "      <td>5</td>\n",
       "      <td>Agência Porto Alegre</td>\n",
       "      <td>Av. Bento Gonçalves, 1924 - Partenon, Porto Al...</td>\n",
       "      <td>Porto Alegre</td>\n",
       "      <td>RS</td>\n",
       "      <td>2013-12-01</td>\n",
       "      <td>Física</td>\n",
       "    </tr>\n",
       "    <tr>\n",
       "      <th>6</th>\n",
       "      <td>6</td>\n",
       "      <td>Agência Rio de Janeiro</td>\n",
       "      <td>R. Sen. Dantas, 15 - Centro, Rio de Janeiro - ...</td>\n",
       "      <td>Rio de Janeiro</td>\n",
       "      <td>RJ</td>\n",
       "      <td>2015-04-01</td>\n",
       "      <td>Física</td>\n",
       "    </tr>\n",
       "    <tr>\n",
       "      <th>7</th>\n",
       "      <td>8</td>\n",
       "      <td>Agência Jardins</td>\n",
       "      <td>Av. Brg. Faria Lima, 2491 - Jardim Paulistano,...</td>\n",
       "      <td>São Paulo</td>\n",
       "      <td>SP</td>\n",
       "      <td>2018-01-09</td>\n",
       "      <td>Física</td>\n",
       "    </tr>\n",
       "    <tr>\n",
       "      <th>8</th>\n",
       "      <td>9</td>\n",
       "      <td>Agência Florianópolis</td>\n",
       "      <td>Av. Jorn. Rubéns de Arruda Ramos, 1280 - Centr...</td>\n",
       "      <td>Florianópolis</td>\n",
       "      <td>SC</td>\n",
       "      <td>2019-10-09</td>\n",
       "      <td>Física</td>\n",
       "    </tr>\n",
       "    <tr>\n",
       "      <th>9</th>\n",
       "      <td>10</td>\n",
       "      <td>Agência Recife</td>\n",
       "      <td>Av. Conselheiro Aguiar, 4432 - Boa Viagem, Rec...</td>\n",
       "      <td>Recife</td>\n",
       "      <td>PE</td>\n",
       "      <td>2021-10-09</td>\n",
       "      <td>Física</td>\n",
       "    </tr>\n",
       "  </tbody>\n",
       "</table>\n",
       "</div>"
      ],
      "text/plain": [
       "   cod_agencia                    nome  \\\n",
       "0            7         Agência Digital   \n",
       "1            1          Agência Matriz   \n",
       "2            2         Agência Tatuapé   \n",
       "3            3        Agência Campinas   \n",
       "4            4          Agência Osasco   \n",
       "5            5    Agência Porto Alegre   \n",
       "6            6  Agência Rio de Janeiro   \n",
       "7            8         Agência Jardins   \n",
       "8            9   Agência Florianópolis   \n",
       "9           10          Agência Recife   \n",
       "\n",
       "                                            endereco          cidade  uf  \\\n",
       "0  Av. Paulista, 1436 - Cerqueira César, São Paul...       São Paulo  SP   \n",
       "1  Av. Paulista, 1436 - Cerqueira César, São Paul...       São Paulo  SP   \n",
       "2  Praça Sílvio Romero, 158 - Tatuapé, São Paulo ...       São Paulo  SP   \n",
       "3  Av. Francisco Glicério, 895 - Vila Lidia, Camp...        Campinas  SP   \n",
       "4  Av. Antônio Carlos Costa, 1000 - Bela Vista, O...          Osasco  SP   \n",
       "5  Av. Bento Gonçalves, 1924 - Partenon, Porto Al...    Porto Alegre  RS   \n",
       "6  R. Sen. Dantas, 15 - Centro, Rio de Janeiro - ...  Rio de Janeiro  RJ   \n",
       "7  Av. Brg. Faria Lima, 2491 - Jardim Paulistano,...       São Paulo  SP   \n",
       "8  Av. Jorn. Rubéns de Arruda Ramos, 1280 - Centr...   Florianópolis  SC   \n",
       "9  Av. Conselheiro Aguiar, 4432 - Boa Viagem, Rec...          Recife  PE   \n",
       "\n",
       "  data_abertura tipo_agencia  \n",
       "0    2015-08-01      Digital  \n",
       "1    2010-01-01       Física  \n",
       "2    2010-06-14       Física  \n",
       "3    2012-03-04       Física  \n",
       "4    2013-11-06       Física  \n",
       "5    2013-12-01       Física  \n",
       "6    2015-04-01       Física  \n",
       "7    2018-01-09       Física  \n",
       "8    2019-10-09       Física  \n",
       "9    2021-10-09       Física  "
      ]
     },
     "execution_count": 2,
     "metadata": {},
     "output_type": "execute_result"
    }
   ],
   "source": [
    "agencias = pd.read_csv('agencias.csv')\n",
    "agencias"
   ]
  },
  {
   "cell_type": "code",
   "execution_count": 3,
   "metadata": {},
   "outputs": [
    {
     "name": "stdout",
     "output_type": "stream",
     "text": [
      "<class 'pandas.core.frame.DataFrame'>\n",
      "RangeIndex: 10 entries, 0 to 9\n",
      "Data columns (total 7 columns):\n",
      " #   Column         Non-Null Count  Dtype \n",
      "---  ------         --------------  ----- \n",
      " 0   cod_agencia    10 non-null     int64 \n",
      " 1   nome           10 non-null     object\n",
      " 2   endereco       10 non-null     object\n",
      " 3   cidade         10 non-null     object\n",
      " 4   uf             10 non-null     object\n",
      " 5   data_abertura  10 non-null     object\n",
      " 6   tipo_agencia   10 non-null     object\n",
      "dtypes: int64(1), object(6)\n",
      "memory usage: 692.0+ bytes\n"
     ]
    }
   ],
   "source": [
    "agencias.info()"
   ]
  },
  {
   "cell_type": "markdown",
   "metadata": {},
   "source": [
    "### Convertendo a coluna data_abertura para o tipo date_time para poder fazer análises temporais"
   ]
  },
  {
   "cell_type": "code",
   "execution_count": 4,
   "metadata": {},
   "outputs": [],
   "source": [
    "agencias['data_abertura'] = pd.to_datetime(agencias['data_abertura'], errors='coerce')"
   ]
  },
  {
   "cell_type": "code",
   "execution_count": 5,
   "metadata": {},
   "outputs": [
    {
     "name": "stdout",
     "output_type": "stream",
     "text": [
      "0   2015-08-01\n",
      "1   2010-01-01\n",
      "2   2010-06-14\n",
      "3   2012-03-04\n",
      "4   2013-11-06\n",
      "Name: data_abertura, dtype: datetime64[ns]\n"
     ]
    }
   ],
   "source": [
    "print(agencias['data_abertura'].head())"
   ]
  },
  {
   "cell_type": "code",
   "execution_count": 6,
   "metadata": {},
   "outputs": [
    {
     "name": "stdout",
     "output_type": "stream",
     "text": [
      "datetime64[ns]\n"
     ]
    }
   ],
   "source": [
    "print(agencias['data_abertura'].dtype)"
   ]
  },
  {
   "cell_type": "code",
   "execution_count": 7,
   "metadata": {},
   "outputs": [],
   "source": [
    "agencias['ano_abertura'] = agencias['data_abertura'].dt.year"
   ]
  },
  {
   "cell_type": "code",
   "execution_count": 8,
   "metadata": {},
   "outputs": [
    {
     "name": "stdout",
     "output_type": "stream",
     "text": [
      "  data_abertura  ano_abertura\n",
      "0    2015-08-01          2015\n",
      "1    2010-01-01          2010\n",
      "2    2010-06-14          2010\n",
      "3    2012-03-04          2012\n",
      "4    2013-11-06          2013\n"
     ]
    }
   ],
   "source": [
    "print(agencias[['data_abertura', 'ano_abertura']].head())"
   ]
  },
  {
   "cell_type": "markdown",
   "metadata": {},
   "source": [
    "Existem valores nulos?"
   ]
  },
  {
   "cell_type": "code",
   "execution_count": 9,
   "metadata": {},
   "outputs": [
    {
     "name": "stdout",
     "output_type": "stream",
     "text": [
      "0\n"
     ]
    }
   ],
   "source": [
    "print(agencias['data_abertura'].isnull().sum())"
   ]
  },
  {
   "cell_type": "markdown",
   "metadata": {},
   "source": [
    "### Distribuição das agências: Digital e Física"
   ]
  },
  {
   "cell_type": "code",
   "execution_count": 10,
   "metadata": {},
   "outputs": [
    {
     "name": "stdout",
     "output_type": "stream",
     "text": [
      "tipo_agencia\n",
      "Física     9\n",
      "Digital    1\n",
      "Name: count, dtype: int64\n"
     ]
    }
   ],
   "source": [
    "print(agencias['tipo_agencia'].value_counts())"
   ]
  },
  {
   "cell_type": "markdown",
   "metadata": {},
   "source": [
    "Há nove agências físicas e uma digital."
   ]
  },
  {
   "cell_type": "markdown",
   "metadata": {},
   "source": [
    "### Distribuição das agências: cidade e estado"
   ]
  },
  {
   "cell_type": "code",
   "execution_count": 11,
   "metadata": {},
   "outputs": [
    {
     "name": "stdout",
     "output_type": "stream",
     "text": [
      "cidade\n",
      "São Paulo         4\n",
      "Campinas          1\n",
      "Osasco            1\n",
      "Porto Alegre      1\n",
      "Rio de Janeiro    1\n",
      "Florianópolis     1\n",
      "Recife            1\n",
      "Name: count, dtype: int64\n",
      "uf\n",
      "SP    6\n",
      "RS    1\n",
      "RJ    1\n",
      "SC    1\n",
      "PE    1\n",
      "Name: count, dtype: int64\n"
     ]
    }
   ],
   "source": [
    "print(agencias['cidade'].value_counts())\n",
    "print(agencias['uf'].value_counts())"
   ]
  },
  {
   "cell_type": "markdown",
   "metadata": {},
   "source": [
    "A maioria das agências está localizada em São Paulo."
   ]
  },
  {
   "cell_type": "markdown",
   "metadata": {},
   "source": [
    "## Leitura e exploração do arquivo 'clientes.csv'"
   ]
  },
  {
   "cell_type": "code",
   "execution_count": 12,
   "metadata": {},
   "outputs": [
    {
     "data": {
      "text/html": [
       "<div>\n",
       "<style scoped>\n",
       "    .dataframe tbody tr th:only-of-type {\n",
       "        vertical-align: middle;\n",
       "    }\n",
       "\n",
       "    .dataframe tbody tr th {\n",
       "        vertical-align: top;\n",
       "    }\n",
       "\n",
       "    .dataframe thead th {\n",
       "        text-align: right;\n",
       "    }\n",
       "</style>\n",
       "<table border=\"1\" class=\"dataframe\">\n",
       "  <thead>\n",
       "    <tr style=\"text-align: right;\">\n",
       "      <th></th>\n",
       "      <th>cod_cliente</th>\n",
       "      <th>primeiro_nome</th>\n",
       "      <th>ultimo_nome</th>\n",
       "      <th>email</th>\n",
       "      <th>tipo_cliente</th>\n",
       "      <th>data_inclusao</th>\n",
       "      <th>cpfcnpj</th>\n",
       "      <th>data_nascimento</th>\n",
       "      <th>endereco</th>\n",
       "      <th>cep</th>\n",
       "    </tr>\n",
       "  </thead>\n",
       "  <tbody>\n",
       "    <tr>\n",
       "      <th>0</th>\n",
       "      <td>28</td>\n",
       "      <td>Sabrina</td>\n",
       "      <td>Dias</td>\n",
       "      <td>moreiraemanuelly@example.org</td>\n",
       "      <td>PF</td>\n",
       "      <td>2017-04-03 16:11:00 UTC</td>\n",
       "      <td>357.081.496-39</td>\n",
       "      <td>2006-08-11</td>\n",
       "      <td>Praia de Duarte Vila Piratininga 81327-166 Fer...</td>\n",
       "      <td>95140-704</td>\n",
       "    </tr>\n",
       "    <tr>\n",
       "      <th>1</th>\n",
       "      <td>674</td>\n",
       "      <td>Luiz Felipe</td>\n",
       "      <td>Dias</td>\n",
       "      <td>pedroferreira@example.org</td>\n",
       "      <td>PF</td>\n",
       "      <td>2021-02-10 13:27:00 UTC</td>\n",
       "      <td>085.196.374-93</td>\n",
       "      <td>1995-10-11</td>\n",
       "      <td>Avenida da Rosa, 654 João Paulo Ii 20295449 Nu...</td>\n",
       "      <td>76516-765</td>\n",
       "    </tr>\n",
       "    <tr>\n",
       "      <th>2</th>\n",
       "      <td>693</td>\n",
       "      <td>Renan</td>\n",
       "      <td>Dias</td>\n",
       "      <td>ogomes@example.net</td>\n",
       "      <td>PF</td>\n",
       "      <td>2020-01-21 13:12:00 UTC</td>\n",
       "      <td>783.416.059-10</td>\n",
       "      <td>1948-11-19</td>\n",
       "      <td>Jardim de Rodrigues Ipiranga 14161-477 Duarte ...</td>\n",
       "      <td>51779625</td>\n",
       "    </tr>\n",
       "    <tr>\n",
       "      <th>3</th>\n",
       "      <td>743</td>\n",
       "      <td>Clara</td>\n",
       "      <td>Dias</td>\n",
       "      <td>rafaelcorreia@example.org</td>\n",
       "      <td>PF</td>\n",
       "      <td>2019-05-06 11:39:00 UTC</td>\n",
       "      <td>589.237.610-95</td>\n",
       "      <td>1978-01-27</td>\n",
       "      <td>Colônia Thomas Silva, 9 Tupi B 15771-946 Ferna...</td>\n",
       "      <td>19615792</td>\n",
       "    </tr>\n",
       "    <tr>\n",
       "      <th>4</th>\n",
       "      <td>769</td>\n",
       "      <td>André</td>\n",
       "      <td>Dias</td>\n",
       "      <td>danilo33@example.org</td>\n",
       "      <td>PF</td>\n",
       "      <td>2017-01-07 14:53:00 UTC</td>\n",
       "      <td>459.608.721-02</td>\n",
       "      <td>1990-08-25</td>\n",
       "      <td>Rua Correia, 889 Diamante 59123250 Aragão / RS</td>\n",
       "      <td>01672838</td>\n",
       "    </tr>\n",
       "    <tr>\n",
       "      <th>...</th>\n",
       "      <td>...</td>\n",
       "      <td>...</td>\n",
       "      <td>...</td>\n",
       "      <td>...</td>\n",
       "      <td>...</td>\n",
       "      <td>...</td>\n",
       "      <td>...</td>\n",
       "      <td>...</td>\n",
       "      <td>...</td>\n",
       "      <td>...</td>\n",
       "    </tr>\n",
       "    <tr>\n",
       "      <th>993</th>\n",
       "      <td>730</td>\n",
       "      <td>Bárbara</td>\n",
       "      <td>da Conceição</td>\n",
       "      <td>enzo-gabrielcardoso@example.com</td>\n",
       "      <td>PF</td>\n",
       "      <td>2019-05-02 11:22:00 UTC</td>\n",
       "      <td>019.385.267-59</td>\n",
       "      <td>1966-03-06</td>\n",
       "      <td>Chácara de Martins, 85 Mantiqueira 26805-573 A...</td>\n",
       "      <td>08264521</td>\n",
       "    </tr>\n",
       "    <tr>\n",
       "      <th>994</th>\n",
       "      <td>772</td>\n",
       "      <td>Daniel</td>\n",
       "      <td>da Conceição</td>\n",
       "      <td>raquel97@example.com</td>\n",
       "      <td>PF</td>\n",
       "      <td>2017-06-08 11:13:00 UTC</td>\n",
       "      <td>240.581.396-33</td>\n",
       "      <td>1971-07-20</td>\n",
       "      <td>Pátio de Souza, 8 Vila Puc 47056676 Duarte / MS</td>\n",
       "      <td>55045-265</td>\n",
       "    </tr>\n",
       "    <tr>\n",
       "      <th>995</th>\n",
       "      <td>837</td>\n",
       "      <td>Theo</td>\n",
       "      <td>da Conceição</td>\n",
       "      <td>ninacastro@example.org</td>\n",
       "      <td>PF</td>\n",
       "      <td>2014-03-18 10:30:00 UTC</td>\n",
       "      <td>058.734.129-79</td>\n",
       "      <td>1944-06-03</td>\n",
       "      <td>Loteamento Pires, 4 Jardim Felicidade 69804-76...</td>\n",
       "      <td>88159-361</td>\n",
       "    </tr>\n",
       "    <tr>\n",
       "      <th>996</th>\n",
       "      <td>845</td>\n",
       "      <td>Pedro Lucas</td>\n",
       "      <td>da Conceição</td>\n",
       "      <td>silveirabruno@example.com</td>\n",
       "      <td>PF</td>\n",
       "      <td>2020-12-16 15:14:00 UTC</td>\n",
       "      <td>347.028.591-88</td>\n",
       "      <td>1943-12-12</td>\n",
       "      <td>Travessa Eloah Moura, 97 Alta Tensão 2ª Seção ...</td>\n",
       "      <td>36211-005</td>\n",
       "    </tr>\n",
       "    <tr>\n",
       "      <th>997</th>\n",
       "      <td>853</td>\n",
       "      <td>Milena</td>\n",
       "      <td>da Conceição</td>\n",
       "      <td>ribeirodanilo@example.net</td>\n",
       "      <td>PF</td>\n",
       "      <td>2020-11-21 11:32:00 UTC</td>\n",
       "      <td>870.534.912-50</td>\n",
       "      <td>1999-04-22</td>\n",
       "      <td>Feira de Vieira, 1 Planalto 31794137 Rodrigues...</td>\n",
       "      <td>15386938</td>\n",
       "    </tr>\n",
       "  </tbody>\n",
       "</table>\n",
       "<p>998 rows × 10 columns</p>\n",
       "</div>"
      ],
      "text/plain": [
       "     cod_cliente primeiro_nome   ultimo_nome                            email  \\\n",
       "0             28       Sabrina          Dias     moreiraemanuelly@example.org   \n",
       "1            674   Luiz Felipe          Dias        pedroferreira@example.org   \n",
       "2            693         Renan          Dias               ogomes@example.net   \n",
       "3            743         Clara          Dias        rafaelcorreia@example.org   \n",
       "4            769         André          Dias             danilo33@example.org   \n",
       "..           ...           ...           ...                              ...   \n",
       "993          730       Bárbara  da Conceição  enzo-gabrielcardoso@example.com   \n",
       "994          772        Daniel  da Conceição             raquel97@example.com   \n",
       "995          837          Theo  da Conceição           ninacastro@example.org   \n",
       "996          845   Pedro Lucas  da Conceição        silveirabruno@example.com   \n",
       "997          853        Milena  da Conceição        ribeirodanilo@example.net   \n",
       "\n",
       "    tipo_cliente            data_inclusao         cpfcnpj data_nascimento  \\\n",
       "0             PF  2017-04-03 16:11:00 UTC  357.081.496-39      2006-08-11   \n",
       "1             PF  2021-02-10 13:27:00 UTC  085.196.374-93      1995-10-11   \n",
       "2             PF  2020-01-21 13:12:00 UTC  783.416.059-10      1948-11-19   \n",
       "3             PF  2019-05-06 11:39:00 UTC  589.237.610-95      1978-01-27   \n",
       "4             PF  2017-01-07 14:53:00 UTC  459.608.721-02      1990-08-25   \n",
       "..           ...                      ...             ...             ...   \n",
       "993           PF  2019-05-02 11:22:00 UTC  019.385.267-59      1966-03-06   \n",
       "994           PF  2017-06-08 11:13:00 UTC  240.581.396-33      1971-07-20   \n",
       "995           PF  2014-03-18 10:30:00 UTC  058.734.129-79      1944-06-03   \n",
       "996           PF  2020-12-16 15:14:00 UTC  347.028.591-88      1943-12-12   \n",
       "997           PF  2020-11-21 11:32:00 UTC  870.534.912-50      1999-04-22   \n",
       "\n",
       "                                              endereco        cep  \n",
       "0    Praia de Duarte Vila Piratininga 81327-166 Fer...  95140-704  \n",
       "1    Avenida da Rosa, 654 João Paulo Ii 20295449 Nu...  76516-765  \n",
       "2    Jardim de Rodrigues Ipiranga 14161-477 Duarte ...   51779625  \n",
       "3    Colônia Thomas Silva, 9 Tupi B 15771-946 Ferna...   19615792  \n",
       "4       Rua Correia, 889 Diamante 59123250 Aragão / RS   01672838  \n",
       "..                                                 ...        ...  \n",
       "993  Chácara de Martins, 85 Mantiqueira 26805-573 A...   08264521  \n",
       "994    Pátio de Souza, 8 Vila Puc 47056676 Duarte / MS  55045-265  \n",
       "995  Loteamento Pires, 4 Jardim Felicidade 69804-76...  88159-361  \n",
       "996  Travessa Eloah Moura, 97 Alta Tensão 2ª Seção ...  36211-005  \n",
       "997  Feira de Vieira, 1 Planalto 31794137 Rodrigues...   15386938  \n",
       "\n",
       "[998 rows x 10 columns]"
      ]
     },
     "execution_count": 12,
     "metadata": {},
     "output_type": "execute_result"
    }
   ],
   "source": [
    "clientes = pd.read_csv('clientes.csv')\n",
    "clientes"
   ]
  },
  {
   "cell_type": "code",
   "execution_count": 13,
   "metadata": {},
   "outputs": [
    {
     "name": "stdout",
     "output_type": "stream",
     "text": [
      "<class 'pandas.core.frame.DataFrame'>\n",
      "RangeIndex: 998 entries, 0 to 997\n",
      "Data columns (total 10 columns):\n",
      " #   Column           Non-Null Count  Dtype \n",
      "---  ------           --------------  ----- \n",
      " 0   cod_cliente      998 non-null    int64 \n",
      " 1   primeiro_nome    998 non-null    object\n",
      " 2   ultimo_nome      998 non-null    object\n",
      " 3   email            998 non-null    object\n",
      " 4   tipo_cliente     998 non-null    object\n",
      " 5   data_inclusao    998 non-null    object\n",
      " 6   cpfcnpj          998 non-null    object\n",
      " 7   data_nascimento  998 non-null    object\n",
      " 8   endereco         998 non-null    object\n",
      " 9   cep              998 non-null    object\n",
      "dtypes: int64(1), object(9)\n",
      "memory usage: 78.1+ KB\n"
     ]
    }
   ],
   "source": [
    "clientes.info()"
   ]
  },
  {
   "cell_type": "markdown",
   "metadata": {},
   "source": [
    "#### Convertendo datas para o tipo datetime para análises temporais"
   ]
  },
  {
   "cell_type": "code",
   "execution_count": 14,
   "metadata": {},
   "outputs": [],
   "source": [
    "clientes['data_inclusao'] = pd.to_datetime(clientes['data_inclusao'])\n",
    "clientes['data_nascimento'] = pd.to_datetime(clientes['data_nascimento'])"
   ]
  },
  {
   "cell_type": "code",
   "execution_count": 15,
   "metadata": {},
   "outputs": [
    {
     "name": "stdout",
     "output_type": "stream",
     "text": [
      "datetime64[ns, UTC]\n",
      "datetime64[ns]\n"
     ]
    }
   ],
   "source": [
    "print(clientes['data_inclusao'].dtype)\n",
    "print(clientes['data_nascimento'].dtype)"
   ]
  },
  {
   "cell_type": "markdown",
   "metadata": {},
   "source": [
    "### Todos os clientes são pessoas físicas?"
   ]
  },
  {
   "cell_type": "code",
   "execution_count": 16,
   "metadata": {},
   "outputs": [
    {
     "data": {
      "text/plain": [
       "tipo_cliente\n",
       "PF    998\n",
       "Name: count, dtype: int64"
      ]
     },
     "execution_count": 16,
     "metadata": {},
     "output_type": "execute_result"
    }
   ],
   "source": [
    "tipo_cliente = clientes['tipo_cliente'].value_counts()\n",
    "tipo_cliente"
   ]
  },
  {
   "cell_type": "markdown",
   "metadata": {},
   "source": [
    "### Distribuição da quantidade de clientes por ano de inclusão"
   ]
  },
  {
   "cell_type": "code",
   "execution_count": 17,
   "metadata": {},
   "outputs": [
    {
     "name": "stdout",
     "output_type": "stream",
     "text": [
      "ano_inclusao\n",
      "2010     11\n",
      "2011     24\n",
      "2012     32\n",
      "2013     46\n",
      "2014     48\n",
      "2015     66\n",
      "2016     74\n",
      "2017     96\n",
      "2018    102\n",
      "2019    113\n",
      "2020    112\n",
      "2021    135\n",
      "2022    139\n",
      "Name: count, dtype: int64\n"
     ]
    }
   ],
   "source": [
    "clientes['ano_inclusao'] = clientes['data_inclusao'].dt.year\n",
    "ano_inclusao_counts = clientes['ano_inclusao'].value_counts().sort_index()\n",
    "print(ano_inclusao_counts)\n"
   ]
  },
  {
   "cell_type": "markdown",
   "metadata": {},
   "source": [
    "#### Visualização gráfica"
   ]
  },
  {
   "cell_type": "code",
   "execution_count": 18,
   "metadata": {},
   "outputs": [
    {
     "data": {
      "image/png": "[encoded data removed]",
      "text/plain": [
       "<Figure size 1000x600 with 1 Axes>"
      ]
     },
     "metadata": {},
     "output_type": "display_data"
    }
   ],
   "source": [
    "plt.figure(figsize=(10,6))\n",
    "sns.countplot(x='ano_inclusao', data=clientes, palette='viridis')\n",
    "plt.title('Quantidade de clientes por ano de inclusão')\n",
    "plt.xlabel('Ano de inclusão')\n",
    "plt.ylabel('Quantidade de clientes')\n",
    "plt.show()"
   ]
  },
  {
   "cell_type": "markdown",
   "metadata": {},
   "source": [
    "### Distribuição da quantidade de clientes por ano de nascimento"
   ]
  },
  {
   "cell_type": "code",
   "execution_count": 19,
   "metadata": {},
   "outputs": [
    {
     "name": "stdout",
     "output_type": "stream",
     "text": [
      "ano_nascimento\n",
      "1942    10\n",
      "1943    16\n",
      "1944    16\n",
      "1945    13\n",
      "1946    15\n",
      "        ..\n",
      "2003    16\n",
      "2004     8\n",
      "2005    19\n",
      "2006    17\n",
      "2007     6\n",
      "Name: count, Length: 66, dtype: int64\n"
     ]
    }
   ],
   "source": [
    "clientes['ano_nascimento'] = clientes['data_nascimento'].dt.year\n",
    "ano_nascimento_counts = clientes['ano_nascimento'].value_counts().sort_index()\n",
    "print(ano_nascimento_counts)"
   ]
  },
  {
   "cell_type": "markdown",
   "metadata": {},
   "source": [
    "Visualização gráfica de clientes por faixa etária"
   ]
  },
  {
   "cell_type": "code",
   "execution_count": 20,
   "metadata": {},
   "outputs": [],
   "source": [
    "def calcular_idade(data_nascimento, data_referencia):\n",
    "    idade = data_referencia.year - data_nascimento.year\n",
    "    if (data_referencia.month, data_referencia.day) < (data_nascimento.month, data_nascimento.day):\n",
    "        idade -= 1\n",
    "    return idade"
   ]
  },
  {
   "cell_type": "code",
   "execution_count": 21,
   "metadata": {},
   "outputs": [],
   "source": [
    "hoje = datetime.now()\n",
    "clientes['idade'] = clientes['data_nascimento'].apply(lambda x: calcular_idade(x, hoje))"
   ]
  },
  {
   "cell_type": "code",
   "execution_count": 22,
   "metadata": {},
   "outputs": [
    {
     "data": {
      "text/plain": [
       "17"
      ]
     },
     "execution_count": 22,
     "metadata": {},
     "output_type": "execute_result"
    }
   ],
   "source": [
    "menor_idade = clientes['idade'].min()\n",
    "menor_idade"
   ]
  },
  {
   "cell_type": "code",
   "execution_count": 23,
   "metadata": {},
   "outputs": [],
   "source": [
    "bins_clientes = [17, 25, 35, 45, 60, 100]\n",
    "labels_clientes = ['17-25', '26-35', '36-45', '46-60', '61+']\n",
    "\n",
    "clientes['faixa_etaria'] = pd.cut(clientes['idade'], bins=bins_clientes, labels=labels_clientes, right=True)"
   ]
  },
  {
   "cell_type": "code",
   "execution_count": 24,
   "metadata": {},
   "outputs": [
    {
     "name": "stdout",
     "output_type": "stream",
     "text": [
      "faixa_etaria\n",
      "17-25    124\n",
      "26-35    146\n",
      "36-45    157\n",
      "46-60    220\n",
      "61+      336\n",
      "Name: count, dtype: int64\n"
     ]
    }
   ],
   "source": [
    "faixa_etaria_qtd = clientes['faixa_etaria'].value_counts().sort_index()\n",
    "print(faixa_etaria_qtd)"
   ]
  },
  {
   "cell_type": "code",
   "execution_count": 25,
   "metadata": {},
   "outputs": [
    {
     "data": {
      "image/png": "[encoded data removed]",
      "text/plain": [
       "<Figure size 1000x600 with 1 Axes>"
      ]
     },
     "metadata": {},
     "output_type": "display_data"
    }
   ],
   "source": [
    "plt.figure(figsize=(10, 6))\n",
    "faixa_etaria_qtd.plot(kind='bar', color='skyblue')\n",
    "plt.title('Quantidade de clientes por faixa etária')\n",
    "plt.xlabel('Faixa etária')\n",
    "plt.ylabel('Quantidade de clientes')\n",
    "plt.xticks(rotation=45)\n",
    "plt.show()"
   ]
  },
  {
   "cell_type": "markdown",
   "metadata": {},
   "source": [
    "## Leitura e exploração do arquivo colaborador_agencia.csv"
   ]
  },
  {
   "cell_type": "code",
   "execution_count": 26,
   "metadata": {},
   "outputs": [
    {
     "data": {
      "text/html": [
       "<div>\n",
       "<style scoped>\n",
       "    .dataframe tbody tr th:only-of-type {\n",
       "        vertical-align: middle;\n",
       "    }\n",
       "\n",
       "    .dataframe tbody tr th {\n",
       "        vertical-align: top;\n",
       "    }\n",
       "\n",
       "    .dataframe thead th {\n",
       "        text-align: right;\n",
       "    }\n",
       "</style>\n",
       "<table border=\"1\" class=\"dataframe\">\n",
       "  <thead>\n",
       "    <tr style=\"text-align: right;\">\n",
       "      <th></th>\n",
       "      <th>cod_colaborador</th>\n",
       "      <th>cod_agencia</th>\n",
       "    </tr>\n",
       "  </thead>\n",
       "  <tbody>\n",
       "    <tr>\n",
       "      <th>0</th>\n",
       "      <td>7</td>\n",
       "      <td>1</td>\n",
       "    </tr>\n",
       "    <tr>\n",
       "      <th>1</th>\n",
       "      <td>13</td>\n",
       "      <td>1</td>\n",
       "    </tr>\n",
       "    <tr>\n",
       "      <th>2</th>\n",
       "      <td>14</td>\n",
       "      <td>1</td>\n",
       "    </tr>\n",
       "    <tr>\n",
       "      <th>3</th>\n",
       "      <td>23</td>\n",
       "      <td>1</td>\n",
       "    </tr>\n",
       "    <tr>\n",
       "      <th>4</th>\n",
       "      <td>24</td>\n",
       "      <td>1</td>\n",
       "    </tr>\n",
       "    <tr>\n",
       "      <th>...</th>\n",
       "      <td>...</td>\n",
       "      <td>...</td>\n",
       "    </tr>\n",
       "    <tr>\n",
       "      <th>95</th>\n",
       "      <td>82</td>\n",
       "      <td>10</td>\n",
       "    </tr>\n",
       "    <tr>\n",
       "      <th>96</th>\n",
       "      <td>89</td>\n",
       "      <td>10</td>\n",
       "    </tr>\n",
       "    <tr>\n",
       "      <th>97</th>\n",
       "      <td>95</td>\n",
       "      <td>10</td>\n",
       "    </tr>\n",
       "    <tr>\n",
       "      <th>98</th>\n",
       "      <td>99</td>\n",
       "      <td>10</td>\n",
       "    </tr>\n",
       "    <tr>\n",
       "      <th>99</th>\n",
       "      <td>100</td>\n",
       "      <td>10</td>\n",
       "    </tr>\n",
       "  </tbody>\n",
       "</table>\n",
       "<p>100 rows × 2 columns</p>\n",
       "</div>"
      ],
      "text/plain": [
       "    cod_colaborador  cod_agencia\n",
       "0                 7            1\n",
       "1                13            1\n",
       "2                14            1\n",
       "3                23            1\n",
       "4                24            1\n",
       "..              ...          ...\n",
       "95               82           10\n",
       "96               89           10\n",
       "97               95           10\n",
       "98               99           10\n",
       "99              100           10\n",
       "\n",
       "[100 rows x 2 columns]"
      ]
     },
     "execution_count": 26,
     "metadata": {},
     "output_type": "execute_result"
    }
   ],
   "source": [
    "colaborador_agencia = pd.read_csv('colaborador_agencia.csv')\n",
    "colaborador_agencia"
   ]
  },
  {
   "cell_type": "code",
   "execution_count": 27,
   "metadata": {},
   "outputs": [
    {
     "name": "stdout",
     "output_type": "stream",
     "text": [
      "<class 'pandas.core.frame.DataFrame'>\n",
      "RangeIndex: 100 entries, 0 to 99\n",
      "Data columns (total 2 columns):\n",
      " #   Column           Non-Null Count  Dtype\n",
      "---  ------           --------------  -----\n",
      " 0   cod_colaborador  100 non-null    int64\n",
      " 1   cod_agencia      100 non-null    int64\n",
      "dtypes: int64(2)\n",
      "memory usage: 1.7 KB\n"
     ]
    }
   ],
   "source": [
    "colaborador_agencia.info()"
   ]
  },
  {
   "cell_type": "markdown",
   "metadata": {},
   "source": [
    "Quantos colaboradores estão associados a cada agência?"
   ]
  },
  {
   "cell_type": "code",
   "execution_count": 28,
   "metadata": {},
   "outputs": [
    {
     "data": {
      "text/html": [
       "<div>\n",
       "<style scoped>\n",
       "    .dataframe tbody tr th:only-of-type {\n",
       "        vertical-align: middle;\n",
       "    }\n",
       "\n",
       "    .dataframe tbody tr th {\n",
       "        vertical-align: top;\n",
       "    }\n",
       "\n",
       "    .dataframe thead th {\n",
       "        text-align: right;\n",
       "    }\n",
       "</style>\n",
       "<table border=\"1\" class=\"dataframe\">\n",
       "  <thead>\n",
       "    <tr style=\"text-align: right;\">\n",
       "      <th></th>\n",
       "      <th>cod_colaborador</th>\n",
       "      <th>cod_agencia</th>\n",
       "    </tr>\n",
       "  </thead>\n",
       "  <tbody>\n",
       "    <tr>\n",
       "      <th>0</th>\n",
       "      <td>7</td>\n",
       "      <td>1</td>\n",
       "    </tr>\n",
       "    <tr>\n",
       "      <th>1</th>\n",
       "      <td>13</td>\n",
       "      <td>1</td>\n",
       "    </tr>\n",
       "    <tr>\n",
       "      <th>2</th>\n",
       "      <td>14</td>\n",
       "      <td>1</td>\n",
       "    </tr>\n",
       "    <tr>\n",
       "      <th>3</th>\n",
       "      <td>23</td>\n",
       "      <td>1</td>\n",
       "    </tr>\n",
       "    <tr>\n",
       "      <th>4</th>\n",
       "      <td>24</td>\n",
       "      <td>1</td>\n",
       "    </tr>\n",
       "    <tr>\n",
       "      <th>...</th>\n",
       "      <td>...</td>\n",
       "      <td>...</td>\n",
       "    </tr>\n",
       "    <tr>\n",
       "      <th>95</th>\n",
       "      <td>82</td>\n",
       "      <td>10</td>\n",
       "    </tr>\n",
       "    <tr>\n",
       "      <th>96</th>\n",
       "      <td>89</td>\n",
       "      <td>10</td>\n",
       "    </tr>\n",
       "    <tr>\n",
       "      <th>97</th>\n",
       "      <td>95</td>\n",
       "      <td>10</td>\n",
       "    </tr>\n",
       "    <tr>\n",
       "      <th>98</th>\n",
       "      <td>99</td>\n",
       "      <td>10</td>\n",
       "    </tr>\n",
       "    <tr>\n",
       "      <th>99</th>\n",
       "      <td>100</td>\n",
       "      <td>10</td>\n",
       "    </tr>\n",
       "  </tbody>\n",
       "</table>\n",
       "<p>100 rows × 2 columns</p>\n",
       "</div>"
      ],
      "text/plain": [
       "    cod_colaborador  cod_agencia\n",
       "0                 7            1\n",
       "1                13            1\n",
       "2                14            1\n",
       "3                23            1\n",
       "4                24            1\n",
       "..              ...          ...\n",
       "95               82           10\n",
       "96               89           10\n",
       "97               95           10\n",
       "98               99           10\n",
       "99              100           10\n",
       "\n",
       "[100 rows x 2 columns]"
      ]
     },
     "execution_count": 28,
     "metadata": {},
     "output_type": "execute_result"
    }
   ],
   "source": [
    "colaborador_por_agencia = colaborador_agencia['cod_agencia'].value_counts().sort_index()\n",
    "colaborador_agencia"
   ]
  },
  {
   "cell_type": "code",
   "execution_count": 29,
   "metadata": {},
   "outputs": [
    {
     "data": {
      "text/html": [
       "<div>\n",
       "<style scoped>\n",
       "    .dataframe tbody tr th:only-of-type {\n",
       "        vertical-align: middle;\n",
       "    }\n",
       "\n",
       "    .dataframe tbody tr th {\n",
       "        vertical-align: top;\n",
       "    }\n",
       "\n",
       "    .dataframe thead th {\n",
       "        text-align: right;\n",
       "    }\n",
       "</style>\n",
       "<table border=\"1\" class=\"dataframe\">\n",
       "  <thead>\n",
       "    <tr style=\"text-align: right;\">\n",
       "      <th></th>\n",
       "      <th>cod_colaborador</th>\n",
       "      <th>cod_agencia</th>\n",
       "    </tr>\n",
       "  </thead>\n",
       "  <tbody>\n",
       "    <tr>\n",
       "      <th>0</th>\n",
       "      <td>7</td>\n",
       "      <td>1</td>\n",
       "    </tr>\n",
       "    <tr>\n",
       "      <th>1</th>\n",
       "      <td>13</td>\n",
       "      <td>1</td>\n",
       "    </tr>\n",
       "    <tr>\n",
       "      <th>2</th>\n",
       "      <td>14</td>\n",
       "      <td>1</td>\n",
       "    </tr>\n",
       "    <tr>\n",
       "      <th>3</th>\n",
       "      <td>23</td>\n",
       "      <td>1</td>\n",
       "    </tr>\n",
       "    <tr>\n",
       "      <th>4</th>\n",
       "      <td>24</td>\n",
       "      <td>1</td>\n",
       "    </tr>\n",
       "    <tr>\n",
       "      <th>...</th>\n",
       "      <td>...</td>\n",
       "      <td>...</td>\n",
       "    </tr>\n",
       "    <tr>\n",
       "      <th>95</th>\n",
       "      <td>82</td>\n",
       "      <td>10</td>\n",
       "    </tr>\n",
       "    <tr>\n",
       "      <th>96</th>\n",
       "      <td>89</td>\n",
       "      <td>10</td>\n",
       "    </tr>\n",
       "    <tr>\n",
       "      <th>97</th>\n",
       "      <td>95</td>\n",
       "      <td>10</td>\n",
       "    </tr>\n",
       "    <tr>\n",
       "      <th>98</th>\n",
       "      <td>99</td>\n",
       "      <td>10</td>\n",
       "    </tr>\n",
       "    <tr>\n",
       "      <th>99</th>\n",
       "      <td>100</td>\n",
       "      <td>10</td>\n",
       "    </tr>\n",
       "  </tbody>\n",
       "</table>\n",
       "<p>100 rows × 2 columns</p>\n",
       "</div>"
      ],
      "text/plain": [
       "    cod_colaborador  cod_agencia\n",
       "0                 7            1\n",
       "1                13            1\n",
       "2                14            1\n",
       "3                23            1\n",
       "4                24            1\n",
       "..              ...          ...\n",
       "95               82           10\n",
       "96               89           10\n",
       "97               95           10\n",
       "98               99           10\n",
       "99              100           10\n",
       "\n",
       "[100 rows x 2 columns]"
      ]
     },
     "execution_count": 29,
     "metadata": {},
     "output_type": "execute_result"
    }
   ],
   "source": [
    "colaborador_por_agencia = colaborador_agencia['cod_agencia'].value_counts().sort_index()\n",
    "colaborador_agencia"
   ]
  },
  {
   "cell_type": "code",
   "execution_count": 30,
   "metadata": {},
   "outputs": [
    {
     "data": {
      "image/png": "[encoded data removed]",
      "text/plain": [
       "<Figure size 1000x600 with 1 Axes>"
      ]
     },
     "metadata": {},
     "output_type": "display_data"
    }
   ],
   "source": [
    "plt.figure(figsize=(10, 6))\n",
    "colaborador_por_agencia.plot(kind='bar', color='skyblue')\n",
    "plt.title('Quantidade de colaboradores por agência')\n",
    "plt.xlabel('Código da agência')\n",
    "plt.ylabel('Quantidade de colaboradores')\n",
    "plt.xticks(rotation=0)\n",
    "plt.show()"
   ]
  },
  {
   "cell_type": "markdown",
   "metadata": {},
   "source": [
    "Para exibir no gráfico o nome das agências é preciso juntas os df"
   ]
  },
  {
   "cell_type": "code",
   "execution_count": 31,
   "metadata": {},
   "outputs": [],
   "source": [
    "colaborador_por_agencia_merge = colaborador_agencia.merge(agencias, on='cod_agencia', how='left')"
   ]
  },
  {
   "cell_type": "code",
   "execution_count": 32,
   "metadata": {},
   "outputs": [
    {
     "data": {
      "text/html": [
       "<div>\n",
       "<style scoped>\n",
       "    .dataframe tbody tr th:only-of-type {\n",
       "        vertical-align: middle;\n",
       "    }\n",
       "\n",
       "    .dataframe tbody tr th {\n",
       "        vertical-align: top;\n",
       "    }\n",
       "\n",
       "    .dataframe thead th {\n",
       "        text-align: right;\n",
       "    }\n",
       "</style>\n",
       "<table border=\"1\" class=\"dataframe\">\n",
       "  <thead>\n",
       "    <tr style=\"text-align: right;\">\n",
       "      <th></th>\n",
       "      <th>cod_colaborador</th>\n",
       "      <th>cod_agencia</th>\n",
       "    </tr>\n",
       "  </thead>\n",
       "  <tbody>\n",
       "    <tr>\n",
       "      <th>0</th>\n",
       "      <td>7</td>\n",
       "      <td>1</td>\n",
       "    </tr>\n",
       "    <tr>\n",
       "      <th>1</th>\n",
       "      <td>13</td>\n",
       "      <td>1</td>\n",
       "    </tr>\n",
       "    <tr>\n",
       "      <th>2</th>\n",
       "      <td>14</td>\n",
       "      <td>1</td>\n",
       "    </tr>\n",
       "    <tr>\n",
       "      <th>3</th>\n",
       "      <td>23</td>\n",
       "      <td>1</td>\n",
       "    </tr>\n",
       "    <tr>\n",
       "      <th>4</th>\n",
       "      <td>24</td>\n",
       "      <td>1</td>\n",
       "    </tr>\n",
       "    <tr>\n",
       "      <th>...</th>\n",
       "      <td>...</td>\n",
       "      <td>...</td>\n",
       "    </tr>\n",
       "    <tr>\n",
       "      <th>95</th>\n",
       "      <td>82</td>\n",
       "      <td>10</td>\n",
       "    </tr>\n",
       "    <tr>\n",
       "      <th>96</th>\n",
       "      <td>89</td>\n",
       "      <td>10</td>\n",
       "    </tr>\n",
       "    <tr>\n",
       "      <th>97</th>\n",
       "      <td>95</td>\n",
       "      <td>10</td>\n",
       "    </tr>\n",
       "    <tr>\n",
       "      <th>98</th>\n",
       "      <td>99</td>\n",
       "      <td>10</td>\n",
       "    </tr>\n",
       "    <tr>\n",
       "      <th>99</th>\n",
       "      <td>100</td>\n",
       "      <td>10</td>\n",
       "    </tr>\n",
       "  </tbody>\n",
       "</table>\n",
       "<p>100 rows × 2 columns</p>\n",
       "</div>"
      ],
      "text/plain": [
       "    cod_colaborador  cod_agencia\n",
       "0                 7            1\n",
       "1                13            1\n",
       "2                14            1\n",
       "3                23            1\n",
       "4                24            1\n",
       "..              ...          ...\n",
       "95               82           10\n",
       "96               89           10\n",
       "97               95           10\n",
       "98               99           10\n",
       "99              100           10\n",
       "\n",
       "[100 rows x 2 columns]"
      ]
     },
     "execution_count": 32,
     "metadata": {},
     "output_type": "execute_result"
    }
   ],
   "source": [
    "colaborador_por_agencia = colaborador_por_agencia_merge['nome'].value_counts().sort_index()\n",
    "colaborador_agencia"
   ]
  },
  {
   "cell_type": "code",
   "execution_count": 33,
   "metadata": {},
   "outputs": [
    {
     "data": {
      "image/png": "[encoded data removed]",
      "text/plain": [
       "<Figure size 1000x600 with 1 Axes>"
      ]
     },
     "metadata": {},
     "output_type": "display_data"
    }
   ],
   "source": [
    "plt.figure(figsize=(10,6))\n",
    "colaborador_por_agencia.plot(kind='bar', color='skyblue')\n",
    "plt.title('Quantidade de colaboradores por agência')\n",
    "plt.xlabel('Agência')\n",
    "plt.ylabel('Quantidade de colaboradores')\n",
    "plt.xticks(rotation=45)\n",
    "plt.show()"
   ]
  },
  {
   "cell_type": "markdown",
   "metadata": {},
   "source": [
    "## Leitura e exploração do arquivo colaboradores.csv"
   ]
  },
  {
   "cell_type": "code",
   "execution_count": 34,
   "metadata": {},
   "outputs": [
    {
     "data": {
      "text/html": [
       "<div>\n",
       "<style scoped>\n",
       "    .dataframe tbody tr th:only-of-type {\n",
       "        vertical-align: middle;\n",
       "    }\n",
       "\n",
       "    .dataframe tbody tr th {\n",
       "        vertical-align: top;\n",
       "    }\n",
       "\n",
       "    .dataframe thead th {\n",
       "        text-align: right;\n",
       "    }\n",
       "</style>\n",
       "<table border=\"1\" class=\"dataframe\">\n",
       "  <thead>\n",
       "    <tr style=\"text-align: right;\">\n",
       "      <th></th>\n",
       "      <th>cod_colaborador</th>\n",
       "      <th>primeiro_nome</th>\n",
       "      <th>ultimo_nome</th>\n",
       "      <th>email</th>\n",
       "      <th>cpf</th>\n",
       "      <th>data_nascimento</th>\n",
       "      <th>endereco</th>\n",
       "      <th>cep</th>\n",
       "    </tr>\n",
       "  </thead>\n",
       "  <tbody>\n",
       "    <tr>\n",
       "      <th>0</th>\n",
       "      <td>14</td>\n",
       "      <td>Paulo</td>\n",
       "      <td>Dias</td>\n",
       "      <td>melissalopes@example.net</td>\n",
       "      <td>847.210.695-02</td>\n",
       "      <td>1974-04-24</td>\n",
       "      <td>Lagoa de Rodrigues, 62 Zilah Sposito 37328-273...</td>\n",
       "      <td>27275674</td>\n",
       "    </tr>\n",
       "    <tr>\n",
       "      <th>1</th>\n",
       "      <td>19</td>\n",
       "      <td>Luiz Fernando</td>\n",
       "      <td>Dias</td>\n",
       "      <td>pcunha@example.net</td>\n",
       "      <td>820.415.963-33</td>\n",
       "      <td>1994-07-10</td>\n",
       "      <td>Ladeira de Moreira, 82 Jardim Atlântico 27617-...</td>\n",
       "      <td>50013962</td>\n",
       "    </tr>\n",
       "    <tr>\n",
       "      <th>2</th>\n",
       "      <td>32</td>\n",
       "      <td>Vitor Hugo</td>\n",
       "      <td>Dias</td>\n",
       "      <td>aragaonicolas@example.net</td>\n",
       "      <td>936.172.548-37</td>\n",
       "      <td>1986-12-18</td>\n",
       "      <td>Área Sophie Moreira Maria Virgínia 71941-111 S...</td>\n",
       "      <td>08955-215</td>\n",
       "    </tr>\n",
       "    <tr>\n",
       "      <th>3</th>\n",
       "      <td>88</td>\n",
       "      <td>João Gabriel</td>\n",
       "      <td>Lima</td>\n",
       "      <td>luiz-otaviorezende@example.org</td>\n",
       "      <td>967.082.451-67</td>\n",
       "      <td>1994-10-19</td>\n",
       "      <td>Trevo Murilo Ramos, 92 São Benedito 73615-597 ...</td>\n",
       "      <td>24224-305</td>\n",
       "    </tr>\n",
       "    <tr>\n",
       "      <th>4</th>\n",
       "      <td>39</td>\n",
       "      <td>Maria Eduarda</td>\n",
       "      <td>Melo</td>\n",
       "      <td>joao-pedro72@example.com</td>\n",
       "      <td>857.496.210-49</td>\n",
       "      <td>1996-03-01</td>\n",
       "      <td>Parque de Moura, 65 Granja Werneck 67769059 da...</td>\n",
       "      <td>96896390</td>\n",
       "    </tr>\n",
       "    <tr>\n",
       "      <th>...</th>\n",
       "      <td>...</td>\n",
       "      <td>...</td>\n",
       "      <td>...</td>\n",
       "      <td>...</td>\n",
       "      <td>...</td>\n",
       "      <td>...</td>\n",
       "      <td>...</td>\n",
       "      <td>...</td>\n",
       "    </tr>\n",
       "    <tr>\n",
       "      <th>95</th>\n",
       "      <td>94</td>\n",
       "      <td>Melissa</td>\n",
       "      <td>Gonçalves</td>\n",
       "      <td>caldeirasamuel@example.com</td>\n",
       "      <td>825.670.139-03</td>\n",
       "      <td>1971-01-09</td>\n",
       "      <td>Largo de Pinto, 96 Vila Independencia 2ª Seção...</td>\n",
       "      <td>66939-843</td>\n",
       "    </tr>\n",
       "    <tr>\n",
       "      <th>96</th>\n",
       "      <td>28</td>\n",
       "      <td>Alexandre</td>\n",
       "      <td>Nascimento</td>\n",
       "      <td>olivia97@example.org</td>\n",
       "      <td>719.360.824-03</td>\n",
       "      <td>1992-01-12</td>\n",
       "      <td>Aeroporto Maria Cecília Rocha, 39 Serra Do Cur...</td>\n",
       "      <td>42178150</td>\n",
       "    </tr>\n",
       "    <tr>\n",
       "      <th>97</th>\n",
       "      <td>80</td>\n",
       "      <td>Clarice</td>\n",
       "      <td>Nascimento</td>\n",
       "      <td>lorena74@example.org</td>\n",
       "      <td>956.104.283-51</td>\n",
       "      <td>1995-12-01</td>\n",
       "      <td>Rua de da Mota, 7 Vila Mantiqueira 17429735 Je...</td>\n",
       "      <td>40016475</td>\n",
       "    </tr>\n",
       "    <tr>\n",
       "      <th>98</th>\n",
       "      <td>27</td>\n",
       "      <td>Marcela</td>\n",
       "      <td>da Conceição</td>\n",
       "      <td>mcosta@example.com</td>\n",
       "      <td>139.467.025-70</td>\n",
       "      <td>1963-05-14</td>\n",
       "      <td>Avenida de Campos, 513 Tres Marias 67624232 Co...</td>\n",
       "      <td>66423556</td>\n",
       "    </tr>\n",
       "    <tr>\n",
       "      <th>99</th>\n",
       "      <td>35</td>\n",
       "      <td>Ryan</td>\n",
       "      <td>da Conceição</td>\n",
       "      <td>giovannacavalcanti@example.net</td>\n",
       "      <td>342.506.918-70</td>\n",
       "      <td>1989-11-03</td>\n",
       "      <td>Estação de Rezende, 33 Vila Betânia 65202-821 ...</td>\n",
       "      <td>59741896</td>\n",
       "    </tr>\n",
       "  </tbody>\n",
       "</table>\n",
       "<p>100 rows × 8 columns</p>\n",
       "</div>"
      ],
      "text/plain": [
       "    cod_colaborador  primeiro_nome   ultimo_nome  \\\n",
       "0                14          Paulo          Dias   \n",
       "1                19  Luiz Fernando          Dias   \n",
       "2                32     Vitor Hugo          Dias   \n",
       "3                88   João Gabriel          Lima   \n",
       "4                39  Maria Eduarda          Melo   \n",
       "..              ...            ...           ...   \n",
       "95               94        Melissa     Gonçalves   \n",
       "96               28      Alexandre    Nascimento   \n",
       "97               80        Clarice    Nascimento   \n",
       "98               27        Marcela  da Conceição   \n",
       "99               35           Ryan  da Conceição   \n",
       "\n",
       "                             email             cpf data_nascimento  \\\n",
       "0         melissalopes@example.net  847.210.695-02      1974-04-24   \n",
       "1               pcunha@example.net  820.415.963-33      1994-07-10   \n",
       "2        aragaonicolas@example.net  936.172.548-37      1986-12-18   \n",
       "3   luiz-otaviorezende@example.org  967.082.451-67      1994-10-19   \n",
       "4         joao-pedro72@example.com  857.496.210-49      1996-03-01   \n",
       "..                             ...             ...             ...   \n",
       "95      caldeirasamuel@example.com  825.670.139-03      1971-01-09   \n",
       "96            olivia97@example.org  719.360.824-03      1992-01-12   \n",
       "97            lorena74@example.org  956.104.283-51      1995-12-01   \n",
       "98              mcosta@example.com  139.467.025-70      1963-05-14   \n",
       "99  giovannacavalcanti@example.net  342.506.918-70      1989-11-03   \n",
       "\n",
       "                                             endereco        cep  \n",
       "0   Lagoa de Rodrigues, 62 Zilah Sposito 37328-273...   27275674  \n",
       "1   Ladeira de Moreira, 82 Jardim Atlântico 27617-...   50013962  \n",
       "2   Área Sophie Moreira Maria Virgínia 71941-111 S...  08955-215  \n",
       "3   Trevo Murilo Ramos, 92 São Benedito 73615-597 ...  24224-305  \n",
       "4   Parque de Moura, 65 Granja Werneck 67769059 da...   96896390  \n",
       "..                                                ...        ...  \n",
       "95  Largo de Pinto, 96 Vila Independencia 2ª Seção...  66939-843  \n",
       "96  Aeroporto Maria Cecília Rocha, 39 Serra Do Cur...   42178150  \n",
       "97  Rua de da Mota, 7 Vila Mantiqueira 17429735 Je...   40016475  \n",
       "98  Avenida de Campos, 513 Tres Marias 67624232 Co...   66423556  \n",
       "99  Estação de Rezende, 33 Vila Betânia 65202-821 ...   59741896  \n",
       "\n",
       "[100 rows x 8 columns]"
      ]
     },
     "execution_count": 34,
     "metadata": {},
     "output_type": "execute_result"
    }
   ],
   "source": [
    "colaboradores = pd.read_csv('colaboradores.csv')\n",
    "colaboradores"
   ]
  },
  {
   "cell_type": "code",
   "execution_count": 35,
   "metadata": {},
   "outputs": [
    {
     "name": "stdout",
     "output_type": "stream",
     "text": [
      "<class 'pandas.core.frame.DataFrame'>\n",
      "RangeIndex: 100 entries, 0 to 99\n",
      "Data columns (total 8 columns):\n",
      " #   Column           Non-Null Count  Dtype \n",
      "---  ------           --------------  ----- \n",
      " 0   cod_colaborador  100 non-null    int64 \n",
      " 1   primeiro_nome    100 non-null    object\n",
      " 2   ultimo_nome      100 non-null    object\n",
      " 3   email            100 non-null    object\n",
      " 4   cpf              100 non-null    object\n",
      " 5   data_nascimento  100 non-null    object\n",
      " 6   endereco         100 non-null    object\n",
      " 7   cep              100 non-null    object\n",
      "dtypes: int64(1), object(7)\n",
      "memory usage: 6.4+ KB\n"
     ]
    }
   ],
   "source": [
    "colaboradores.info()"
   ]
  },
  {
   "cell_type": "code",
   "execution_count": 36,
   "metadata": {},
   "outputs": [
    {
     "name": "stdout",
     "output_type": "stream",
     "text": [
      "<class 'pandas.core.frame.DataFrame'>\n",
      "RangeIndex: 100 entries, 0 to 99\n",
      "Data columns (total 8 columns):\n",
      " #   Column           Non-Null Count  Dtype         \n",
      "---  ------           --------------  -----         \n",
      " 0   cod_colaborador  100 non-null    int64         \n",
      " 1   primeiro_nome    100 non-null    object        \n",
      " 2   ultimo_nome      100 non-null    object        \n",
      " 3   email            100 non-null    object        \n",
      " 4   cpf              100 non-null    object        \n",
      " 5   data_nascimento  100 non-null    datetime64[ns]\n",
      " 6   endereco         100 non-null    object        \n",
      " 7   cep              100 non-null    object        \n",
      "dtypes: datetime64[ns](1), int64(1), object(6)\n",
      "memory usage: 6.4+ KB\n"
     ]
    }
   ],
   "source": [
    "colaboradores['data_nascimento'] = pd.to_datetime(colaboradores['data_nascimento'])\n",
    "colaboradores.info()"
   ]
  },
  {
   "cell_type": "code",
   "execution_count": 37,
   "metadata": {},
   "outputs": [],
   "source": [
    "colaboradores['idade'] = colaboradores['data_nascimento'].apply(lambda x: calcular_idade(x, hoje))"
   ]
  },
  {
   "cell_type": "code",
   "execution_count": 38,
   "metadata": {},
   "outputs": [
    {
     "name": "stdout",
     "output_type": "stream",
     "text": [
      "count    100.000000\n",
      "mean      43.590000\n",
      "std       10.836801\n",
      "min       26.000000\n",
      "25%       33.000000\n",
      "50%       45.000000\n",
      "75%       53.250000\n",
      "max       61.000000\n",
      "Name: idade, dtype: float64\n"
     ]
    }
   ],
   "source": [
    "print(colaboradores['idade'].describe())"
   ]
  },
  {
   "cell_type": "code",
   "execution_count": 39,
   "metadata": {},
   "outputs": [],
   "source": [
    "bins = [25, 35, 45, 55, 65]\n",
    "labels = ['26-35', '36-45', '46-55', '56+' ]\n",
    "\n",
    "colaboradores['faixa_etaria'] = pd.cut(colaboradores['idade'], bins=bins, labels=labels, right=True)"
   ]
  },
  {
   "cell_type": "code",
   "execution_count": 40,
   "metadata": {},
   "outputs": [],
   "source": [
    "faixa_etaria_qtd = colaboradores['faixa_etaria'].value_counts().sort_index()"
   ]
  },
  {
   "cell_type": "code",
   "execution_count": 41,
   "metadata": {},
   "outputs": [
    {
     "data": {
      "image/png": "[encoded data removed]",
      "text/plain": [
       "<Figure size 1000x600 with 1 Axes>"
      ]
     },
     "metadata": {},
     "output_type": "display_data"
    }
   ],
   "source": [
    "plt.figure(figsize=(10, 6))\n",
    "faixa_etaria_qtd.plot(kind='bar', color='skyblue')\n",
    "plt.title('Quantidade de colaboradores por faixa etária')\n",
    "plt.xlabel('Faixa Etária')\n",
    "plt.ylabel('Quantidade de colaboradores')\n",
    "plt.xticks(rotation=45)\n",
    "plt.show()"
   ]
  },
  {
   "cell_type": "code",
   "execution_count": null,
   "metadata": {},
   "outputs": [],
   "source": []
  },
  {
   "cell_type": "markdown",
   "metadata": {},
   "source": [
    "## Leitura e exploração do arquivo contas.csv"
   ]
  },
  {
   "cell_type": "code",
   "execution_count": 42,
   "metadata": {},
   "outputs": [
    {
     "data": {
      "text/html": [
       "<div>\n",
       "<style scoped>\n",
       "    .dataframe tbody tr th:only-of-type {\n",
       "        vertical-align: middle;\n",
       "    }\n",
       "\n",
       "    .dataframe tbody tr th {\n",
       "        vertical-align: top;\n",
       "    }\n",
       "\n",
       "    .dataframe thead th {\n",
       "        text-align: right;\n",
       "    }\n",
       "</style>\n",
       "<table border=\"1\" class=\"dataframe\">\n",
       "  <thead>\n",
       "    <tr style=\"text-align: right;\">\n",
       "      <th></th>\n",
       "      <th>num_conta</th>\n",
       "      <th>cod_cliente</th>\n",
       "      <th>cod_agencia</th>\n",
       "      <th>cod_colaborador</th>\n",
       "      <th>tipo_conta</th>\n",
       "      <th>data_abertura</th>\n",
       "      <th>saldo_total</th>\n",
       "      <th>saldo_disponivel</th>\n",
       "      <th>data_ultimo_lancamento</th>\n",
       "    </tr>\n",
       "  </thead>\n",
       "  <tbody>\n",
       "    <tr>\n",
       "      <th>0</th>\n",
       "      <td>53</td>\n",
       "      <td>53</td>\n",
       "      <td>1</td>\n",
       "      <td>7</td>\n",
       "      <td>PF</td>\n",
       "      <td>2011-05-24 15:30:00 UTC</td>\n",
       "      <td>2984.7615</td>\n",
       "      <td>2814.67</td>\n",
       "      <td>2019-07-02 11:03:46 UTC</td>\n",
       "    </tr>\n",
       "    <tr>\n",
       "      <th>1</th>\n",
       "      <td>190</td>\n",
       "      <td>190</td>\n",
       "      <td>1</td>\n",
       "      <td>7</td>\n",
       "      <td>PF</td>\n",
       "      <td>2014-10-17 14:48:00 UTC</td>\n",
       "      <td>4262.4322</td>\n",
       "      <td>4191.86</td>\n",
       "      <td>2021-03-25 12:00:15 UTC</td>\n",
       "    </tr>\n",
       "    <tr>\n",
       "      <th>2</th>\n",
       "      <td>191</td>\n",
       "      <td>191</td>\n",
       "      <td>1</td>\n",
       "      <td>7</td>\n",
       "      <td>PF</td>\n",
       "      <td>2013-03-23 14:14:00 UTC</td>\n",
       "      <td>3266.5680</td>\n",
       "      <td>3080.71</td>\n",
       "      <td>2016-09-09 23:34:15 UTC</td>\n",
       "    </tr>\n",
       "    <tr>\n",
       "      <th>3</th>\n",
       "      <td>203</td>\n",
       "      <td>203</td>\n",
       "      <td>1</td>\n",
       "      <td>7</td>\n",
       "      <td>PF</td>\n",
       "      <td>2016-08-03 16:13:00 UTC</td>\n",
       "      <td>21241.5424</td>\n",
       "      <td>19461.56</td>\n",
       "      <td>2022-12-28 07:58:24 UTC</td>\n",
       "    </tr>\n",
       "    <tr>\n",
       "      <th>4</th>\n",
       "      <td>254</td>\n",
       "      <td>254</td>\n",
       "      <td>1</td>\n",
       "      <td>7</td>\n",
       "      <td>PF</td>\n",
       "      <td>2012-10-24 13:48:00 UTC</td>\n",
       "      <td>13335.6966</td>\n",
       "      <td>13197.54</td>\n",
       "      <td>2013-12-20 22:20:00 UTC</td>\n",
       "    </tr>\n",
       "    <tr>\n",
       "      <th>...</th>\n",
       "      <td>...</td>\n",
       "      <td>...</td>\n",
       "      <td>...</td>\n",
       "      <td>...</td>\n",
       "      <td>...</td>\n",
       "      <td>...</td>\n",
       "      <td>...</td>\n",
       "      <td>...</td>\n",
       "      <td>...</td>\n",
       "    </tr>\n",
       "    <tr>\n",
       "      <th>994</th>\n",
       "      <td>466</td>\n",
       "      <td>466</td>\n",
       "      <td>10</td>\n",
       "      <td>8</td>\n",
       "      <td>PF</td>\n",
       "      <td>2022-10-26 14:13:00 UTC</td>\n",
       "      <td>7847.4165</td>\n",
       "      <td>9351.63</td>\n",
       "      <td>2022-12-30 00:00:00.319185 UTC</td>\n",
       "    </tr>\n",
       "    <tr>\n",
       "      <th>995</th>\n",
       "      <td>764</td>\n",
       "      <td>764</td>\n",
       "      <td>10</td>\n",
       "      <td>8</td>\n",
       "      <td>PF</td>\n",
       "      <td>2022-09-08 11:06:00 UTC</td>\n",
       "      <td>65495.1872</td>\n",
       "      <td>64823.14</td>\n",
       "      <td>2022-12-29 23:59:59.964121 UTC</td>\n",
       "    </tr>\n",
       "    <tr>\n",
       "      <th>996</th>\n",
       "      <td>488</td>\n",
       "      <td>488</td>\n",
       "      <td>10</td>\n",
       "      <td>18</td>\n",
       "      <td>PF</td>\n",
       "      <td>2022-07-16 10:16:00 UTC</td>\n",
       "      <td>8663.6081</td>\n",
       "      <td>6836.57</td>\n",
       "      <td>2022-12-30 00:00:00.966349 UTC</td>\n",
       "    </tr>\n",
       "    <tr>\n",
       "      <th>997</th>\n",
       "      <td>395</td>\n",
       "      <td>395</td>\n",
       "      <td>10</td>\n",
       "      <td>95</td>\n",
       "      <td>PF</td>\n",
       "      <td>2022-12-01 15:27:00 UTC</td>\n",
       "      <td>23156.2065</td>\n",
       "      <td>21578.33</td>\n",
       "      <td>2022-12-30 00:00:00.607818 UTC</td>\n",
       "    </tr>\n",
       "    <tr>\n",
       "      <th>998</th>\n",
       "      <td>355</td>\n",
       "      <td>355</td>\n",
       "      <td>10</td>\n",
       "      <td>100</td>\n",
       "      <td>PF</td>\n",
       "      <td>2022-10-22 14:50:00 UTC</td>\n",
       "      <td>10680.1524</td>\n",
       "      <td>10336.34</td>\n",
       "      <td>2022-12-29 23:59:59.739032 UTC</td>\n",
       "    </tr>\n",
       "  </tbody>\n",
       "</table>\n",
       "<p>999 rows × 9 columns</p>\n",
       "</div>"
      ],
      "text/plain": [
       "     num_conta  cod_cliente  cod_agencia  cod_colaborador tipo_conta  \\\n",
       "0           53           53            1                7         PF   \n",
       "1          190          190            1                7         PF   \n",
       "2          191          191            1                7         PF   \n",
       "3          203          203            1                7         PF   \n",
       "4          254          254            1                7         PF   \n",
       "..         ...          ...          ...              ...        ...   \n",
       "994        466          466           10                8         PF   \n",
       "995        764          764           10                8         PF   \n",
       "996        488          488           10               18         PF   \n",
       "997        395          395           10               95         PF   \n",
       "998        355          355           10              100         PF   \n",
       "\n",
       "               data_abertura  saldo_total  saldo_disponivel  \\\n",
       "0    2011-05-24 15:30:00 UTC    2984.7615           2814.67   \n",
       "1    2014-10-17 14:48:00 UTC    4262.4322           4191.86   \n",
       "2    2013-03-23 14:14:00 UTC    3266.5680           3080.71   \n",
       "3    2016-08-03 16:13:00 UTC   21241.5424          19461.56   \n",
       "4    2012-10-24 13:48:00 UTC   13335.6966          13197.54   \n",
       "..                       ...          ...               ...   \n",
       "994  2022-10-26 14:13:00 UTC    7847.4165           9351.63   \n",
       "995  2022-09-08 11:06:00 UTC   65495.1872          64823.14   \n",
       "996  2022-07-16 10:16:00 UTC    8663.6081           6836.57   \n",
       "997  2022-12-01 15:27:00 UTC   23156.2065          21578.33   \n",
       "998  2022-10-22 14:50:00 UTC   10680.1524          10336.34   \n",
       "\n",
       "             data_ultimo_lancamento  \n",
       "0           2019-07-02 11:03:46 UTC  \n",
       "1           2021-03-25 12:00:15 UTC  \n",
       "2           2016-09-09 23:34:15 UTC  \n",
       "3           2022-12-28 07:58:24 UTC  \n",
       "4           2013-12-20 22:20:00 UTC  \n",
       "..                              ...  \n",
       "994  2022-12-30 00:00:00.319185 UTC  \n",
       "995  2022-12-29 23:59:59.964121 UTC  \n",
       "996  2022-12-30 00:00:00.966349 UTC  \n",
       "997  2022-12-30 00:00:00.607818 UTC  \n",
       "998  2022-12-29 23:59:59.739032 UTC  \n",
       "\n",
       "[999 rows x 9 columns]"
      ]
     },
     "execution_count": 42,
     "metadata": {},
     "output_type": "execute_result"
    }
   ],
   "source": [
    "contas = pd.read_csv('contas.csv')\n",
    "contas"
   ]
  },
  {
   "cell_type": "code",
   "execution_count": 43,
   "metadata": {},
   "outputs": [
    {
     "name": "stdout",
     "output_type": "stream",
     "text": [
      "<class 'pandas.core.frame.DataFrame'>\n",
      "RangeIndex: 999 entries, 0 to 998\n",
      "Data columns (total 9 columns):\n",
      " #   Column                  Non-Null Count  Dtype  \n",
      "---  ------                  --------------  -----  \n",
      " 0   num_conta               999 non-null    int64  \n",
      " 1   cod_cliente             999 non-null    int64  \n",
      " 2   cod_agencia             999 non-null    int64  \n",
      " 3   cod_colaborador         999 non-null    int64  \n",
      " 4   tipo_conta              999 non-null    object \n",
      " 5   data_abertura           999 non-null    object \n",
      " 6   saldo_total             999 non-null    float64\n",
      " 7   saldo_disponivel        999 non-null    float64\n",
      " 8   data_ultimo_lancamento  999 non-null    object \n",
      "dtypes: float64(2), int64(4), object(3)\n",
      "memory usage: 70.4+ KB\n"
     ]
    }
   ],
   "source": [
    "contas.info()"
   ]
  },
  {
   "cell_type": "code",
   "execution_count": 44,
   "metadata": {},
   "outputs": [
    {
     "data": {
      "text/html": [
       "<div>\n",
       "<style scoped>\n",
       "    .dataframe tbody tr th:only-of-type {\n",
       "        vertical-align: middle;\n",
       "    }\n",
       "\n",
       "    .dataframe tbody tr th {\n",
       "        vertical-align: top;\n",
       "    }\n",
       "\n",
       "    .dataframe thead th {\n",
       "        text-align: right;\n",
       "    }\n",
       "</style>\n",
       "<table border=\"1\" class=\"dataframe\">\n",
       "  <thead>\n",
       "    <tr style=\"text-align: right;\">\n",
       "      <th></th>\n",
       "      <th>num_conta</th>\n",
       "      <th>cod_cliente</th>\n",
       "      <th>cod_agencia</th>\n",
       "      <th>cod_colaborador</th>\n",
       "      <th>tipo_conta</th>\n",
       "      <th>data_abertura</th>\n",
       "      <th>saldo_total</th>\n",
       "      <th>saldo_disponivel</th>\n",
       "      <th>data_ultimo_lancamento</th>\n",
       "    </tr>\n",
       "  </thead>\n",
       "  <tbody>\n",
       "    <tr>\n",
       "      <th>0</th>\n",
       "      <td>53</td>\n",
       "      <td>53</td>\n",
       "      <td>1</td>\n",
       "      <td>7</td>\n",
       "      <td>PF</td>\n",
       "      <td>2011-05-24 15:30:00 UTC</td>\n",
       "      <td>2984.7615</td>\n",
       "      <td>2814.67</td>\n",
       "      <td>2019-07-02 11:03:46 UTC</td>\n",
       "    </tr>\n",
       "    <tr>\n",
       "      <th>1</th>\n",
       "      <td>190</td>\n",
       "      <td>190</td>\n",
       "      <td>1</td>\n",
       "      <td>7</td>\n",
       "      <td>PF</td>\n",
       "      <td>2014-10-17 14:48:00 UTC</td>\n",
       "      <td>4262.4322</td>\n",
       "      <td>4191.86</td>\n",
       "      <td>2021-03-25 12:00:15 UTC</td>\n",
       "    </tr>\n",
       "    <tr>\n",
       "      <th>2</th>\n",
       "      <td>191</td>\n",
       "      <td>191</td>\n",
       "      <td>1</td>\n",
       "      <td>7</td>\n",
       "      <td>PF</td>\n",
       "      <td>2013-03-23 14:14:00 UTC</td>\n",
       "      <td>3266.5680</td>\n",
       "      <td>3080.71</td>\n",
       "      <td>2016-09-09 23:34:15 UTC</td>\n",
       "    </tr>\n",
       "    <tr>\n",
       "      <th>3</th>\n",
       "      <td>203</td>\n",
       "      <td>203</td>\n",
       "      <td>1</td>\n",
       "      <td>7</td>\n",
       "      <td>PF</td>\n",
       "      <td>2016-08-03 16:13:00 UTC</td>\n",
       "      <td>21241.5424</td>\n",
       "      <td>19461.56</td>\n",
       "      <td>2022-12-28 07:58:24 UTC</td>\n",
       "    </tr>\n",
       "    <tr>\n",
       "      <th>4</th>\n",
       "      <td>254</td>\n",
       "      <td>254</td>\n",
       "      <td>1</td>\n",
       "      <td>7</td>\n",
       "      <td>PF</td>\n",
       "      <td>2012-10-24 13:48:00 UTC</td>\n",
       "      <td>13335.6966</td>\n",
       "      <td>13197.54</td>\n",
       "      <td>2013-12-20 22:20:00 UTC</td>\n",
       "    </tr>\n",
       "  </tbody>\n",
       "</table>\n",
       "</div>"
      ],
      "text/plain": [
       "   num_conta  cod_cliente  cod_agencia  cod_colaborador tipo_conta  \\\n",
       "0         53           53            1                7         PF   \n",
       "1        190          190            1                7         PF   \n",
       "2        191          191            1                7         PF   \n",
       "3        203          203            1                7         PF   \n",
       "4        254          254            1                7         PF   \n",
       "\n",
       "             data_abertura  saldo_total  saldo_disponivel  \\\n",
       "0  2011-05-24 15:30:00 UTC    2984.7615           2814.67   \n",
       "1  2014-10-17 14:48:00 UTC    4262.4322           4191.86   \n",
       "2  2013-03-23 14:14:00 UTC    3266.5680           3080.71   \n",
       "3  2016-08-03 16:13:00 UTC   21241.5424          19461.56   \n",
       "4  2012-10-24 13:48:00 UTC   13335.6966          13197.54   \n",
       "\n",
       "    data_ultimo_lancamento  \n",
       "0  2019-07-02 11:03:46 UTC  \n",
       "1  2021-03-25 12:00:15 UTC  \n",
       "2  2016-09-09 23:34:15 UTC  \n",
       "3  2022-12-28 07:58:24 UTC  \n",
       "4  2013-12-20 22:20:00 UTC  "
      ]
     },
     "execution_count": 44,
     "metadata": {},
     "output_type": "execute_result"
    }
   ],
   "source": [
    "contas.head()"
   ]
  },
  {
   "cell_type": "code",
   "execution_count": 45,
   "metadata": {},
   "outputs": [
    {
     "data": {
      "text/html": [
       "<div>\n",
       "<style scoped>\n",
       "    .dataframe tbody tr th:only-of-type {\n",
       "        vertical-align: middle;\n",
       "    }\n",
       "\n",
       "    .dataframe tbody tr th {\n",
       "        vertical-align: top;\n",
       "    }\n",
       "\n",
       "    .dataframe thead th {\n",
       "        text-align: right;\n",
       "    }\n",
       "</style>\n",
       "<table border=\"1\" class=\"dataframe\">\n",
       "  <thead>\n",
       "    <tr style=\"text-align: right;\">\n",
       "      <th></th>\n",
       "      <th>saldo_total</th>\n",
       "      <th>saldo_disponivel</th>\n",
       "    </tr>\n",
       "  </thead>\n",
       "  <tbody>\n",
       "    <tr>\n",
       "      <th>count</th>\n",
       "      <td>999.000000</td>\n",
       "      <td>999.000000</td>\n",
       "    </tr>\n",
       "    <tr>\n",
       "      <th>mean</th>\n",
       "      <td>26543.407216</td>\n",
       "      <td>25731.185586</td>\n",
       "    </tr>\n",
       "    <tr>\n",
       "      <th>std</th>\n",
       "      <td>41872.096136</td>\n",
       "      <td>40288.019468</td>\n",
       "    </tr>\n",
       "    <tr>\n",
       "      <th>min</th>\n",
       "      <td>1.221000</td>\n",
       "      <td>0.600000</td>\n",
       "    </tr>\n",
       "    <tr>\n",
       "      <th>25%</th>\n",
       "      <td>938.142000</td>\n",
       "      <td>918.485000</td>\n",
       "    </tr>\n",
       "    <tr>\n",
       "      <th>50%</th>\n",
       "      <td>11668.146700</td>\n",
       "      <td>11325.960000</td>\n",
       "    </tr>\n",
       "    <tr>\n",
       "      <th>75%</th>\n",
       "      <td>35410.108600</td>\n",
       "      <td>33926.210000</td>\n",
       "    </tr>\n",
       "    <tr>\n",
       "      <th>max</th>\n",
       "      <td>419923.177800</td>\n",
       "      <td>411617.060000</td>\n",
       "    </tr>\n",
       "  </tbody>\n",
       "</table>\n",
       "</div>"
      ],
      "text/plain": [
       "         saldo_total  saldo_disponivel\n",
       "count     999.000000        999.000000\n",
       "mean    26543.407216      25731.185586\n",
       "std     41872.096136      40288.019468\n",
       "min         1.221000          0.600000\n",
       "25%       938.142000        918.485000\n",
       "50%     11668.146700      11325.960000\n",
       "75%     35410.108600      33926.210000\n",
       "max    419923.177800     411617.060000"
      ]
     },
     "execution_count": 45,
     "metadata": {},
     "output_type": "execute_result"
    }
   ],
   "source": [
    "contas[['saldo_total', 'saldo_disponivel']].describe()"
   ]
  },
  {
   "cell_type": "code",
   "execution_count": 46,
   "metadata": {},
   "outputs": [
    {
     "data": {
      "text/plain": [
       "tipo_conta\n",
       "PF    999\n",
       "Name: count, dtype: int64"
      ]
     },
     "execution_count": 46,
     "metadata": {},
     "output_type": "execute_result"
    }
   ],
   "source": [
    "contas['tipo_conta'].value_counts()"
   ]
  },
  {
   "cell_type": "code",
   "execution_count": 47,
   "metadata": {},
   "outputs": [],
   "source": [
    "contas['data_abertura'] = pd.to_datetime(contas['data_abertura'], errors='coerce')\n",
    "contas['data_ultimo_lancamento'] = pd.to_datetime(contas['data_ultimo_lancamento'], errors='coerce')"
   ]
  },
  {
   "cell_type": "code",
   "execution_count": 48,
   "metadata": {},
   "outputs": [
    {
     "name": "stdout",
     "output_type": "stream",
     "text": [
      "<class 'pandas.core.frame.DataFrame'>\n",
      "RangeIndex: 999 entries, 0 to 998\n",
      "Data columns (total 9 columns):\n",
      " #   Column                  Non-Null Count  Dtype              \n",
      "---  ------                  --------------  -----              \n",
      " 0   num_conta               999 non-null    int64              \n",
      " 1   cod_cliente             999 non-null    int64              \n",
      " 2   cod_agencia             999 non-null    int64              \n",
      " 3   cod_colaborador         999 non-null    int64              \n",
      " 4   tipo_conta              999 non-null    object             \n",
      " 5   data_abertura           999 non-null    datetime64[ns, UTC]\n",
      " 6   saldo_total             999 non-null    float64            \n",
      " 7   saldo_disponivel        999 non-null    float64            \n",
      " 8   data_ultimo_lancamento  478 non-null    datetime64[ns, UTC]\n",
      "dtypes: datetime64[ns, UTC](2), float64(2), int64(4), object(1)\n",
      "memory usage: 70.4+ KB\n"
     ]
    }
   ],
   "source": [
    "contas.info()"
   ]
  },
  {
   "cell_type": "code",
   "execution_count": 49,
   "metadata": {},
   "outputs": [
    {
     "name": "stdout",
     "output_type": "stream",
     "text": [
      "Index(['cod_cliente', 'primeiro_nome', 'ultimo_nome', 'email', 'tipo_cliente',\n",
      "       'data_inclusao', 'cpfcnpj', 'data_nascimento', 'endereco', 'cep',\n",
      "       'ano_inclusao', 'ano_nascimento', 'idade', 'faixa_etaria'],\n",
      "      dtype='object')\n",
      "Index(['cod_agencia', 'nome', 'endereco', 'cidade', 'uf', 'data_abertura',\n",
      "       'tipo_agencia', 'ano_abertura'],\n",
      "      dtype='object')\n",
      "Index(['cod_colaborador', 'primeiro_nome', 'ultimo_nome', 'email', 'cpf',\n",
      "       'data_nascimento', 'endereco', 'cep', 'idade', 'faixa_etaria'],\n",
      "      dtype='object')\n",
      "Index(['num_conta', 'cod_cliente', 'cod_agencia', 'cod_colaborador',\n",
      "       'tipo_conta', 'data_abertura', 'saldo_total', 'saldo_disponivel',\n",
      "       'data_ultimo_lancamento'],\n",
      "      dtype='object')\n"
     ]
    }
   ],
   "source": [
    "print(clientes.columns)\n",
    "print(agencias.columns)\n",
    "print(colaboradores.columns)\n",
    "print(contas.columns)"
   ]
  },
  {
   "cell_type": "code",
   "execution_count": null,
   "metadata": {},
   "outputs": [],
   "source": []
  },
  {
   "cell_type": "code",
   "execution_count": 50,
   "metadata": {},
   "outputs": [],
   "source": [
    "contas_completo = contas.merge(clientes, left_on='cod_cliente', right_on='cod_cliente', suffixes=('_conta', '_cliente'))\n",
    "contas_completo = contas_completo.merge(colaboradores, left_on='cod_colaborador', right_on='cod_colaborador', suffixes=('_conta', '_colaborador'))\n",
    "contas_completo = contas_completo.merge(agencias, left_on='cod_agencia', right_on='cod_agencia', suffixes=('_conta', '_agencia'))"
   ]
  },
  {
   "cell_type": "code",
   "execution_count": 51,
   "metadata": {},
   "outputs": [
    {
     "data": {
      "text/html": [
       "<div>\n",
       "<style scoped>\n",
       "    .dataframe tbody tr th:only-of-type {\n",
       "        vertical-align: middle;\n",
       "    }\n",
       "\n",
       "    .dataframe tbody tr th {\n",
       "        vertical-align: top;\n",
       "    }\n",
       "\n",
       "    .dataframe thead th {\n",
       "        text-align: right;\n",
       "    }\n",
       "</style>\n",
       "<table border=\"1\" class=\"dataframe\">\n",
       "  <thead>\n",
       "    <tr style=\"text-align: right;\">\n",
       "      <th></th>\n",
       "      <th>num_conta</th>\n",
       "      <th>cod_cliente</th>\n",
       "      <th>cod_agencia</th>\n",
       "      <th>cod_colaborador</th>\n",
       "      <th>tipo_conta</th>\n",
       "      <th>data_abertura_conta</th>\n",
       "      <th>saldo_total</th>\n",
       "      <th>saldo_disponivel</th>\n",
       "      <th>data_ultimo_lancamento</th>\n",
       "      <th>primeiro_nome_conta</th>\n",
       "      <th>...</th>\n",
       "      <th>cep_colaborador</th>\n",
       "      <th>idade_colaborador</th>\n",
       "      <th>faixa_etaria_colaborador</th>\n",
       "      <th>nome</th>\n",
       "      <th>endereco</th>\n",
       "      <th>cidade</th>\n",
       "      <th>uf</th>\n",
       "      <th>data_abertura_agencia</th>\n",
       "      <th>tipo_agencia</th>\n",
       "      <th>ano_abertura</th>\n",
       "    </tr>\n",
       "  </thead>\n",
       "  <tbody>\n",
       "    <tr>\n",
       "      <th>0</th>\n",
       "      <td>53</td>\n",
       "      <td>53</td>\n",
       "      <td>1</td>\n",
       "      <td>7</td>\n",
       "      <td>PF</td>\n",
       "      <td>2011-05-24 15:30:00+00:00</td>\n",
       "      <td>2984.7615</td>\n",
       "      <td>2814.67</td>\n",
       "      <td>2019-07-02 11:03:46+00:00</td>\n",
       "      <td>Maria Alice</td>\n",
       "      <td>...</td>\n",
       "      <td>92465328</td>\n",
       "      <td>29</td>\n",
       "      <td>26-35</td>\n",
       "      <td>Agência Matriz</td>\n",
       "      <td>Av. Paulista, 1436 - Cerqueira César, São Paul...</td>\n",
       "      <td>São Paulo</td>\n",
       "      <td>SP</td>\n",
       "      <td>2010-01-01</td>\n",
       "      <td>Física</td>\n",
       "      <td>2010</td>\n",
       "    </tr>\n",
       "    <tr>\n",
       "      <th>1</th>\n",
       "      <td>190</td>\n",
       "      <td>190</td>\n",
       "      <td>1</td>\n",
       "      <td>7</td>\n",
       "      <td>PF</td>\n",
       "      <td>2014-10-17 14:48:00+00:00</td>\n",
       "      <td>4262.4322</td>\n",
       "      <td>4191.86</td>\n",
       "      <td>2021-03-25 12:00:15+00:00</td>\n",
       "      <td>Juliana</td>\n",
       "      <td>...</td>\n",
       "      <td>92465328</td>\n",
       "      <td>29</td>\n",
       "      <td>26-35</td>\n",
       "      <td>Agência Matriz</td>\n",
       "      <td>Av. Paulista, 1436 - Cerqueira César, São Paul...</td>\n",
       "      <td>São Paulo</td>\n",
       "      <td>SP</td>\n",
       "      <td>2010-01-01</td>\n",
       "      <td>Física</td>\n",
       "      <td>2010</td>\n",
       "    </tr>\n",
       "    <tr>\n",
       "      <th>2</th>\n",
       "      <td>191</td>\n",
       "      <td>191</td>\n",
       "      <td>1</td>\n",
       "      <td>7</td>\n",
       "      <td>PF</td>\n",
       "      <td>2013-03-23 14:14:00+00:00</td>\n",
       "      <td>3266.5680</td>\n",
       "      <td>3080.71</td>\n",
       "      <td>2016-09-09 23:34:15+00:00</td>\n",
       "      <td>Nicole</td>\n",
       "      <td>...</td>\n",
       "      <td>92465328</td>\n",
       "      <td>29</td>\n",
       "      <td>26-35</td>\n",
       "      <td>Agência Matriz</td>\n",
       "      <td>Av. Paulista, 1436 - Cerqueira César, São Paul...</td>\n",
       "      <td>São Paulo</td>\n",
       "      <td>SP</td>\n",
       "      <td>2010-01-01</td>\n",
       "      <td>Física</td>\n",
       "      <td>2010</td>\n",
       "    </tr>\n",
       "    <tr>\n",
       "      <th>3</th>\n",
       "      <td>203</td>\n",
       "      <td>203</td>\n",
       "      <td>1</td>\n",
       "      <td>7</td>\n",
       "      <td>PF</td>\n",
       "      <td>2016-08-03 16:13:00+00:00</td>\n",
       "      <td>21241.5424</td>\n",
       "      <td>19461.56</td>\n",
       "      <td>2022-12-28 07:58:24+00:00</td>\n",
       "      <td>Otávio</td>\n",
       "      <td>...</td>\n",
       "      <td>92465328</td>\n",
       "      <td>29</td>\n",
       "      <td>26-35</td>\n",
       "      <td>Agência Matriz</td>\n",
       "      <td>Av. Paulista, 1436 - Cerqueira César, São Paul...</td>\n",
       "      <td>São Paulo</td>\n",
       "      <td>SP</td>\n",
       "      <td>2010-01-01</td>\n",
       "      <td>Física</td>\n",
       "      <td>2010</td>\n",
       "    </tr>\n",
       "    <tr>\n",
       "      <th>4</th>\n",
       "      <td>254</td>\n",
       "      <td>254</td>\n",
       "      <td>1</td>\n",
       "      <td>7</td>\n",
       "      <td>PF</td>\n",
       "      <td>2012-10-24 13:48:00+00:00</td>\n",
       "      <td>13335.6966</td>\n",
       "      <td>13197.54</td>\n",
       "      <td>2013-12-20 22:20:00+00:00</td>\n",
       "      <td>Ana Carolina</td>\n",
       "      <td>...</td>\n",
       "      <td>92465328</td>\n",
       "      <td>29</td>\n",
       "      <td>26-35</td>\n",
       "      <td>Agência Matriz</td>\n",
       "      <td>Av. Paulista, 1436 - Cerqueira César, São Paul...</td>\n",
       "      <td>São Paulo</td>\n",
       "      <td>SP</td>\n",
       "      <td>2010-01-01</td>\n",
       "      <td>Física</td>\n",
       "      <td>2010</td>\n",
       "    </tr>\n",
       "  </tbody>\n",
       "</table>\n",
       "<p>5 rows × 38 columns</p>\n",
       "</div>"
      ],
      "text/plain": [
       "   num_conta  cod_cliente  cod_agencia  cod_colaborador tipo_conta  \\\n",
       "0         53           53            1                7         PF   \n",
       "1        190          190            1                7         PF   \n",
       "2        191          191            1                7         PF   \n",
       "3        203          203            1                7         PF   \n",
       "4        254          254            1                7         PF   \n",
       "\n",
       "        data_abertura_conta  saldo_total  saldo_disponivel  \\\n",
       "0 2011-05-24 15:30:00+00:00    2984.7615           2814.67   \n",
       "1 2014-10-17 14:48:00+00:00    4262.4322           4191.86   \n",
       "2 2013-03-23 14:14:00+00:00    3266.5680           3080.71   \n",
       "3 2016-08-03 16:13:00+00:00   21241.5424          19461.56   \n",
       "4 2012-10-24 13:48:00+00:00   13335.6966          13197.54   \n",
       "\n",
       "     data_ultimo_lancamento primeiro_nome_conta  ... cep_colaborador  \\\n",
       "0 2019-07-02 11:03:46+00:00         Maria Alice  ...        92465328   \n",
       "1 2021-03-25 12:00:15+00:00             Juliana  ...        92465328   \n",
       "2 2016-09-09 23:34:15+00:00              Nicole  ...        92465328   \n",
       "3 2022-12-28 07:58:24+00:00              Otávio  ...        92465328   \n",
       "4 2013-12-20 22:20:00+00:00        Ana Carolina  ...        92465328   \n",
       "\n",
       "  idade_colaborador faixa_etaria_colaborador            nome  \\\n",
       "0                29                    26-35  Agência Matriz   \n",
       "1                29                    26-35  Agência Matriz   \n",
       "2                29                    26-35  Agência Matriz   \n",
       "3                29                    26-35  Agência Matriz   \n",
       "4                29                    26-35  Agência Matriz   \n",
       "\n",
       "                                            endereco     cidade  uf  \\\n",
       "0  Av. Paulista, 1436 - Cerqueira César, São Paul...  São Paulo  SP   \n",
       "1  Av. Paulista, 1436 - Cerqueira César, São Paul...  São Paulo  SP   \n",
       "2  Av. Paulista, 1436 - Cerqueira César, São Paul...  São Paulo  SP   \n",
       "3  Av. Paulista, 1436 - Cerqueira César, São Paul...  São Paulo  SP   \n",
       "4  Av. Paulista, 1436 - Cerqueira César, São Paul...  São Paulo  SP   \n",
       "\n",
       "  data_abertura_agencia  tipo_agencia  ano_abertura  \n",
       "0            2010-01-01        Física          2010  \n",
       "1            2010-01-01        Física          2010  \n",
       "2            2010-01-01        Física          2010  \n",
       "3            2010-01-01        Física          2010  \n",
       "4            2010-01-01        Física          2010  \n",
       "\n",
       "[5 rows x 38 columns]"
      ]
     },
     "execution_count": 51,
     "metadata": {},
     "output_type": "execute_result"
    }
   ],
   "source": [
    "contas_completo.head()"
   ]
  },
  {
   "cell_type": "code",
   "execution_count": 52,
   "metadata": {},
   "outputs": [
    {
     "name": "stdout",
     "output_type": "stream",
     "text": [
      "Index(['num_conta', 'cod_cliente', 'cod_agencia', 'cod_colaborador',\n",
      "       'tipo_conta', 'data_abertura_conta', 'saldo_total', 'saldo_disponivel',\n",
      "       'data_ultimo_lancamento', 'primeiro_nome_conta', 'ultimo_nome_conta',\n",
      "       'email_conta', 'tipo_cliente', 'data_inclusao', 'cpfcnpj',\n",
      "       'data_nascimento_conta', 'endereco_conta', 'cep_conta', 'ano_inclusao',\n",
      "       'ano_nascimento', 'idade_conta', 'faixa_etaria_conta',\n",
      "       'primeiro_nome_colaborador', 'ultimo_nome_colaborador',\n",
      "       'email_colaborador', 'cpf', 'data_nascimento_colaborador',\n",
      "       'endereco_colaborador', 'cep_colaborador', 'idade_colaborador',\n",
      "       'faixa_etaria_colaborador', 'nome', 'endereco', 'cidade', 'uf',\n",
      "       'data_abertura_agencia', 'tipo_agencia', 'ano_abertura'],\n",
      "      dtype='object')\n"
     ]
    }
   ],
   "source": [
    "print(contas_completo.columns)"
   ]
  },
  {
   "cell_type": "markdown",
   "metadata": {},
   "source": [
    "Saldo médio por agência"
   ]
  },
  {
   "cell_type": "code",
   "execution_count": 53,
   "metadata": {},
   "outputs": [
    {
     "data": {
      "text/html": [
       "<div>\n",
       "<style scoped>\n",
       "    .dataframe tbody tr th:only-of-type {\n",
       "        vertical-align: middle;\n",
       "    }\n",
       "\n",
       "    .dataframe tbody tr th {\n",
       "        vertical-align: top;\n",
       "    }\n",
       "\n",
       "    .dataframe thead th {\n",
       "        text-align: right;\n",
       "    }\n",
       "</style>\n",
       "<table border=\"1\" class=\"dataframe\">\n",
       "  <thead>\n",
       "    <tr style=\"text-align: right;\">\n",
       "      <th></th>\n",
       "      <th>saldo_total</th>\n",
       "      <th>saldo_disponivel</th>\n",
       "    </tr>\n",
       "    <tr>\n",
       "      <th>nome</th>\n",
       "      <th></th>\n",
       "      <th></th>\n",
       "    </tr>\n",
       "  </thead>\n",
       "  <tbody>\n",
       "    <tr>\n",
       "      <th>Agência Campinas</th>\n",
       "      <td>25279.805032</td>\n",
       "      <td>25832.240000</td>\n",
       "    </tr>\n",
       "    <tr>\n",
       "      <th>Agência Digital</th>\n",
       "      <td>26168.032412</td>\n",
       "      <td>25172.050739</td>\n",
       "    </tr>\n",
       "    <tr>\n",
       "      <th>Agência Florianópolis</th>\n",
       "      <td>23320.187803</td>\n",
       "      <td>21164.487667</td>\n",
       "    </tr>\n",
       "    <tr>\n",
       "      <th>Agência Jardins</th>\n",
       "      <td>16223.089497</td>\n",
       "      <td>15987.414667</td>\n",
       "    </tr>\n",
       "    <tr>\n",
       "      <th>Agência Matriz</th>\n",
       "      <td>31165.301992</td>\n",
       "      <td>30021.365169</td>\n",
       "    </tr>\n",
       "    <tr>\n",
       "      <th>Agência Osasco</th>\n",
       "      <td>22967.100474</td>\n",
       "      <td>21955.214615</td>\n",
       "    </tr>\n",
       "    <tr>\n",
       "      <th>Agência Porto Alegre</th>\n",
       "      <td>27911.073703</td>\n",
       "      <td>26313.998689</td>\n",
       "    </tr>\n",
       "    <tr>\n",
       "      <th>Agência Recife</th>\n",
       "      <td>23168.514140</td>\n",
       "      <td>22585.202000</td>\n",
       "    </tr>\n",
       "    <tr>\n",
       "      <th>Agência Rio de Janeiro</th>\n",
       "      <td>23116.812135</td>\n",
       "      <td>22289.431923</td>\n",
       "    </tr>\n",
       "    <tr>\n",
       "      <th>Agência Tatuapé</th>\n",
       "      <td>31424.775668</td>\n",
       "      <td>31627.550990</td>\n",
       "    </tr>\n",
       "  </tbody>\n",
       "</table>\n",
       "</div>"
      ],
      "text/plain": [
       "                         saldo_total  saldo_disponivel\n",
       "nome                                                  \n",
       "Agência Campinas        25279.805032      25832.240000\n",
       "Agência Digital         26168.032412      25172.050739\n",
       "Agência Florianópolis   23320.187803      21164.487667\n",
       "Agência Jardins         16223.089497      15987.414667\n",
       "Agência Matriz          31165.301992      30021.365169\n",
       "Agência Osasco          22967.100474      21955.214615\n",
       "Agência Porto Alegre    27911.073703      26313.998689\n",
       "Agência Recife          23168.514140      22585.202000\n",
       "Agência Rio de Janeiro  23116.812135      22289.431923\n",
       "Agência Tatuapé         31424.775668      31627.550990"
      ]
     },
     "execution_count": 53,
     "metadata": {},
     "output_type": "execute_result"
    }
   ],
   "source": [
    "saldo_medio_agencia = contas_completo.groupby('nome')[['saldo_total', 'saldo_disponivel']].mean()\n",
    "saldo_medio_agencia"
   ]
  },
  {
   "cell_type": "markdown",
   "metadata": {},
   "source": [
    "Quantidade de contas por agência"
   ]
  },
  {
   "cell_type": "code",
   "execution_count": 54,
   "metadata": {},
   "outputs": [
    {
     "data": {
      "text/plain": [
       "nome\n",
       "Agência Digital           460\n",
       "Agência Matriz            118\n",
       "Agência Tatuapé           101\n",
       "Agência Campinas           76\n",
       "Agência Osasco             65\n",
       "Agência Porto Alegre       61\n",
       "Agência Rio de Janeiro     52\n",
       "Agência Jardins            30\n",
       "Agência Florianópolis      30\n",
       "Agência Recife              5\n",
       "Name: count, dtype: int64"
      ]
     },
     "execution_count": 54,
     "metadata": {},
     "output_type": "execute_result"
    }
   ],
   "source": [
    "qtd_contas_agencia = contas_completo['nome'].value_counts()\n",
    "qtd_contas_agencia"
   ]
  },
  {
   "cell_type": "markdown",
   "metadata": {},
   "source": [
    "Quantidade de contas por colaborador"
   ]
  },
  {
   "cell_type": "code",
   "execution_count": 55,
   "metadata": {},
   "outputs": [
    {
     "data": {
      "text/plain": [
       "Luiz Henrique Rocha     84\n",
       "Alice Aragão            69\n",
       "Pietro Souza            67\n",
       "Ana Júlia Jesus         62\n",
       "Pietra da Mota          61\n",
       "                        ..\n",
       "Laís Aragão              1\n",
       "Bruno da Paz             1\n",
       "Maria Vitória Duarte     1\n",
       "Juliana Cavalcanti       1\n",
       "Lavínia Cunha            1\n",
       "Name: count, Length: 94, dtype: int64"
      ]
     },
     "execution_count": 55,
     "metadata": {},
     "output_type": "execute_result"
    }
   ],
   "source": [
    "qtd_contas_colaborador = contas_completo['primeiro_nome_colaborador'] + ' ' + contas_completo['ultimo_nome_colaborador']\n",
    "qtd_contas_colaborador = qtd_contas_colaborador.value_counts()\n",
    "qtd_contas_colaborador"
   ]
  },
  {
   "cell_type": "markdown",
   "metadata": {},
   "source": [
    "Data de abertura mais comum"
   ]
  },
  {
   "cell_type": "code",
   "execution_count": 56,
   "metadata": {},
   "outputs": [
    {
     "data": {
      "text/plain": [
       "0   2021-08-23 12:15:00+00:00\n",
       "Name: data_abertura_conta, dtype: datetime64[ns, UTC]"
      ]
     },
     "execution_count": 56,
     "metadata": {},
     "output_type": "execute_result"
    }
   ],
   "source": [
    "data_abertura_comum = contas_completo['data_abertura_conta'].mode()\n",
    "data_abertura_comum"
   ]
  },
  {
   "cell_type": "markdown",
   "metadata": {},
   "source": [
    "Distribuição de saldos por faixa etária dos clientes"
   ]
  },
  {
   "cell_type": "code",
   "execution_count": 57,
   "metadata": {},
   "outputs": [
    {
     "data": {
      "text/html": [
       "<div>\n",
       "<style scoped>\n",
       "    .dataframe tbody tr th:only-of-type {\n",
       "        vertical-align: middle;\n",
       "    }\n",
       "\n",
       "    .dataframe tbody tr th {\n",
       "        vertical-align: top;\n",
       "    }\n",
       "\n",
       "    .dataframe thead th {\n",
       "        text-align: right;\n",
       "    }\n",
       "</style>\n",
       "<table border=\"1\" class=\"dataframe\">\n",
       "  <thead>\n",
       "    <tr style=\"text-align: right;\">\n",
       "      <th></th>\n",
       "      <th>saldo_total</th>\n",
       "      <th>saldo_disponivel</th>\n",
       "    </tr>\n",
       "    <tr>\n",
       "      <th>faixa_etaria_conta</th>\n",
       "      <th></th>\n",
       "      <th></th>\n",
       "    </tr>\n",
       "  </thead>\n",
       "  <tbody>\n",
       "    <tr>\n",
       "      <th>17-25</th>\n",
       "      <td>31767.504665</td>\n",
       "      <td>31190.350323</td>\n",
       "    </tr>\n",
       "    <tr>\n",
       "      <th>26-35</th>\n",
       "      <td>27524.253011</td>\n",
       "      <td>26389.503699</td>\n",
       "    </tr>\n",
       "    <tr>\n",
       "      <th>36-45</th>\n",
       "      <td>30191.297311</td>\n",
       "      <td>29160.962229</td>\n",
       "    </tr>\n",
       "    <tr>\n",
       "      <th>46-60</th>\n",
       "      <td>22504.886900</td>\n",
       "      <td>21500.661409</td>\n",
       "    </tr>\n",
       "    <tr>\n",
       "      <th>61+</th>\n",
       "      <td>25559.034896</td>\n",
       "      <td>25020.374077</td>\n",
       "    </tr>\n",
       "  </tbody>\n",
       "</table>\n",
       "</div>"
      ],
      "text/plain": [
       "                     saldo_total  saldo_disponivel\n",
       "faixa_etaria_conta                                \n",
       "17-25               31767.504665      31190.350323\n",
       "26-35               27524.253011      26389.503699\n",
       "36-45               30191.297311      29160.962229\n",
       "46-60               22504.886900      21500.661409\n",
       "61+                 25559.034896      25020.374077"
      ]
     },
     "execution_count": 57,
     "metadata": {},
     "output_type": "execute_result"
    }
   ],
   "source": [
    "contas_completo['faixa_etaria_conta'] = pd.cut(contas_completo['idade_conta'], bins=bins_clientes, labels=labels_clientes, right=True)\n",
    "saldo_faixa_etaria = contas_completo.groupby('faixa_etaria_conta')[['saldo_total', 'saldo_disponivel']].mean()\n",
    "saldo_faixa_etaria"
   ]
  },
  {
   "cell_type": "code",
   "execution_count": 58,
   "metadata": {},
   "outputs": [
    {
     "data": {
      "image/png": "[encoded data removed]",
      "text/plain": [
       "<Figure size 1200x600 with 1 Axes>"
      ]
     },
     "metadata": {},
     "output_type": "display_data"
    }
   ],
   "source": [
    "saldo_faixa_etaria.plot(kind='bar', figsize=(12, 6), color=['skyblue', 'orange'])\n",
    "plt.title('Distribuição de saldos por faixa etária dos clientes')\n",
    "plt.xlabel('Faixa etária')\n",
    "plt.ylabel('Saldo médio')\n",
    "plt.xticks(rotation=45)\n",
    "plt.show()"
   ]
  },
  {
   "cell_type": "code",
   "execution_count": 59,
   "metadata": {},
   "outputs": [
    {
     "name": "stdout",
     "output_type": "stream",
     "text": [
      "nome\n",
      "Agência Digital           460\n",
      "Agência Matriz            118\n",
      "Agência Tatuapé           101\n",
      "Agência Campinas           76\n",
      "Agência Osasco             65\n",
      "Agência Porto Alegre       61\n",
      "Agência Rio de Janeiro     52\n",
      "Agência Jardins            30\n",
      "Agência Florianópolis      30\n",
      "Agência Recife              5\n",
      "Name: count, dtype: int64\n"
     ]
    },
    {
     "data": {
      "image/png": "[encoded data removed]",
      "text/plain": [
       "<Figure size 1200x600 with 1 Axes>"
      ]
     },
     "metadata": {},
     "output_type": "display_data"
    }
   ],
   "source": [
    "num_contas_agencia = contas_completo['nome'].value_counts()\n",
    "\n",
    "print(num_contas_agencia)\n",
    "\n",
    "num_contas_agencia.plot(kind='bar', figsize=(12, 6), color='skyblue')\n",
    "plt.title('Quantidade de contas por agência')\n",
    "plt.xlabel('Agência')\n",
    "plt.ylabel('Quantidade de Contas')\n",
    "plt.xticks(rotation=45)\n",
    "plt.show()"
   ]
  },
  {
   "cell_type": "markdown",
   "metadata": {},
   "source": [
    "## Leitura e exploração do arquivo propostas_credito.csv"
   ]
  },
  {
   "cell_type": "code",
   "execution_count": 60,
   "metadata": {},
   "outputs": [
    {
     "data": {
      "text/html": [
       "<div>\n",
       "<style scoped>\n",
       "    .dataframe tbody tr th:only-of-type {\n",
       "        vertical-align: middle;\n",
       "    }\n",
       "\n",
       "    .dataframe tbody tr th {\n",
       "        vertical-align: top;\n",
       "    }\n",
       "\n",
       "    .dataframe thead th {\n",
       "        text-align: right;\n",
       "    }\n",
       "</style>\n",
       "<table border=\"1\" class=\"dataframe\">\n",
       "  <thead>\n",
       "    <tr style=\"text-align: right;\">\n",
       "      <th></th>\n",
       "      <th>cod_proposta</th>\n",
       "      <th>cod_cliente</th>\n",
       "      <th>cod_colaborador</th>\n",
       "      <th>data_entrada_proposta</th>\n",
       "      <th>taxa_juros_mensal</th>\n",
       "      <th>valor_proposta</th>\n",
       "      <th>valor_financiamento</th>\n",
       "      <th>valor_entrada</th>\n",
       "      <th>valor_prestacao</th>\n",
       "      <th>quantidade_parcelas</th>\n",
       "      <th>carencia</th>\n",
       "      <th>status_proposta</th>\n",
       "    </tr>\n",
       "  </thead>\n",
       "  <tbody>\n",
       "    <tr>\n",
       "      <th>0</th>\n",
       "      <td>116</td>\n",
       "      <td>338</td>\n",
       "      <td>1</td>\n",
       "      <td>2014-05-30 18:43:12 UTC</td>\n",
       "      <td>0.0194</td>\n",
       "      <td>36199.950355</td>\n",
       "      <td>50032.03</td>\n",
       "      <td>13832.079645</td>\n",
       "      <td>1045.219825</td>\n",
       "      <td>58</td>\n",
       "      <td>0</td>\n",
       "      <td>Enviada</td>\n",
       "    </tr>\n",
       "    <tr>\n",
       "      <th>1</th>\n",
       "      <td>715</td>\n",
       "      <td>45</td>\n",
       "      <td>1</td>\n",
       "      <td>2021-06-17 13:09:32 UTC</td>\n",
       "      <td>0.0131</td>\n",
       "      <td>12897.538285</td>\n",
       "      <td>19848.55</td>\n",
       "      <td>6951.011715</td>\n",
       "      <td>232.124685</td>\n",
       "      <td>100</td>\n",
       "      <td>1</td>\n",
       "      <td>Enviada</td>\n",
       "    </tr>\n",
       "    <tr>\n",
       "      <th>2</th>\n",
       "      <td>755</td>\n",
       "      <td>494</td>\n",
       "      <td>1</td>\n",
       "      <td>2021-08-10 04:24:02 UTC</td>\n",
       "      <td>0.0203</td>\n",
       "      <td>122236.312551</td>\n",
       "      <td>187154.36</td>\n",
       "      <td>64918.047449</td>\n",
       "      <td>3673.518951</td>\n",
       "      <td>56</td>\n",
       "      <td>0</td>\n",
       "      <td>Enviada</td>\n",
       "    </tr>\n",
       "    <tr>\n",
       "      <th>3</th>\n",
       "      <td>953</td>\n",
       "      <td>381</td>\n",
       "      <td>1</td>\n",
       "      <td>2011-02-23 07:57:58 UTC</td>\n",
       "      <td>0.0167</td>\n",
       "      <td>47784.649757</td>\n",
       "      <td>59530.61</td>\n",
       "      <td>11745.960243</td>\n",
       "      <td>955.041560</td>\n",
       "      <td>109</td>\n",
       "      <td>3</td>\n",
       "      <td>Enviada</td>\n",
       "    </tr>\n",
       "    <tr>\n",
       "      <th>4</th>\n",
       "      <td>1046</td>\n",
       "      <td>176</td>\n",
       "      <td>1</td>\n",
       "      <td>2010-11-15 16:03:28 UTC</td>\n",
       "      <td>0.0211</td>\n",
       "      <td>178393.038243</td>\n",
       "      <td>214294.19</td>\n",
       "      <td>35901.151757</td>\n",
       "      <td>10219.659415</td>\n",
       "      <td>22</td>\n",
       "      <td>4</td>\n",
       "      <td>Enviada</td>\n",
       "    </tr>\n",
       "    <tr>\n",
       "      <th>...</th>\n",
       "      <td>...</td>\n",
       "      <td>...</td>\n",
       "      <td>...</td>\n",
       "      <td>...</td>\n",
       "      <td>...</td>\n",
       "      <td>...</td>\n",
       "      <td>...</td>\n",
       "      <td>...</td>\n",
       "      <td>...</td>\n",
       "      <td>...</td>\n",
       "      <td>...</td>\n",
       "      <td>...</td>\n",
       "    </tr>\n",
       "    <tr>\n",
       "      <th>1995</th>\n",
       "      <td>1758</td>\n",
       "      <td>176</td>\n",
       "      <td>99</td>\n",
       "      <td>2010-01-10 08:12:47 UTC</td>\n",
       "      <td>0.0133</td>\n",
       "      <td>96404.111608</td>\n",
       "      <td>184043.36</td>\n",
       "      <td>87639.248392</td>\n",
       "      <td>1673.386037</td>\n",
       "      <td>110</td>\n",
       "      <td>6</td>\n",
       "      <td>Validação documentos</td>\n",
       "    </tr>\n",
       "    <tr>\n",
       "      <th>1996</th>\n",
       "      <td>582</td>\n",
       "      <td>241</td>\n",
       "      <td>100</td>\n",
       "      <td>2019-02-25 05:03:22 UTC</td>\n",
       "      <td>0.0151</td>\n",
       "      <td>61292.834593</td>\n",
       "      <td>82684.29</td>\n",
       "      <td>21391.455407</td>\n",
       "      <td>2219.574245</td>\n",
       "      <td>36</td>\n",
       "      <td>2</td>\n",
       "      <td>Validação documentos</td>\n",
       "    </tr>\n",
       "    <tr>\n",
       "      <th>1997</th>\n",
       "      <td>970</td>\n",
       "      <td>106</td>\n",
       "      <td>100</td>\n",
       "      <td>2011-06-05 04:13:16 UTC</td>\n",
       "      <td>0.0225</td>\n",
       "      <td>100371.681790</td>\n",
       "      <td>152272.50</td>\n",
       "      <td>51900.818210</td>\n",
       "      <td>3482.000980</td>\n",
       "      <td>47</td>\n",
       "      <td>2</td>\n",
       "      <td>Validação documentos</td>\n",
       "    </tr>\n",
       "    <tr>\n",
       "      <th>1998</th>\n",
       "      <td>1361</td>\n",
       "      <td>814</td>\n",
       "      <td>100</td>\n",
       "      <td>2020-07-25 20:50:30 UTC</td>\n",
       "      <td>0.0227</td>\n",
       "      <td>45431.892941</td>\n",
       "      <td>74490.36</td>\n",
       "      <td>29058.467059</td>\n",
       "      <td>1326.031489</td>\n",
       "      <td>67</td>\n",
       "      <td>5</td>\n",
       "      <td>Validação documentos</td>\n",
       "    </tr>\n",
       "    <tr>\n",
       "      <th>1999</th>\n",
       "      <td>1562</td>\n",
       "      <td>998</td>\n",
       "      <td>100</td>\n",
       "      <td>2017-03-22 12:25:42 UTC</td>\n",
       "      <td>0.0147</td>\n",
       "      <td>114794.473196</td>\n",
       "      <td>165036.26</td>\n",
       "      <td>50241.786804</td>\n",
       "      <td>3505.120046</td>\n",
       "      <td>45</td>\n",
       "      <td>0</td>\n",
       "      <td>Validação documentos</td>\n",
       "    </tr>\n",
       "  </tbody>\n",
       "</table>\n",
       "<p>2000 rows × 12 columns</p>\n",
       "</div>"
      ],
      "text/plain": [
       "      cod_proposta  cod_cliente  cod_colaborador    data_entrada_proposta  \\\n",
       "0              116          338                1  2014-05-30 18:43:12 UTC   \n",
       "1              715           45                1  2021-06-17 13:09:32 UTC   \n",
       "2              755          494                1  2021-08-10 04:24:02 UTC   \n",
       "3              953          381                1  2011-02-23 07:57:58 UTC   \n",
       "4             1046          176                1  2010-11-15 16:03:28 UTC   \n",
       "...            ...          ...              ...                      ...   \n",
       "1995          1758          176               99  2010-01-10 08:12:47 UTC   \n",
       "1996           582          241              100  2019-02-25 05:03:22 UTC   \n",
       "1997           970          106              100  2011-06-05 04:13:16 UTC   \n",
       "1998          1361          814              100  2020-07-25 20:50:30 UTC   \n",
       "1999          1562          998              100  2017-03-22 12:25:42 UTC   \n",
       "\n",
       "      taxa_juros_mensal  valor_proposta  valor_financiamento  valor_entrada  \\\n",
       "0                0.0194    36199.950355             50032.03   13832.079645   \n",
       "1                0.0131    12897.538285             19848.55    6951.011715   \n",
       "2                0.0203   122236.312551            187154.36   64918.047449   \n",
       "3                0.0167    47784.649757             59530.61   11745.960243   \n",
       "4                0.0211   178393.038243            214294.19   35901.151757   \n",
       "...                 ...             ...                  ...            ...   \n",
       "1995             0.0133    96404.111608            184043.36   87639.248392   \n",
       "1996             0.0151    61292.834593             82684.29   21391.455407   \n",
       "1997             0.0225   100371.681790            152272.50   51900.818210   \n",
       "1998             0.0227    45431.892941             74490.36   29058.467059   \n",
       "1999             0.0147   114794.473196            165036.26   50241.786804   \n",
       "\n",
       "      valor_prestacao  quantidade_parcelas  carencia       status_proposta  \n",
       "0         1045.219825                   58         0               Enviada  \n",
       "1          232.124685                  100         1               Enviada  \n",
       "2         3673.518951                   56         0               Enviada  \n",
       "3          955.041560                  109         3               Enviada  \n",
       "4        10219.659415                   22         4               Enviada  \n",
       "...               ...                  ...       ...                   ...  \n",
       "1995      1673.386037                  110         6  Validação documentos  \n",
       "1996      2219.574245                   36         2  Validação documentos  \n",
       "1997      3482.000980                   47         2  Validação documentos  \n",
       "1998      1326.031489                   67         5  Validação documentos  \n",
       "1999      3505.120046                   45         0  Validação documentos  \n",
       "\n",
       "[2000 rows x 12 columns]"
      ]
     },
     "execution_count": 60,
     "metadata": {},
     "output_type": "execute_result"
    }
   ],
   "source": [
    "propostas_credito = pd.read_csv('propostas_credito.csv')\n",
    "propostas_credito"
   ]
  },
  {
   "cell_type": "code",
   "execution_count": 61,
   "metadata": {},
   "outputs": [
    {
     "name": "stdout",
     "output_type": "stream",
     "text": [
      "<class 'pandas.core.frame.DataFrame'>\n",
      "RangeIndex: 2000 entries, 0 to 1999\n",
      "Data columns (total 12 columns):\n",
      " #   Column                 Non-Null Count  Dtype  \n",
      "---  ------                 --------------  -----  \n",
      " 0   cod_proposta           2000 non-null   int64  \n",
      " 1   cod_cliente            2000 non-null   int64  \n",
      " 2   cod_colaborador        2000 non-null   int64  \n",
      " 3   data_entrada_proposta  2000 non-null   object \n",
      " 4   taxa_juros_mensal      2000 non-null   float64\n",
      " 5   valor_proposta         2000 non-null   float64\n",
      " 6   valor_financiamento    2000 non-null   float64\n",
      " 7   valor_entrada          2000 non-null   float64\n",
      " 8   valor_prestacao        2000 non-null   float64\n",
      " 9   quantidade_parcelas    2000 non-null   int64  \n",
      " 10  carencia               2000 non-null   int64  \n",
      " 11  status_proposta        2000 non-null   object \n",
      "dtypes: float64(5), int64(5), object(2)\n",
      "memory usage: 187.6+ KB\n"
     ]
    }
   ],
   "source": [
    "propostas_credito.info()"
   ]
  },
  {
   "cell_type": "code",
   "execution_count": 62,
   "metadata": {},
   "outputs": [],
   "source": [
    "propostas_credito['data_entrada_proposta'] = pd.to_datetime(propostas_credito['data_entrada_proposta'])"
   ]
  },
  {
   "cell_type": "code",
   "execution_count": 63,
   "metadata": {},
   "outputs": [
    {
     "data": {
      "text/plain": [
       "0"
      ]
     },
     "execution_count": 63,
     "metadata": {},
     "output_type": "execute_result"
    }
   ],
   "source": [
    "propostas_credito['data_entrada_proposta'].isnull().sum()"
   ]
  },
  {
   "cell_type": "markdown",
   "metadata": {},
   "source": [
    "Total de propostas de crédito por status:"
   ]
  },
  {
   "cell_type": "code",
   "execution_count": 64,
   "metadata": {},
   "outputs": [
    {
     "data": {
      "text/plain": [
       "status_proposta\n",
       "Enviada                 527\n",
       "Aprovada                514\n",
       "Validação documentos    491\n",
       "Em análise              468\n",
       "Name: count, dtype: int64"
      ]
     },
     "execution_count": 64,
     "metadata": {},
     "output_type": "execute_result"
    }
   ],
   "source": [
    "propostas_credito['status_proposta'].value_counts()"
   ]
  },
  {
   "cell_type": "markdown",
   "metadata": {},
   "source": [
    "Total de propostas de crédito por mes e ano"
   ]
  },
  {
   "cell_type": "code",
   "execution_count": 65,
   "metadata": {},
   "outputs": [
    {
     "name": "stderr",
     "output_type": "stream",
     "text": [
      "C:\\Users\\joana\\AppData\\Local\\Temp\\ipykernel_14092\\473285098.py:1: UserWarning: Converting to PeriodArray/Index representation will drop timezone information.\n",
      "  propostas_credito['mes_ano'] = propostas_credito['data_entrada_proposta'].dt.to_period('M')\n"
     ]
    }
   ],
   "source": [
    "propostas_credito['mes_ano'] = propostas_credito['data_entrada_proposta'].dt.to_period('M')\n",
    "valor_proposta_mes_ano = propostas_credito.groupby('mes_ano')['valor_proposta'].sum()"
   ]
  },
  {
   "cell_type": "code",
   "execution_count": 66,
   "metadata": {},
   "outputs": [
    {
     "data": {
      "text/plain": [
       "mes_ano\n",
       "2010-01    1.362176e+06\n",
       "2010-02    6.619363e+05\n",
       "2010-03    1.119795e+06\n",
       "2010-04    8.727709e+05\n",
       "2010-05    1.791478e+06\n",
       "               ...     \n",
       "2022-08    1.154366e+06\n",
       "2022-09    1.127940e+06\n",
       "2022-10    4.012611e+05\n",
       "2022-11    1.812027e+06\n",
       "2022-12    5.584672e+05\n",
       "Freq: M, Name: valor_proposta, Length: 156, dtype: float64"
      ]
     },
     "execution_count": 66,
     "metadata": {},
     "output_type": "execute_result"
    }
   ],
   "source": [
    "valor_proposta_mes_ano"
   ]
  },
  {
   "cell_type": "markdown",
   "metadata": {},
   "source": [
    "taxa de juros aprovada (media)"
   ]
  },
  {
   "cell_type": "code",
   "execution_count": 67,
   "metadata": {},
   "outputs": [
    {
     "data": {
      "text/plain": [
       "0.016821011673151753"
      ]
     },
     "execution_count": 67,
     "metadata": {},
     "output_type": "execute_result"
    }
   ],
   "source": [
    "taxa_juros_aprovada = propostas_credito[propostas_credito['status_proposta'] == 'Aprovada']['taxa_juros_mensal'].mean()\n",
    "taxa_juros_aprovada"
   ]
  },
  {
   "cell_type": "markdown",
   "metadata": {},
   "source": [
    "valor de financiamento (media)"
   ]
  },
  {
   "cell_type": "code",
   "execution_count": null,
   "metadata": {},
   "outputs": [],
   "source": []
  },
  {
   "cell_type": "code",
   "execution_count": 68,
   "metadata": {},
   "outputs": [
    {
     "data": {
      "text/plain": [
       "124758.35585499999"
      ]
     },
     "execution_count": 68,
     "metadata": {},
     "output_type": "execute_result"
    }
   ],
   "source": [
    "media_valor_financiamento = propostas_credito['valor_financiamento'].mean()\n",
    "media_valor_financiamento"
   ]
  },
  {
   "cell_type": "markdown",
   "metadata": {},
   "source": [
    "## Leitura e exploração do arquivo transacoes.csv"
   ]
  },
  {
   "cell_type": "code",
   "execution_count": 69,
   "metadata": {},
   "outputs": [
    {
     "data": {
      "text/html": [
       "<div>\n",
       "<style scoped>\n",
       "    .dataframe tbody tr th:only-of-type {\n",
       "        vertical-align: middle;\n",
       "    }\n",
       "\n",
       "    .dataframe tbody tr th {\n",
       "        vertical-align: top;\n",
       "    }\n",
       "\n",
       "    .dataframe thead th {\n",
       "        text-align: right;\n",
       "    }\n",
       "</style>\n",
       "<table border=\"1\" class=\"dataframe\">\n",
       "  <thead>\n",
       "    <tr style=\"text-align: right;\">\n",
       "      <th></th>\n",
       "      <th>cod_transacao</th>\n",
       "      <th>num_conta</th>\n",
       "      <th>data_transacao</th>\n",
       "      <th>nome_transacao</th>\n",
       "      <th>valor_transacao</th>\n",
       "    </tr>\n",
       "  </thead>\n",
       "  <tbody>\n",
       "    <tr>\n",
       "      <th>0</th>\n",
       "      <td>3100</td>\n",
       "      <td>256</td>\n",
       "      <td>2020-05-22 03:15:21 UTC</td>\n",
       "      <td>Saque</td>\n",
       "      <td>-130.0</td>\n",
       "    </tr>\n",
       "    <tr>\n",
       "      <th>1</th>\n",
       "      <td>28405</td>\n",
       "      <td>256</td>\n",
       "      <td>2021-06-29 11:52:38 UTC</td>\n",
       "      <td>Saque</td>\n",
       "      <td>-255.0</td>\n",
       "    </tr>\n",
       "    <tr>\n",
       "      <th>2</th>\n",
       "      <td>1776</td>\n",
       "      <td>512</td>\n",
       "      <td>2020-05-17 13:04:50 UTC</td>\n",
       "      <td>Saque</td>\n",
       "      <td>-250.0</td>\n",
       "    </tr>\n",
       "    <tr>\n",
       "      <th>3</th>\n",
       "      <td>14311</td>\n",
       "      <td>512</td>\n",
       "      <td>2020-09-06 02:55:34 UTC</td>\n",
       "      <td>Saque</td>\n",
       "      <td>-80.0</td>\n",
       "    </tr>\n",
       "    <tr>\n",
       "      <th>4</th>\n",
       "      <td>25012</td>\n",
       "      <td>512</td>\n",
       "      <td>2020-10-16 09:26:52 UTC</td>\n",
       "      <td>Saque</td>\n",
       "      <td>-475.0</td>\n",
       "    </tr>\n",
       "    <tr>\n",
       "      <th>...</th>\n",
       "      <td>...</td>\n",
       "      <td>...</td>\n",
       "      <td>...</td>\n",
       "      <td>...</td>\n",
       "      <td>...</td>\n",
       "    </tr>\n",
       "    <tr>\n",
       "      <th>71994</th>\n",
       "      <td>17007</td>\n",
       "      <td>764</td>\n",
       "      <td>2022-12-29 23:59:59.746608 UTC</td>\n",
       "      <td>Transferência entre CC - Crédito</td>\n",
       "      <td>82.3</td>\n",
       "    </tr>\n",
       "    <tr>\n",
       "      <th>71995</th>\n",
       "      <td>22320</td>\n",
       "      <td>764</td>\n",
       "      <td>2022-12-29 23:59:59.055028 UTC</td>\n",
       "      <td>Transferência entre CC - Crédito</td>\n",
       "      <td>414.8</td>\n",
       "    </tr>\n",
       "    <tr>\n",
       "      <th>71996</th>\n",
       "      <td>8697</td>\n",
       "      <td>509</td>\n",
       "      <td>2012-05-07 13:45:41 UTC</td>\n",
       "      <td>Transferência entre CC - Crédito</td>\n",
       "      <td>720.4</td>\n",
       "    </tr>\n",
       "    <tr>\n",
       "      <th>71997</th>\n",
       "      <td>11574</td>\n",
       "      <td>766</td>\n",
       "      <td>2015-09-19 05:13:07 UTC</td>\n",
       "      <td>Transferência entre CC - Crédito</td>\n",
       "      <td>1143.0</td>\n",
       "    </tr>\n",
       "    <tr>\n",
       "      <th>71998</th>\n",
       "      <td>64396</td>\n",
       "      <td>766</td>\n",
       "      <td>2022-12-29 23:59:59.607373 UTC</td>\n",
       "      <td>Transferência entre CC - Crédito</td>\n",
       "      <td>420.7</td>\n",
       "    </tr>\n",
       "  </tbody>\n",
       "</table>\n",
       "<p>71999 rows × 5 columns</p>\n",
       "</div>"
      ],
      "text/plain": [
       "       cod_transacao  num_conta                  data_transacao  \\\n",
       "0               3100        256         2020-05-22 03:15:21 UTC   \n",
       "1              28405        256         2021-06-29 11:52:38 UTC   \n",
       "2               1776        512         2020-05-17 13:04:50 UTC   \n",
       "3              14311        512         2020-09-06 02:55:34 UTC   \n",
       "4              25012        512         2020-10-16 09:26:52 UTC   \n",
       "...              ...        ...                             ...   \n",
       "71994          17007        764  2022-12-29 23:59:59.746608 UTC   \n",
       "71995          22320        764  2022-12-29 23:59:59.055028 UTC   \n",
       "71996           8697        509         2012-05-07 13:45:41 UTC   \n",
       "71997          11574        766         2015-09-19 05:13:07 UTC   \n",
       "71998          64396        766  2022-12-29 23:59:59.607373 UTC   \n",
       "\n",
       "                         nome_transacao  valor_transacao  \n",
       "0                                 Saque           -130.0  \n",
       "1                                 Saque           -255.0  \n",
       "2                                 Saque           -250.0  \n",
       "3                                 Saque            -80.0  \n",
       "4                                 Saque           -475.0  \n",
       "...                                 ...              ...  \n",
       "71994  Transferência entre CC - Crédito             82.3  \n",
       "71995  Transferência entre CC - Crédito            414.8  \n",
       "71996  Transferência entre CC - Crédito            720.4  \n",
       "71997  Transferência entre CC - Crédito           1143.0  \n",
       "71998  Transferência entre CC - Crédito            420.7  \n",
       "\n",
       "[71999 rows x 5 columns]"
      ]
     },
     "execution_count": 69,
     "metadata": {},
     "output_type": "execute_result"
    }
   ],
   "source": [
    "transacoes = pd.read_csv('transacoes.csv')\n",
    "transacoes"
   ]
  },
  {
   "cell_type": "code",
   "execution_count": 70,
   "metadata": {},
   "outputs": [
    {
     "name": "stdout",
     "output_type": "stream",
     "text": [
      "<class 'pandas.core.frame.DataFrame'>\n",
      "RangeIndex: 71999 entries, 0 to 71998\n",
      "Data columns (total 5 columns):\n",
      " #   Column           Non-Null Count  Dtype  \n",
      "---  ------           --------------  -----  \n",
      " 0   cod_transacao    71999 non-null  int64  \n",
      " 1   num_conta        71999 non-null  int64  \n",
      " 2   data_transacao   71999 non-null  object \n",
      " 3   nome_transacao   71999 non-null  object \n",
      " 4   valor_transacao  71999 non-null  float64\n",
      "dtypes: float64(1), int64(2), object(2)\n",
      "memory usage: 2.7+ MB\n"
     ]
    }
   ],
   "source": [
    "transacoes.info()"
   ]
  },
  {
   "cell_type": "code",
   "execution_count": 71,
   "metadata": {},
   "outputs": [
    {
     "data": {
      "text/html": [
       "<div>\n",
       "<style scoped>\n",
       "    .dataframe tbody tr th:only-of-type {\n",
       "        vertical-align: middle;\n",
       "    }\n",
       "\n",
       "    .dataframe tbody tr th {\n",
       "        vertical-align: top;\n",
       "    }\n",
       "\n",
       "    .dataframe thead th {\n",
       "        text-align: right;\n",
       "    }\n",
       "</style>\n",
       "<table border=\"1\" class=\"dataframe\">\n",
       "  <thead>\n",
       "    <tr style=\"text-align: right;\">\n",
       "      <th></th>\n",
       "      <th>cod_transacao</th>\n",
       "      <th>num_conta</th>\n",
       "      <th>data_transacao</th>\n",
       "      <th>nome_transacao</th>\n",
       "      <th>valor_transacao</th>\n",
       "    </tr>\n",
       "  </thead>\n",
       "  <tbody>\n",
       "    <tr>\n",
       "      <th>0</th>\n",
       "      <td>3100</td>\n",
       "      <td>256</td>\n",
       "      <td>2020-05-22 03:15:21 UTC</td>\n",
       "      <td>Saque</td>\n",
       "      <td>-130.0</td>\n",
       "    </tr>\n",
       "    <tr>\n",
       "      <th>1</th>\n",
       "      <td>28405</td>\n",
       "      <td>256</td>\n",
       "      <td>2021-06-29 11:52:38 UTC</td>\n",
       "      <td>Saque</td>\n",
       "      <td>-255.0</td>\n",
       "    </tr>\n",
       "    <tr>\n",
       "      <th>2</th>\n",
       "      <td>1776</td>\n",
       "      <td>512</td>\n",
       "      <td>2020-05-17 13:04:50 UTC</td>\n",
       "      <td>Saque</td>\n",
       "      <td>-250.0</td>\n",
       "    </tr>\n",
       "    <tr>\n",
       "      <th>3</th>\n",
       "      <td>14311</td>\n",
       "      <td>512</td>\n",
       "      <td>2020-09-06 02:55:34 UTC</td>\n",
       "      <td>Saque</td>\n",
       "      <td>-80.0</td>\n",
       "    </tr>\n",
       "    <tr>\n",
       "      <th>4</th>\n",
       "      <td>25012</td>\n",
       "      <td>512</td>\n",
       "      <td>2020-10-16 09:26:52 UTC</td>\n",
       "      <td>Saque</td>\n",
       "      <td>-475.0</td>\n",
       "    </tr>\n",
       "    <tr>\n",
       "      <th>5</th>\n",
       "      <td>26883</td>\n",
       "      <td>512</td>\n",
       "      <td>2020-11-09 00:47:27 UTC</td>\n",
       "      <td>Saque</td>\n",
       "      <td>-210.0</td>\n",
       "    </tr>\n",
       "    <tr>\n",
       "      <th>6</th>\n",
       "      <td>35017</td>\n",
       "      <td>512</td>\n",
       "      <td>2021-04-13 08:17:24 UTC</td>\n",
       "      <td>Saque</td>\n",
       "      <td>-50.0</td>\n",
       "    </tr>\n",
       "    <tr>\n",
       "      <th>7</th>\n",
       "      <td>46264</td>\n",
       "      <td>512</td>\n",
       "      <td>2021-05-01 06:25:50 UTC</td>\n",
       "      <td>Saque</td>\n",
       "      <td>-1160.0</td>\n",
       "    </tr>\n",
       "    <tr>\n",
       "      <th>8</th>\n",
       "      <td>21340</td>\n",
       "      <td>768</td>\n",
       "      <td>2020-02-14 21:42:15 UTC</td>\n",
       "      <td>Saque</td>\n",
       "      <td>-170.0</td>\n",
       "    </tr>\n",
       "    <tr>\n",
       "      <th>9</th>\n",
       "      <td>64259</td>\n",
       "      <td>1</td>\n",
       "      <td>2019-08-11 15:13:07 UTC</td>\n",
       "      <td>Saque</td>\n",
       "      <td>-245.0</td>\n",
       "    </tr>\n",
       "    <tr>\n",
       "      <th>10</th>\n",
       "      <td>28202</td>\n",
       "      <td>257</td>\n",
       "      <td>2022-12-26 05:13:37 UTC</td>\n",
       "      <td>Saque</td>\n",
       "      <td>-215.0</td>\n",
       "    </tr>\n",
       "    <tr>\n",
       "      <th>11</th>\n",
       "      <td>50107</td>\n",
       "      <td>257</td>\n",
       "      <td>2022-12-30 00:00:00.041757 UTC</td>\n",
       "      <td>Saque</td>\n",
       "      <td>-175.0</td>\n",
       "    </tr>\n",
       "    <tr>\n",
       "      <th>12</th>\n",
       "      <td>9740</td>\n",
       "      <td>513</td>\n",
       "      <td>2022-09-19 08:58:15 UTC</td>\n",
       "      <td>Saque</td>\n",
       "      <td>-130.0</td>\n",
       "    </tr>\n",
       "    <tr>\n",
       "      <th>13</th>\n",
       "      <td>18182</td>\n",
       "      <td>513</td>\n",
       "      <td>2022-09-30 20:55:16 UTC</td>\n",
       "      <td>Saque</td>\n",
       "      <td>-140.0</td>\n",
       "    </tr>\n",
       "    <tr>\n",
       "      <th>14</th>\n",
       "      <td>65003</td>\n",
       "      <td>513</td>\n",
       "      <td>2022-12-30 00:00:00.78042 UTC</td>\n",
       "      <td>Saque</td>\n",
       "      <td>-35.0</td>\n",
       "    </tr>\n",
       "    <tr>\n",
       "      <th>15</th>\n",
       "      <td>70201</td>\n",
       "      <td>513</td>\n",
       "      <td>2022-12-30 00:00:00.909153 UTC</td>\n",
       "      <td>Saque</td>\n",
       "      <td>-250.0</td>\n",
       "    </tr>\n",
       "    <tr>\n",
       "      <th>16</th>\n",
       "      <td>47384</td>\n",
       "      <td>769</td>\n",
       "      <td>2019-11-28 16:30:32 UTC</td>\n",
       "      <td>Saque</td>\n",
       "      <td>-120.0</td>\n",
       "    </tr>\n",
       "    <tr>\n",
       "      <th>17</th>\n",
       "      <td>53165</td>\n",
       "      <td>769</td>\n",
       "      <td>2019-12-07 14:39:41 UTC</td>\n",
       "      <td>Saque</td>\n",
       "      <td>-360.0</td>\n",
       "    </tr>\n",
       "    <tr>\n",
       "      <th>18</th>\n",
       "      <td>56160</td>\n",
       "      <td>769</td>\n",
       "      <td>2019-12-08 05:54:14 UTC</td>\n",
       "      <td>Saque</td>\n",
       "      <td>-130.0</td>\n",
       "    </tr>\n",
       "    <tr>\n",
       "      <th>19</th>\n",
       "      <td>71523</td>\n",
       "      <td>769</td>\n",
       "      <td>2022-08-29 02:51:43 UTC</td>\n",
       "      <td>Saque</td>\n",
       "      <td>-130.0</td>\n",
       "    </tr>\n",
       "    <tr>\n",
       "      <th>20</th>\n",
       "      <td>51163</td>\n",
       "      <td>2</td>\n",
       "      <td>2022-12-30 00:00:00.704939 UTC</td>\n",
       "      <td>Saque</td>\n",
       "      <td>-190.0</td>\n",
       "    </tr>\n",
       "    <tr>\n",
       "      <th>21</th>\n",
       "      <td>53595</td>\n",
       "      <td>2</td>\n",
       "      <td>2022-12-30 00:00:00.015556 UTC</td>\n",
       "      <td>Saque</td>\n",
       "      <td>-35.0</td>\n",
       "    </tr>\n",
       "    <tr>\n",
       "      <th>22</th>\n",
       "      <td>71539</td>\n",
       "      <td>2</td>\n",
       "      <td>2022-12-30 00:00:00.757986 UTC</td>\n",
       "      <td>Saque</td>\n",
       "      <td>-65.0</td>\n",
       "    </tr>\n",
       "    <tr>\n",
       "      <th>23</th>\n",
       "      <td>46162</td>\n",
       "      <td>258</td>\n",
       "      <td>2016-01-02 01:00:36 UTC</td>\n",
       "      <td>Saque</td>\n",
       "      <td>-215.0</td>\n",
       "    </tr>\n",
       "    <tr>\n",
       "      <th>24</th>\n",
       "      <td>39404</td>\n",
       "      <td>514</td>\n",
       "      <td>2022-12-29 23:59:59.039768 UTC</td>\n",
       "      <td>Saque</td>\n",
       "      <td>-345.0</td>\n",
       "    </tr>\n",
       "    <tr>\n",
       "      <th>25</th>\n",
       "      <td>42072</td>\n",
       "      <td>514</td>\n",
       "      <td>2022-12-29 23:59:59.120078 UTC</td>\n",
       "      <td>Saque</td>\n",
       "      <td>-110.0</td>\n",
       "    </tr>\n",
       "    <tr>\n",
       "      <th>26</th>\n",
       "      <td>57169</td>\n",
       "      <td>514</td>\n",
       "      <td>2022-12-29 23:59:59.622998 UTC</td>\n",
       "      <td>Saque</td>\n",
       "      <td>-85.0</td>\n",
       "    </tr>\n",
       "    <tr>\n",
       "      <th>27</th>\n",
       "      <td>58524</td>\n",
       "      <td>514</td>\n",
       "      <td>2022-12-29 23:59:59.336943 UTC</td>\n",
       "      <td>Saque</td>\n",
       "      <td>-820.0</td>\n",
       "    </tr>\n",
       "    <tr>\n",
       "      <th>28</th>\n",
       "      <td>16523</td>\n",
       "      <td>770</td>\n",
       "      <td>2022-12-29 22:26:58 UTC</td>\n",
       "      <td>Saque</td>\n",
       "      <td>-75.0</td>\n",
       "    </tr>\n",
       "    <tr>\n",
       "      <th>29</th>\n",
       "      <td>23616</td>\n",
       "      <td>770</td>\n",
       "      <td>2022-12-29 23:59:25 UTC</td>\n",
       "      <td>Saque</td>\n",
       "      <td>-400.0</td>\n",
       "    </tr>\n",
       "    <tr>\n",
       "      <th>30</th>\n",
       "      <td>42140</td>\n",
       "      <td>3</td>\n",
       "      <td>2020-12-20 15:46:11 UTC</td>\n",
       "      <td>Saque</td>\n",
       "      <td>-100.0</td>\n",
       "    </tr>\n",
       "    <tr>\n",
       "      <th>31</th>\n",
       "      <td>60681</td>\n",
       "      <td>3</td>\n",
       "      <td>2021-07-16 19:06:36 UTC</td>\n",
       "      <td>Saque</td>\n",
       "      <td>-80.0</td>\n",
       "    </tr>\n",
       "    <tr>\n",
       "      <th>32</th>\n",
       "      <td>2946</td>\n",
       "      <td>259</td>\n",
       "      <td>2019-11-14 05:48:27 UTC</td>\n",
       "      <td>Saque</td>\n",
       "      <td>-565.0</td>\n",
       "    </tr>\n",
       "    <tr>\n",
       "      <th>33</th>\n",
       "      <td>13546</td>\n",
       "      <td>259</td>\n",
       "      <td>2020-06-08 02:56:17 UTC</td>\n",
       "      <td>Saque</td>\n",
       "      <td>-250.0</td>\n",
       "    </tr>\n",
       "    <tr>\n",
       "      <th>34</th>\n",
       "      <td>51920</td>\n",
       "      <td>259</td>\n",
       "      <td>2022-12-29 23:59:52 UTC</td>\n",
       "      <td>Saque</td>\n",
       "      <td>-215.0</td>\n",
       "    </tr>\n",
       "    <tr>\n",
       "      <th>35</th>\n",
       "      <td>34167</td>\n",
       "      <td>771</td>\n",
       "      <td>2020-10-30 23:56:12 UTC</td>\n",
       "      <td>Saque</td>\n",
       "      <td>-860.0</td>\n",
       "    </tr>\n",
       "    <tr>\n",
       "      <th>36</th>\n",
       "      <td>35751</td>\n",
       "      <td>771</td>\n",
       "      <td>2020-11-30 17:59:02 UTC</td>\n",
       "      <td>Saque</td>\n",
       "      <td>-90.0</td>\n",
       "    </tr>\n",
       "    <tr>\n",
       "      <th>37</th>\n",
       "      <td>40239</td>\n",
       "      <td>4</td>\n",
       "      <td>2019-12-27 06:41:30 UTC</td>\n",
       "      <td>Saque</td>\n",
       "      <td>-35.0</td>\n",
       "    </tr>\n",
       "    <tr>\n",
       "      <th>38</th>\n",
       "      <td>41314</td>\n",
       "      <td>4</td>\n",
       "      <td>2020-01-13 20:49:52 UTC</td>\n",
       "      <td>Saque</td>\n",
       "      <td>-260.0</td>\n",
       "    </tr>\n",
       "    <tr>\n",
       "      <th>39</th>\n",
       "      <td>51740</td>\n",
       "      <td>4</td>\n",
       "      <td>2020-04-05 13:26:51 UTC</td>\n",
       "      <td>Saque</td>\n",
       "      <td>-735.0</td>\n",
       "    </tr>\n",
       "    <tr>\n",
       "      <th>40</th>\n",
       "      <td>69658</td>\n",
       "      <td>4</td>\n",
       "      <td>2020-11-19 10:16:56 UTC</td>\n",
       "      <td>Saque</td>\n",
       "      <td>-140.0</td>\n",
       "    </tr>\n",
       "    <tr>\n",
       "      <th>41</th>\n",
       "      <td>24975</td>\n",
       "      <td>516</td>\n",
       "      <td>2020-11-03 02:18:21 UTC</td>\n",
       "      <td>Saque</td>\n",
       "      <td>-20.0</td>\n",
       "    </tr>\n",
       "    <tr>\n",
       "      <th>42</th>\n",
       "      <td>53075</td>\n",
       "      <td>516</td>\n",
       "      <td>2022-12-29 23:29:16 UTC</td>\n",
       "      <td>Saque</td>\n",
       "      <td>-520.0</td>\n",
       "    </tr>\n",
       "    <tr>\n",
       "      <th>43</th>\n",
       "      <td>14511</td>\n",
       "      <td>772</td>\n",
       "      <td>2018-02-28 09:49:42 UTC</td>\n",
       "      <td>Saque</td>\n",
       "      <td>-195.0</td>\n",
       "    </tr>\n",
       "    <tr>\n",
       "      <th>44</th>\n",
       "      <td>16095</td>\n",
       "      <td>772</td>\n",
       "      <td>2018-03-02 19:27:29 UTC</td>\n",
       "      <td>Saque</td>\n",
       "      <td>-300.0</td>\n",
       "    </tr>\n",
       "    <tr>\n",
       "      <th>45</th>\n",
       "      <td>32383</td>\n",
       "      <td>772</td>\n",
       "      <td>2020-05-31 10:17:46 UTC</td>\n",
       "      <td>Saque</td>\n",
       "      <td>-205.0</td>\n",
       "    </tr>\n",
       "    <tr>\n",
       "      <th>46</th>\n",
       "      <td>13629</td>\n",
       "      <td>5</td>\n",
       "      <td>2016-01-01 15:37:56 UTC</td>\n",
       "      <td>Saque</td>\n",
       "      <td>-50.0</td>\n",
       "    </tr>\n",
       "    <tr>\n",
       "      <th>47</th>\n",
       "      <td>21656</td>\n",
       "      <td>5</td>\n",
       "      <td>2016-02-20 12:39:02 UTC</td>\n",
       "      <td>Saque</td>\n",
       "      <td>-170.0</td>\n",
       "    </tr>\n",
       "    <tr>\n",
       "      <th>48</th>\n",
       "      <td>46080</td>\n",
       "      <td>5</td>\n",
       "      <td>2017-08-15 13:00:18 UTC</td>\n",
       "      <td>Saque</td>\n",
       "      <td>-275.0</td>\n",
       "    </tr>\n",
       "    <tr>\n",
       "      <th>49</th>\n",
       "      <td>51579</td>\n",
       "      <td>5</td>\n",
       "      <td>2017-09-13 10:09:06 UTC</td>\n",
       "      <td>Saque</td>\n",
       "      <td>-390.0</td>\n",
       "    </tr>\n",
       "  </tbody>\n",
       "</table>\n",
       "</div>"
      ],
      "text/plain": [
       "    cod_transacao  num_conta                  data_transacao nome_transacao  \\\n",
       "0            3100        256         2020-05-22 03:15:21 UTC          Saque   \n",
       "1           28405        256         2021-06-29 11:52:38 UTC          Saque   \n",
       "2            1776        512         2020-05-17 13:04:50 UTC          Saque   \n",
       "3           14311        512         2020-09-06 02:55:34 UTC          Saque   \n",
       "4           25012        512         2020-10-16 09:26:52 UTC          Saque   \n",
       "5           26883        512         2020-11-09 00:47:27 UTC          Saque   \n",
       "6           35017        512         2021-04-13 08:17:24 UTC          Saque   \n",
       "7           46264        512         2021-05-01 06:25:50 UTC          Saque   \n",
       "8           21340        768         2020-02-14 21:42:15 UTC          Saque   \n",
       "9           64259          1         2019-08-11 15:13:07 UTC          Saque   \n",
       "10          28202        257         2022-12-26 05:13:37 UTC          Saque   \n",
       "11          50107        257  2022-12-30 00:00:00.041757 UTC          Saque   \n",
       "12           9740        513         2022-09-19 08:58:15 UTC          Saque   \n",
       "13          18182        513         2022-09-30 20:55:16 UTC          Saque   \n",
       "14          65003        513   2022-12-30 00:00:00.78042 UTC          Saque   \n",
       "15          70201        513  2022-12-30 00:00:00.909153 UTC          Saque   \n",
       "16          47384        769         2019-11-28 16:30:32 UTC          Saque   \n",
       "17          53165        769         2019-12-07 14:39:41 UTC          Saque   \n",
       "18          56160        769         2019-12-08 05:54:14 UTC          Saque   \n",
       "19          71523        769         2022-08-29 02:51:43 UTC          Saque   \n",
       "20          51163          2  2022-12-30 00:00:00.704939 UTC          Saque   \n",
       "21          53595          2  2022-12-30 00:00:00.015556 UTC          Saque   \n",
       "22          71539          2  2022-12-30 00:00:00.757986 UTC          Saque   \n",
       "23          46162        258         2016-01-02 01:00:36 UTC          Saque   \n",
       "24          39404        514  2022-12-29 23:59:59.039768 UTC          Saque   \n",
       "25          42072        514  2022-12-29 23:59:59.120078 UTC          Saque   \n",
       "26          57169        514  2022-12-29 23:59:59.622998 UTC          Saque   \n",
       "27          58524        514  2022-12-29 23:59:59.336943 UTC          Saque   \n",
       "28          16523        770         2022-12-29 22:26:58 UTC          Saque   \n",
       "29          23616        770         2022-12-29 23:59:25 UTC          Saque   \n",
       "30          42140          3         2020-12-20 15:46:11 UTC          Saque   \n",
       "31          60681          3         2021-07-16 19:06:36 UTC          Saque   \n",
       "32           2946        259         2019-11-14 05:48:27 UTC          Saque   \n",
       "33          13546        259         2020-06-08 02:56:17 UTC          Saque   \n",
       "34          51920        259         2022-12-29 23:59:52 UTC          Saque   \n",
       "35          34167        771         2020-10-30 23:56:12 UTC          Saque   \n",
       "36          35751        771         2020-11-30 17:59:02 UTC          Saque   \n",
       "37          40239          4         2019-12-27 06:41:30 UTC          Saque   \n",
       "38          41314          4         2020-01-13 20:49:52 UTC          Saque   \n",
       "39          51740          4         2020-04-05 13:26:51 UTC          Saque   \n",
       "40          69658          4         2020-11-19 10:16:56 UTC          Saque   \n",
       "41          24975        516         2020-11-03 02:18:21 UTC          Saque   \n",
       "42          53075        516         2022-12-29 23:29:16 UTC          Saque   \n",
       "43          14511        772         2018-02-28 09:49:42 UTC          Saque   \n",
       "44          16095        772         2018-03-02 19:27:29 UTC          Saque   \n",
       "45          32383        772         2020-05-31 10:17:46 UTC          Saque   \n",
       "46          13629          5         2016-01-01 15:37:56 UTC          Saque   \n",
       "47          21656          5         2016-02-20 12:39:02 UTC          Saque   \n",
       "48          46080          5         2017-08-15 13:00:18 UTC          Saque   \n",
       "49          51579          5         2017-09-13 10:09:06 UTC          Saque   \n",
       "\n",
       "    valor_transacao  \n",
       "0            -130.0  \n",
       "1            -255.0  \n",
       "2            -250.0  \n",
       "3             -80.0  \n",
       "4            -475.0  \n",
       "5            -210.0  \n",
       "6             -50.0  \n",
       "7           -1160.0  \n",
       "8            -170.0  \n",
       "9            -245.0  \n",
       "10           -215.0  \n",
       "11           -175.0  \n",
       "12           -130.0  \n",
       "13           -140.0  \n",
       "14            -35.0  \n",
       "15           -250.0  \n",
       "16           -120.0  \n",
       "17           -360.0  \n",
       "18           -130.0  \n",
       "19           -130.0  \n",
       "20           -190.0  \n",
       "21            -35.0  \n",
       "22            -65.0  \n",
       "23           -215.0  \n",
       "24           -345.0  \n",
       "25           -110.0  \n",
       "26            -85.0  \n",
       "27           -820.0  \n",
       "28            -75.0  \n",
       "29           -400.0  \n",
       "30           -100.0  \n",
       "31            -80.0  \n",
       "32           -565.0  \n",
       "33           -250.0  \n",
       "34           -215.0  \n",
       "35           -860.0  \n",
       "36            -90.0  \n",
       "37            -35.0  \n",
       "38           -260.0  \n",
       "39           -735.0  \n",
       "40           -140.0  \n",
       "41            -20.0  \n",
       "42           -520.0  \n",
       "43           -195.0  \n",
       "44           -300.0  \n",
       "45           -205.0  \n",
       "46            -50.0  \n",
       "47           -170.0  \n",
       "48           -275.0  \n",
       "49           -390.0  "
      ]
     },
     "execution_count": 71,
     "metadata": {},
     "output_type": "execute_result"
    }
   ],
   "source": [
    "transacoes.head(50)"
   ]
  },
  {
   "cell_type": "code",
   "execution_count": 72,
   "metadata": {},
   "outputs": [
    {
     "data": {
      "text/html": [
       "<div>\n",
       "<style scoped>\n",
       "    .dataframe tbody tr th:only-of-type {\n",
       "        vertical-align: middle;\n",
       "    }\n",
       "\n",
       "    .dataframe tbody tr th {\n",
       "        vertical-align: top;\n",
       "    }\n",
       "\n",
       "    .dataframe thead th {\n",
       "        text-align: right;\n",
       "    }\n",
       "</style>\n",
       "<table border=\"1\" class=\"dataframe\">\n",
       "  <thead>\n",
       "    <tr style=\"text-align: right;\">\n",
       "      <th></th>\n",
       "      <th>cod_transacao</th>\n",
       "      <th>num_conta</th>\n",
       "      <th>data_transacao</th>\n",
       "      <th>nome_transacao</th>\n",
       "      <th>valor_transacao</th>\n",
       "    </tr>\n",
       "  </thead>\n",
       "  <tbody>\n",
       "    <tr>\n",
       "      <th>71949</th>\n",
       "      <td>12788</td>\n",
       "      <td>742</td>\n",
       "      <td>2020-09-12 20:52:18 UTC</td>\n",
       "      <td>Transferência entre CC - Crédito</td>\n",
       "      <td>99.7</td>\n",
       "    </tr>\n",
       "    <tr>\n",
       "      <th>71950</th>\n",
       "      <td>18347</td>\n",
       "      <td>742</td>\n",
       "      <td>2020-10-16 08:20:56 UTC</td>\n",
       "      <td>Transferência entre CC - Crédito</td>\n",
       "      <td>346.6</td>\n",
       "    </tr>\n",
       "    <tr>\n",
       "      <th>71951</th>\n",
       "      <td>63578</td>\n",
       "      <td>998</td>\n",
       "      <td>2015-12-02 23:54:16 UTC</td>\n",
       "      <td>Transferência entre CC - Crédito</td>\n",
       "      <td>293.9</td>\n",
       "    </tr>\n",
       "    <tr>\n",
       "      <th>71952</th>\n",
       "      <td>9491</td>\n",
       "      <td>487</td>\n",
       "      <td>2019-12-30 07:43:34 UTC</td>\n",
       "      <td>Transferência entre CC - Crédito</td>\n",
       "      <td>670.4</td>\n",
       "    </tr>\n",
       "    <tr>\n",
       "      <th>71953</th>\n",
       "      <td>34196</td>\n",
       "      <td>232</td>\n",
       "      <td>2017-10-26 01:54:38 UTC</td>\n",
       "      <td>Transferência entre CC - Crédito</td>\n",
       "      <td>683.8</td>\n",
       "    </tr>\n",
       "    <tr>\n",
       "      <th>71954</th>\n",
       "      <td>42996</td>\n",
       "      <td>232</td>\n",
       "      <td>2020-02-26 09:56:11 UTC</td>\n",
       "      <td>Transferência entre CC - Crédito</td>\n",
       "      <td>741.2</td>\n",
       "    </tr>\n",
       "    <tr>\n",
       "      <th>71955</th>\n",
       "      <td>34063</td>\n",
       "      <td>488</td>\n",
       "      <td>2022-12-30 00:00:00.296684 UTC</td>\n",
       "      <td>Transferência entre CC - Crédito</td>\n",
       "      <td>357.0</td>\n",
       "    </tr>\n",
       "    <tr>\n",
       "      <th>71956</th>\n",
       "      <td>31503</td>\n",
       "      <td>233</td>\n",
       "      <td>2017-05-22 18:54:16 UTC</td>\n",
       "      <td>Transferência entre CC - Crédito</td>\n",
       "      <td>518.8</td>\n",
       "    </tr>\n",
       "    <tr>\n",
       "      <th>71957</th>\n",
       "      <td>4525</td>\n",
       "      <td>234</td>\n",
       "      <td>2021-04-23 12:20:04 UTC</td>\n",
       "      <td>Transferência entre CC - Crédito</td>\n",
       "      <td>169.1</td>\n",
       "    </tr>\n",
       "    <tr>\n",
       "      <th>71958</th>\n",
       "      <td>12954</td>\n",
       "      <td>746</td>\n",
       "      <td>2021-10-10 20:52:16 UTC</td>\n",
       "      <td>Transferência entre CC - Crédito</td>\n",
       "      <td>648.4</td>\n",
       "    </tr>\n",
       "    <tr>\n",
       "      <th>71959</th>\n",
       "      <td>19011</td>\n",
       "      <td>235</td>\n",
       "      <td>2018-11-27 00:54:31 UTC</td>\n",
       "      <td>Transferência entre CC - Crédito</td>\n",
       "      <td>86.9</td>\n",
       "    </tr>\n",
       "    <tr>\n",
       "      <th>71960</th>\n",
       "      <td>69625</td>\n",
       "      <td>747</td>\n",
       "      <td>2022-12-29 23:59:59.069237 UTC</td>\n",
       "      <td>Transferência entre CC - Crédito</td>\n",
       "      <td>745.7</td>\n",
       "    </tr>\n",
       "    <tr>\n",
       "      <th>71961</th>\n",
       "      <td>9580</td>\n",
       "      <td>492</td>\n",
       "      <td>2016-07-09 22:49:11 UTC</td>\n",
       "      <td>Transferência entre CC - Crédito</td>\n",
       "      <td>2034.3</td>\n",
       "    </tr>\n",
       "    <tr>\n",
       "      <th>71962</th>\n",
       "      <td>21158</td>\n",
       "      <td>749</td>\n",
       "      <td>2019-11-26 10:02:01 UTC</td>\n",
       "      <td>Transferência entre CC - Crédito</td>\n",
       "      <td>326.6</td>\n",
       "    </tr>\n",
       "    <tr>\n",
       "      <th>71963</th>\n",
       "      <td>6784</td>\n",
       "      <td>238</td>\n",
       "      <td>2019-03-25 03:40:06 UTC</td>\n",
       "      <td>Transferência entre CC - Crédito</td>\n",
       "      <td>1094.8</td>\n",
       "    </tr>\n",
       "    <tr>\n",
       "      <th>71964</th>\n",
       "      <td>31393</td>\n",
       "      <td>238</td>\n",
       "      <td>2022-12-29 10:18:33 UTC</td>\n",
       "      <td>Transferência entre CC - Crédito</td>\n",
       "      <td>622.0</td>\n",
       "    </tr>\n",
       "    <tr>\n",
       "      <th>71965</th>\n",
       "      <td>15794</td>\n",
       "      <td>751</td>\n",
       "      <td>2012-07-06 17:19:27 UTC</td>\n",
       "      <td>Transferência entre CC - Crédito</td>\n",
       "      <td>328.4</td>\n",
       "    </tr>\n",
       "    <tr>\n",
       "      <th>71966</th>\n",
       "      <td>20889</td>\n",
       "      <td>752</td>\n",
       "      <td>2019-03-21 15:08:39 UTC</td>\n",
       "      <td>Transferência entre CC - Crédito</td>\n",
       "      <td>1859.1</td>\n",
       "    </tr>\n",
       "    <tr>\n",
       "      <th>71967</th>\n",
       "      <td>49232</td>\n",
       "      <td>241</td>\n",
       "      <td>2022-09-07 07:33:11 UTC</td>\n",
       "      <td>Transferência entre CC - Crédito</td>\n",
       "      <td>184.5</td>\n",
       "    </tr>\n",
       "    <tr>\n",
       "      <th>71968</th>\n",
       "      <td>18318</td>\n",
       "      <td>243</td>\n",
       "      <td>2020-08-04 17:49:30 UTC</td>\n",
       "      <td>Transferência entre CC - Crédito</td>\n",
       "      <td>673.1</td>\n",
       "    </tr>\n",
       "    <tr>\n",
       "      <th>71969</th>\n",
       "      <td>6956</td>\n",
       "      <td>499</td>\n",
       "      <td>2022-12-28 21:17:32 UTC</td>\n",
       "      <td>Transferência entre CC - Crédito</td>\n",
       "      <td>174.3</td>\n",
       "    </tr>\n",
       "    <tr>\n",
       "      <th>71970</th>\n",
       "      <td>7089</td>\n",
       "      <td>755</td>\n",
       "      <td>2019-07-15 02:57:27 UTC</td>\n",
       "      <td>Transferência entre CC - Crédito</td>\n",
       "      <td>109.4</td>\n",
       "    </tr>\n",
       "    <tr>\n",
       "      <th>71971</th>\n",
       "      <td>67417</td>\n",
       "      <td>755</td>\n",
       "      <td>2022-12-29 23:59:59.465712 UTC</td>\n",
       "      <td>Transferência entre CC - Crédito</td>\n",
       "      <td>88.5</td>\n",
       "    </tr>\n",
       "    <tr>\n",
       "      <th>71972</th>\n",
       "      <td>10780</td>\n",
       "      <td>244</td>\n",
       "      <td>2012-06-30 17:51:57 UTC</td>\n",
       "      <td>Transferência entre CC - Crédito</td>\n",
       "      <td>292.4</td>\n",
       "    </tr>\n",
       "    <tr>\n",
       "      <th>71973</th>\n",
       "      <td>6466</td>\n",
       "      <td>500</td>\n",
       "      <td>2016-12-23 01:58:57 UTC</td>\n",
       "      <td>Transferência entre CC - Crédito</td>\n",
       "      <td>1570.5</td>\n",
       "    </tr>\n",
       "    <tr>\n",
       "      <th>71974</th>\n",
       "      <td>6772</td>\n",
       "      <td>501</td>\n",
       "      <td>2020-03-26 18:11:49 UTC</td>\n",
       "      <td>Transferência entre CC - Crédito</td>\n",
       "      <td>869.7</td>\n",
       "    </tr>\n",
       "    <tr>\n",
       "      <th>71975</th>\n",
       "      <td>11007</td>\n",
       "      <td>758</td>\n",
       "      <td>2015-05-28 12:16:57 UTC</td>\n",
       "      <td>Transferência entre CC - Crédito</td>\n",
       "      <td>136.9</td>\n",
       "    </tr>\n",
       "    <tr>\n",
       "      <th>71976</th>\n",
       "      <td>3835</td>\n",
       "      <td>247</td>\n",
       "      <td>2019-08-17 10:24:45 UTC</td>\n",
       "      <td>Transferência entre CC - Crédito</td>\n",
       "      <td>459.1</td>\n",
       "    </tr>\n",
       "    <tr>\n",
       "      <th>71977</th>\n",
       "      <td>63164</td>\n",
       "      <td>759</td>\n",
       "      <td>2022-12-29 23:59:59.174931 UTC</td>\n",
       "      <td>Transferência entre CC - Crédito</td>\n",
       "      <td>3304.4</td>\n",
       "    </tr>\n",
       "    <tr>\n",
       "      <th>71978</th>\n",
       "      <td>39612</td>\n",
       "      <td>248</td>\n",
       "      <td>2021-09-14 11:38:51 UTC</td>\n",
       "      <td>Transferência entre CC - Crédito</td>\n",
       "      <td>165.5</td>\n",
       "    </tr>\n",
       "    <tr>\n",
       "      <th>71979</th>\n",
       "      <td>7935</td>\n",
       "      <td>249</td>\n",
       "      <td>2019-02-18 04:05:28 UTC</td>\n",
       "      <td>Transferência entre CC - Crédito</td>\n",
       "      <td>1691.3</td>\n",
       "    </tr>\n",
       "    <tr>\n",
       "      <th>71980</th>\n",
       "      <td>46842</td>\n",
       "      <td>249</td>\n",
       "      <td>2020-05-01 21:49:51 UTC</td>\n",
       "      <td>Transferência entre CC - Crédito</td>\n",
       "      <td>3185.9</td>\n",
       "    </tr>\n",
       "    <tr>\n",
       "      <th>71981</th>\n",
       "      <td>8016</td>\n",
       "      <td>505</td>\n",
       "      <td>2013-11-21 01:16:02 UTC</td>\n",
       "      <td>Transferência entre CC - Crédito</td>\n",
       "      <td>197.6</td>\n",
       "    </tr>\n",
       "    <tr>\n",
       "      <th>71982</th>\n",
       "      <td>44337</td>\n",
       "      <td>761</td>\n",
       "      <td>2022-12-21 04:12:35 UTC</td>\n",
       "      <td>Transferência entre CC - Crédito</td>\n",
       "      <td>1000.4</td>\n",
       "    </tr>\n",
       "    <tr>\n",
       "      <th>71983</th>\n",
       "      <td>63359</td>\n",
       "      <td>251</td>\n",
       "      <td>2018-07-27 18:37:50 UTC</td>\n",
       "      <td>Transferência entre CC - Crédito</td>\n",
       "      <td>204.5</td>\n",
       "    </tr>\n",
       "    <tr>\n",
       "      <th>71984</th>\n",
       "      <td>7797</td>\n",
       "      <td>507</td>\n",
       "      <td>2015-05-11 00:31:51 UTC</td>\n",
       "      <td>Transferência entre CC - Crédito</td>\n",
       "      <td>1214.0</td>\n",
       "    </tr>\n",
       "    <tr>\n",
       "      <th>71985</th>\n",
       "      <td>31228</td>\n",
       "      <td>507</td>\n",
       "      <td>2020-01-14 09:07:06 UTC</td>\n",
       "      <td>Transferência entre CC - Crédito</td>\n",
       "      <td>314.9</td>\n",
       "    </tr>\n",
       "    <tr>\n",
       "      <th>71986</th>\n",
       "      <td>40872</td>\n",
       "      <td>507</td>\n",
       "      <td>2020-02-04 22:40:23 UTC</td>\n",
       "      <td>Transferência entre CC - Crédito</td>\n",
       "      <td>207.9</td>\n",
       "    </tr>\n",
       "    <tr>\n",
       "      <th>71987</th>\n",
       "      <td>46763</td>\n",
       "      <td>507</td>\n",
       "      <td>2020-03-05 10:35:25 UTC</td>\n",
       "      <td>Transferência entre CC - Crédito</td>\n",
       "      <td>676.3</td>\n",
       "    </tr>\n",
       "    <tr>\n",
       "      <th>71988</th>\n",
       "      <td>58080</td>\n",
       "      <td>507</td>\n",
       "      <td>2021-06-07 16:15:40 UTC</td>\n",
       "      <td>Transferência entre CC - Crédito</td>\n",
       "      <td>964.5</td>\n",
       "    </tr>\n",
       "    <tr>\n",
       "      <th>71989</th>\n",
       "      <td>67570</td>\n",
       "      <td>507</td>\n",
       "      <td>2021-09-09 19:55:03 UTC</td>\n",
       "      <td>Transferência entre CC - Crédito</td>\n",
       "      <td>527.7</td>\n",
       "    </tr>\n",
       "    <tr>\n",
       "      <th>71990</th>\n",
       "      <td>2968</td>\n",
       "      <td>508</td>\n",
       "      <td>2019-05-26 09:33:04 UTC</td>\n",
       "      <td>Transferência entre CC - Crédito</td>\n",
       "      <td>486.3</td>\n",
       "    </tr>\n",
       "    <tr>\n",
       "      <th>71991</th>\n",
       "      <td>8210</td>\n",
       "      <td>508</td>\n",
       "      <td>2019-05-30 02:10:56 UTC</td>\n",
       "      <td>Transferência entre CC - Crédito</td>\n",
       "      <td>690.6</td>\n",
       "    </tr>\n",
       "    <tr>\n",
       "      <th>71992</th>\n",
       "      <td>27335</td>\n",
       "      <td>508</td>\n",
       "      <td>2019-12-05 19:01:44 UTC</td>\n",
       "      <td>Transferência entre CC - Crédito</td>\n",
       "      <td>721.8</td>\n",
       "    </tr>\n",
       "    <tr>\n",
       "      <th>71993</th>\n",
       "      <td>63392</td>\n",
       "      <td>508</td>\n",
       "      <td>2022-12-29 23:59:44 UTC</td>\n",
       "      <td>Transferência entre CC - Crédito</td>\n",
       "      <td>478.8</td>\n",
       "    </tr>\n",
       "    <tr>\n",
       "      <th>71994</th>\n",
       "      <td>17007</td>\n",
       "      <td>764</td>\n",
       "      <td>2022-12-29 23:59:59.746608 UTC</td>\n",
       "      <td>Transferência entre CC - Crédito</td>\n",
       "      <td>82.3</td>\n",
       "    </tr>\n",
       "    <tr>\n",
       "      <th>71995</th>\n",
       "      <td>22320</td>\n",
       "      <td>764</td>\n",
       "      <td>2022-12-29 23:59:59.055028 UTC</td>\n",
       "      <td>Transferência entre CC - Crédito</td>\n",
       "      <td>414.8</td>\n",
       "    </tr>\n",
       "    <tr>\n",
       "      <th>71996</th>\n",
       "      <td>8697</td>\n",
       "      <td>509</td>\n",
       "      <td>2012-05-07 13:45:41 UTC</td>\n",
       "      <td>Transferência entre CC - Crédito</td>\n",
       "      <td>720.4</td>\n",
       "    </tr>\n",
       "    <tr>\n",
       "      <th>71997</th>\n",
       "      <td>11574</td>\n",
       "      <td>766</td>\n",
       "      <td>2015-09-19 05:13:07 UTC</td>\n",
       "      <td>Transferência entre CC - Crédito</td>\n",
       "      <td>1143.0</td>\n",
       "    </tr>\n",
       "    <tr>\n",
       "      <th>71998</th>\n",
       "      <td>64396</td>\n",
       "      <td>766</td>\n",
       "      <td>2022-12-29 23:59:59.607373 UTC</td>\n",
       "      <td>Transferência entre CC - Crédito</td>\n",
       "      <td>420.7</td>\n",
       "    </tr>\n",
       "  </tbody>\n",
       "</table>\n",
       "</div>"
      ],
      "text/plain": [
       "       cod_transacao  num_conta                  data_transacao  \\\n",
       "71949          12788        742         2020-09-12 20:52:18 UTC   \n",
       "71950          18347        742         2020-10-16 08:20:56 UTC   \n",
       "71951          63578        998         2015-12-02 23:54:16 UTC   \n",
       "71952           9491        487         2019-12-30 07:43:34 UTC   \n",
       "71953          34196        232         2017-10-26 01:54:38 UTC   \n",
       "71954          42996        232         2020-02-26 09:56:11 UTC   \n",
       "71955          34063        488  2022-12-30 00:00:00.296684 UTC   \n",
       "71956          31503        233         2017-05-22 18:54:16 UTC   \n",
       "71957           4525        234         2021-04-23 12:20:04 UTC   \n",
       "71958          12954        746         2021-10-10 20:52:16 UTC   \n",
       "71959          19011        235         2018-11-27 00:54:31 UTC   \n",
       "71960          69625        747  2022-12-29 23:59:59.069237 UTC   \n",
       "71961           9580        492         2016-07-09 22:49:11 UTC   \n",
       "71962          21158        749         2019-11-26 10:02:01 UTC   \n",
       "71963           6784        238         2019-03-25 03:40:06 UTC   \n",
       "71964          31393        238         2022-12-29 10:18:33 UTC   \n",
       "71965          15794        751         2012-07-06 17:19:27 UTC   \n",
       "71966          20889        752         2019-03-21 15:08:39 UTC   \n",
       "71967          49232        241         2022-09-07 07:33:11 UTC   \n",
       "71968          18318        243         2020-08-04 17:49:30 UTC   \n",
       "71969           6956        499         2022-12-28 21:17:32 UTC   \n",
       "71970           7089        755         2019-07-15 02:57:27 UTC   \n",
       "71971          67417        755  2022-12-29 23:59:59.465712 UTC   \n",
       "71972          10780        244         2012-06-30 17:51:57 UTC   \n",
       "71973           6466        500         2016-12-23 01:58:57 UTC   \n",
       "71974           6772        501         2020-03-26 18:11:49 UTC   \n",
       "71975          11007        758         2015-05-28 12:16:57 UTC   \n",
       "71976           3835        247         2019-08-17 10:24:45 UTC   \n",
       "71977          63164        759  2022-12-29 23:59:59.174931 UTC   \n",
       "71978          39612        248         2021-09-14 11:38:51 UTC   \n",
       "71979           7935        249         2019-02-18 04:05:28 UTC   \n",
       "71980          46842        249         2020-05-01 21:49:51 UTC   \n",
       "71981           8016        505         2013-11-21 01:16:02 UTC   \n",
       "71982          44337        761         2022-12-21 04:12:35 UTC   \n",
       "71983          63359        251         2018-07-27 18:37:50 UTC   \n",
       "71984           7797        507         2015-05-11 00:31:51 UTC   \n",
       "71985          31228        507         2020-01-14 09:07:06 UTC   \n",
       "71986          40872        507         2020-02-04 22:40:23 UTC   \n",
       "71987          46763        507         2020-03-05 10:35:25 UTC   \n",
       "71988          58080        507         2021-06-07 16:15:40 UTC   \n",
       "71989          67570        507         2021-09-09 19:55:03 UTC   \n",
       "71990           2968        508         2019-05-26 09:33:04 UTC   \n",
       "71991           8210        508         2019-05-30 02:10:56 UTC   \n",
       "71992          27335        508         2019-12-05 19:01:44 UTC   \n",
       "71993          63392        508         2022-12-29 23:59:44 UTC   \n",
       "71994          17007        764  2022-12-29 23:59:59.746608 UTC   \n",
       "71995          22320        764  2022-12-29 23:59:59.055028 UTC   \n",
       "71996           8697        509         2012-05-07 13:45:41 UTC   \n",
       "71997          11574        766         2015-09-19 05:13:07 UTC   \n",
       "71998          64396        766  2022-12-29 23:59:59.607373 UTC   \n",
       "\n",
       "                         nome_transacao  valor_transacao  \n",
       "71949  Transferência entre CC - Crédito             99.7  \n",
       "71950  Transferência entre CC - Crédito            346.6  \n",
       "71951  Transferência entre CC - Crédito            293.9  \n",
       "71952  Transferência entre CC - Crédito            670.4  \n",
       "71953  Transferência entre CC - Crédito            683.8  \n",
       "71954  Transferência entre CC - Crédito            741.2  \n",
       "71955  Transferência entre CC - Crédito            357.0  \n",
       "71956  Transferência entre CC - Crédito            518.8  \n",
       "71957  Transferência entre CC - Crédito            169.1  \n",
       "71958  Transferência entre CC - Crédito            648.4  \n",
       "71959  Transferência entre CC - Crédito             86.9  \n",
       "71960  Transferência entre CC - Crédito            745.7  \n",
       "71961  Transferência entre CC - Crédito           2034.3  \n",
       "71962  Transferência entre CC - Crédito            326.6  \n",
       "71963  Transferência entre CC - Crédito           1094.8  \n",
       "71964  Transferência entre CC - Crédito            622.0  \n",
       "71965  Transferência entre CC - Crédito            328.4  \n",
       "71966  Transferência entre CC - Crédito           1859.1  \n",
       "71967  Transferência entre CC - Crédito            184.5  \n",
       "71968  Transferência entre CC - Crédito            673.1  \n",
       "71969  Transferência entre CC - Crédito            174.3  \n",
       "71970  Transferência entre CC - Crédito            109.4  \n",
       "71971  Transferência entre CC - Crédito             88.5  \n",
       "71972  Transferência entre CC - Crédito            292.4  \n",
       "71973  Transferência entre CC - Crédito           1570.5  \n",
       "71974  Transferência entre CC - Crédito            869.7  \n",
       "71975  Transferência entre CC - Crédito            136.9  \n",
       "71976  Transferência entre CC - Crédito            459.1  \n",
       "71977  Transferência entre CC - Crédito           3304.4  \n",
       "71978  Transferência entre CC - Crédito            165.5  \n",
       "71979  Transferência entre CC - Crédito           1691.3  \n",
       "71980  Transferência entre CC - Crédito           3185.9  \n",
       "71981  Transferência entre CC - Crédito            197.6  \n",
       "71982  Transferência entre CC - Crédito           1000.4  \n",
       "71983  Transferência entre CC - Crédito            204.5  \n",
       "71984  Transferência entre CC - Crédito           1214.0  \n",
       "71985  Transferência entre CC - Crédito            314.9  \n",
       "71986  Transferência entre CC - Crédito            207.9  \n",
       "71987  Transferência entre CC - Crédito            676.3  \n",
       "71988  Transferência entre CC - Crédito            964.5  \n",
       "71989  Transferência entre CC - Crédito            527.7  \n",
       "71990  Transferência entre CC - Crédito            486.3  \n",
       "71991  Transferência entre CC - Crédito            690.6  \n",
       "71992  Transferência entre CC - Crédito            721.8  \n",
       "71993  Transferência entre CC - Crédito            478.8  \n",
       "71994  Transferência entre CC - Crédito             82.3  \n",
       "71995  Transferência entre CC - Crédito            414.8  \n",
       "71996  Transferência entre CC - Crédito            720.4  \n",
       "71997  Transferência entre CC - Crédito           1143.0  \n",
       "71998  Transferência entre CC - Crédito            420.7  "
      ]
     },
     "execution_count": 72,
     "metadata": {},
     "output_type": "execute_result"
    }
   ],
   "source": [
    "transacoes.tail(50)"
   ]
  },
  {
   "cell_type": "markdown",
   "metadata": {},
   "source": [
    "Tentativa para tratar as datas com formatos diferentes"
   ]
  },
  {
   "cell_type": "code",
   "execution_count": 73,
   "metadata": {},
   "outputs": [
    {
     "data": {
      "text/plain": [
       "\" def converter_data(text):\\n    for fmt in ('%Y-%m-%d %H:%M:%S %Z', '%Y-%m-%d %H:%M:%S.%f %Z', '%Y-%m-%d %H:%M:%S'):\\n        try:\\n            return datetime.strptime(text, fmt)\\n        except ValueError:\\n            pass\\n    return None\""
      ]
     },
     "execution_count": 73,
     "metadata": {},
     "output_type": "execute_result"
    }
   ],
   "source": [
    "''' def converter_data(text):\n",
    "    for fmt in ('%Y-%m-%d %H:%M:%S %Z', '%Y-%m-%d %H:%M:%S.%f %Z', '%Y-%m-%d %H:%M:%S'):\n",
    "        try:\n",
    "            return datetime.strptime(text, fmt)\n",
    "        except ValueError:\n",
    "            pass\n",
    "    return None'''"
   ]
  },
  {
   "cell_type": "code",
   "execution_count": 74,
   "metadata": {},
   "outputs": [],
   "source": [
    "# transacoes['data_transacao'] = transacoes['data_transacao'].apply(converter_data)\n"
   ]
  },
  {
   "cell_type": "markdown",
   "metadata": {},
   "source": []
  },
  {
   "cell_type": "code",
   "execution_count": 75,
   "metadata": {},
   "outputs": [],
   "source": [
    "#transacoes['data_transacao'] = pd.to_datetime(transacoes['data_transacao'], format='%Y-%m-%d %H:%M:%S.%f %Z', errors='coerce')"
   ]
  },
  {
   "cell_type": "code",
   "execution_count": 76,
   "metadata": {},
   "outputs": [],
   "source": [
    "#transacoes['data_transacao'].isnull().sum()"
   ]
  },
  {
   "cell_type": "code",
   "execution_count": 77,
   "metadata": {},
   "outputs": [],
   "source": [
    "from datetime import datetime\n",
    "\n",
    "def converter_data(text):\n",
    "    if isinstance(text, str):\n",
    "        formatos = [\n",
    "            '%Y-%m-%d %H:%M:%S %Z',            # Formato com fuso horário\n",
    "            '%Y-%m-%d %H:%M:%S.%f %Z',         # Formato com microsegundos e fuso horário\n",
    "            '%Y-%m-%d %H:%M:%S.%f',            # Formato com microsegundos, sem fuso horário\n",
    "            '%Y-%m-%d %H:%M:%S.%f',            # Formato com milissegundos, sem fuso horário\n",
    "            '%Y-%m-%d %H:%M:%S',               # Formato sem milissegundos e fuso horário\n",
    "            '%Y-%m-%d %H:%M:%S.%f'             # Formato com milissegundos, sem fuso horário\n",
    "        ]\n",
    "        \n",
    "        for fmt in formatos:\n",
    "            try:\n",
    "                return datetime.strptime(text, fmt)\n",
    "            except ValueError:\n",
    "                continue\n",
    "                \n",
    "    return None"
   ]
  },
  {
   "cell_type": "code",
   "execution_count": 78,
   "metadata": {},
   "outputs": [],
   "source": [
    "transacoes['data_transacao'] = transacoes['data_transacao'].apply(converter_data)"
   ]
  },
  {
   "cell_type": "code",
   "execution_count": 79,
   "metadata": {},
   "outputs": [
    {
     "name": "stdout",
     "output_type": "stream",
     "text": [
      "Quantidade de valores nulos após a conversão: 0\n"
     ]
    }
   ],
   "source": [
    "nulos = transacoes['data_transacao'].isnull().sum()\n",
    "print(f'Quantidade de valores nulos após a conversão: {nulos}')\n",
    "\n",
    "if nulos > 0:\n",
    "    invalid_dates = transacoes[transacoes['data_transacao'].isnull()]['data_transacao'].head(50)\n",
    "    print('Amostra de valores não convertidos corretamente:')\n",
    "    print(invalid_dates)"
   ]
  },
  {
   "cell_type": "code",
   "execution_count": 80,
   "metadata": {},
   "outputs": [
    {
     "name": "stdout",
     "output_type": "stream",
     "text": [
      "<class 'pandas.core.frame.DataFrame'>\n",
      "RangeIndex: 71999 entries, 0 to 71998\n",
      "Data columns (total 5 columns):\n",
      " #   Column           Non-Null Count  Dtype         \n",
      "---  ------           --------------  -----         \n",
      " 0   cod_transacao    71999 non-null  int64         \n",
      " 1   num_conta        71999 non-null  int64         \n",
      " 2   data_transacao   71999 non-null  datetime64[ns]\n",
      " 3   nome_transacao   71999 non-null  object        \n",
      " 4   valor_transacao  71999 non-null  float64       \n",
      "dtypes: datetime64[ns](1), float64(1), int64(2), object(1)\n",
      "memory usage: 2.7+ MB\n"
     ]
    }
   ],
   "source": [
    "transacoes.info()"
   ]
  },
  {
   "cell_type": "code",
   "execution_count": 81,
   "metadata": {},
   "outputs": [
    {
     "data": {
      "text/html": [
       "<div>\n",
       "<style scoped>\n",
       "    .dataframe tbody tr th:only-of-type {\n",
       "        vertical-align: middle;\n",
       "    }\n",
       "\n",
       "    .dataframe tbody tr th {\n",
       "        vertical-align: top;\n",
       "    }\n",
       "\n",
       "    .dataframe thead th {\n",
       "        text-align: right;\n",
       "    }\n",
       "</style>\n",
       "<table border=\"1\" class=\"dataframe\">\n",
       "  <thead>\n",
       "    <tr style=\"text-align: right;\">\n",
       "      <th></th>\n",
       "      <th>cod_transacao</th>\n",
       "      <th>num_conta</th>\n",
       "      <th>data_transacao</th>\n",
       "      <th>nome_transacao</th>\n",
       "      <th>valor_transacao</th>\n",
       "    </tr>\n",
       "  </thead>\n",
       "  <tbody>\n",
       "    <tr>\n",
       "      <th>0</th>\n",
       "      <td>3100</td>\n",
       "      <td>256</td>\n",
       "      <td>2020-05-22 03:15:21</td>\n",
       "      <td>Saque</td>\n",
       "      <td>-130.0</td>\n",
       "    </tr>\n",
       "    <tr>\n",
       "      <th>1</th>\n",
       "      <td>28405</td>\n",
       "      <td>256</td>\n",
       "      <td>2021-06-29 11:52:38</td>\n",
       "      <td>Saque</td>\n",
       "      <td>-255.0</td>\n",
       "    </tr>\n",
       "    <tr>\n",
       "      <th>2</th>\n",
       "      <td>1776</td>\n",
       "      <td>512</td>\n",
       "      <td>2020-05-17 13:04:50</td>\n",
       "      <td>Saque</td>\n",
       "      <td>-250.0</td>\n",
       "    </tr>\n",
       "    <tr>\n",
       "      <th>3</th>\n",
       "      <td>14311</td>\n",
       "      <td>512</td>\n",
       "      <td>2020-09-06 02:55:34</td>\n",
       "      <td>Saque</td>\n",
       "      <td>-80.0</td>\n",
       "    </tr>\n",
       "    <tr>\n",
       "      <th>4</th>\n",
       "      <td>25012</td>\n",
       "      <td>512</td>\n",
       "      <td>2020-10-16 09:26:52</td>\n",
       "      <td>Saque</td>\n",
       "      <td>-475.0</td>\n",
       "    </tr>\n",
       "  </tbody>\n",
       "</table>\n",
       "</div>"
      ],
      "text/plain": [
       "   cod_transacao  num_conta      data_transacao nome_transacao  \\\n",
       "0           3100        256 2020-05-22 03:15:21          Saque   \n",
       "1          28405        256 2021-06-29 11:52:38          Saque   \n",
       "2           1776        512 2020-05-17 13:04:50          Saque   \n",
       "3          14311        512 2020-09-06 02:55:34          Saque   \n",
       "4          25012        512 2020-10-16 09:26:52          Saque   \n",
       "\n",
       "   valor_transacao  \n",
       "0           -130.0  \n",
       "1           -255.0  \n",
       "2           -250.0  \n",
       "3            -80.0  \n",
       "4           -475.0  "
      ]
     },
     "execution_count": 81,
     "metadata": {},
     "output_type": "execute_result"
    }
   ],
   "source": [
    "transacoes.head()"
   ]
  },
  {
   "cell_type": "markdown",
   "metadata": {},
   "source": [
    "Qual dia da semana tem, em média, maior volume de transações?"
   ]
  },
  {
   "cell_type": "code",
   "execution_count": 82,
   "metadata": {},
   "outputs": [],
   "source": [
    "transacoes['dia_semana'] = transacoes['data_transacao'].dt.day_name()\n",
    "transacoes['periodo_mes'] = transacoes['data_transacao'].dt.day.apply(lambda x: 'Inicio' if x <= 15 else 'Final') "
   ]
  },
  {
   "cell_type": "code",
   "execution_count": 83,
   "metadata": {},
   "outputs": [],
   "source": [
    "volume_transacoes_dia = transacoes.groupby('dia_semana').size()\n",
    "media_volume_transacoes_dia = transacoes.groupby('dia_semana').size().mean()"
   ]
  },
  {
   "cell_type": "code",
   "execution_count": 84,
   "metadata": {},
   "outputs": [
    {
     "name": "stdout",
     "output_type": "stream",
     "text": [
      "Volume médio de transações por dia: \n",
      "10285.57142857143\n"
     ]
    }
   ],
   "source": [
    "print('Volume médio de transações por dia: ')\n",
    "print(media_volume_transacoes_dia)"
   ]
  },
  {
   "cell_type": "code",
   "execution_count": 85,
   "metadata": {},
   "outputs": [
    {
     "data": {
      "text/plain": [
       "'Thursday'"
      ]
     },
     "execution_count": 85,
     "metadata": {},
     "output_type": "execute_result"
    }
   ],
   "source": [
    "dia_maior_volume_transacoes = transacoes.groupby('dia_semana').size().idxmax()\n",
    "dia_maior_volume_transacoes"
   ]
  },
  {
   "cell_type": "markdown",
   "metadata": {},
   "source": [
    "Valor médio movimentado por dia da semana"
   ]
  },
  {
   "cell_type": "code",
   "execution_count": 86,
   "metadata": {},
   "outputs": [
    {
     "data": {
      "text/plain": [
       "3672207.7714285715"
      ]
     },
     "execution_count": 86,
     "metadata": {},
     "output_type": "execute_result"
    }
   ],
   "source": [
    "valor_transacoes_dia = transacoes.groupby('dia_semana')['valor_transacao'].sum()\n",
    "media_valor_transacoes_dia = valor_transacoes_dia.mean()\n",
    "media_valor_transacoes_dia"
   ]
  },
  {
   "cell_type": "code",
   "execution_count": 87,
   "metadata": {},
   "outputs": [
    {
     "name": "stdout",
     "output_type": "stream",
     "text": [
      "Valor médio de transações por dia da semana: \n",
      "dia_semana\n",
      "Friday       3870517.83\n",
      "Monday       3018450.16\n",
      "Saturday     2790520.53\n",
      "Sunday       3557910.12\n",
      "Thursday     6646010.94\n",
      "Tuesday      2232560.21\n",
      "Wednesday    3589484.61\n",
      "Name: valor_transacao, dtype: float64\n"
     ]
    }
   ],
   "source": [
    "print('Valor médio de transações por dia da semana: ')\n",
    "print(valor_transacoes_dia)"
   ]
  },
  {
   "cell_type": "code",
   "execution_count": 88,
   "metadata": {},
   "outputs": [
    {
     "data": {
      "text/plain": [
       "12852727.2"
      ]
     },
     "execution_count": 88,
     "metadata": {},
     "output_type": "execute_result"
    }
   ],
   "source": [
    "valor_transacoes_periodo = transacoes.groupby('periodo_mes')['valor_transacao'].sum()\n",
    "media_valor_transacoes_periodo = valor_transacoes_periodo.mean()\n",
    "media_valor_transacoes_periodo"
   ]
  },
  {
   "cell_type": "markdown",
   "metadata": {},
   "source": [
    "Valor medio das transações por período do mês (início e fim):"
   ]
  },
  {
   "cell_type": "code",
   "execution_count": 89,
   "metadata": {},
   "outputs": [
    {
     "name": "stdout",
     "output_type": "stream",
     "text": [
      "Valor médio de transações por período do mês:\n",
      "periodo_mes\n",
      "Final     15001108.77\n",
      "Inicio    10704345.63\n",
      "Name: valor_transacao, dtype: float64\n"
     ]
    }
   ],
   "source": [
    "print('Valor médio de transações por período do mês:')\n",
    "print(valor_transacoes_periodo)"
   ]
  },
  {
   "cell_type": "code",
   "execution_count": 90,
   "metadata": {},
   "outputs": [
    {
     "data": {
      "text/plain": [
       "'Inicio'"
      ]
     },
     "execution_count": 90,
     "metadata": {},
     "output_type": "execute_result"
    }
   ],
   "source": [
    "periodo_maior_valor_transacoes = transacoes.groupby('periodo_mes')['valor_transacao'].mean().idxmax()\n",
    "periodo_maior_valor_transacoes"
   ]
  },
  {
   "cell_type": "markdown",
   "metadata": {},
   "source": [
    "Semestres"
   ]
  },
  {
   "cell_type": "code",
   "execution_count": 91,
   "metadata": {},
   "outputs": [],
   "source": [
    "transacoes['ano_semestre'] = transacoes['data_transacao'].dt.to_period('6M')"
   ]
  },
  {
   "cell_type": "code",
   "execution_count": 92,
   "metadata": {},
   "outputs": [
    {
     "data": {
      "text/plain": [
       "ano_semestre\n",
       "2010-02        2\n",
       "2010-03        8\n",
       "2010-05        2\n",
       "2010-06        6\n",
       "2010-07        6\n",
       "           ...  \n",
       "2022-09     1230\n",
       "2022-10     1372\n",
       "2022-11     1841\n",
       "2022-12    25319\n",
       "2023-01      559\n",
       "Freq: 6M, Length: 155, dtype: int64"
      ]
     },
     "execution_count": 92,
     "metadata": {},
     "output_type": "execute_result"
    }
   ],
   "source": [
    "volume_transacoes_semestre = transacoes.groupby('ano_semestre').size()\n",
    "volume_transacoes_semestre"
   ]
  },
  {
   "cell_type": "code",
   "execution_count": 93,
   "metadata": {},
   "outputs": [
    {
     "data": {
      "text/plain": [
       "ano_semestre\n",
       "2010-02        116.01\n",
       "2010-03       1566.96\n",
       "2010-05         15.06\n",
       "2010-06       9869.88\n",
       "2010-07        270.34\n",
       "              ...    \n",
       "2022-09     413649.09\n",
       "2022-10      97435.74\n",
       "2022-11     921909.10\n",
       "2022-12    4792582.69\n",
       "2023-01      57191.71\n",
       "Freq: 6M, Name: valor_transacao, Length: 155, dtype: float64"
      ]
     },
     "execution_count": 93,
     "metadata": {},
     "output_type": "execute_result"
    }
   ],
   "source": [
    "valor_transacoes_semestre = transacoes.groupby('ano_semestre')['valor_transacao'].sum()\n",
    "valor_transacoes_semestre"
   ]
  },
  {
   "cell_type": "markdown",
   "metadata": {},
   "source": [
    "anual"
   ]
  },
  {
   "cell_type": "code",
   "execution_count": 94,
   "metadata": {},
   "outputs": [],
   "source": [
    "transacoes['ano'] = transacoes['data_transacao'].dt.year"
   ]
  },
  {
   "cell_type": "code",
   "execution_count": 95,
   "metadata": {},
   "outputs": [
    {
     "data": {
      "text/plain": [
       "ano\n",
       "2010       93\n",
       "2011      367\n",
       "2012      734\n",
       "2013     1249\n",
       "2014     1503\n",
       "2015     1897\n",
       "2016     2604\n",
       "2017     3554\n",
       "2018     3945\n",
       "2019     5428\n",
       "2020     5783\n",
       "2021     7777\n",
       "2022    36506\n",
       "2023      559\n",
       "dtype: int64"
      ]
     },
     "execution_count": 95,
     "metadata": {},
     "output_type": "execute_result"
    }
   ],
   "source": [
    "volume_transacoes_ano = transacoes.groupby('ano').size()\n",
    "volume_transacoes_ano"
   ]
  },
  {
   "cell_type": "code",
   "execution_count": 96,
   "metadata": {},
   "outputs": [
    {
     "data": {
      "text/plain": [
       "ano\n",
       "2010      28666.50\n",
       "2011     416235.09\n",
       "2012     723934.39\n",
       "2013     850661.15\n",
       "2014    1067881.92\n",
       "2015    1050124.90\n",
       "2016     940687.20\n",
       "2017    2665821.73\n",
       "2018    2492171.95\n",
       "2019    3329166.68\n",
       "2020    3396454.91\n",
       "2021     977979.23\n",
       "2022    7708477.04\n",
       "2023      57191.71\n",
       "Name: valor_transacao, dtype: float64"
      ]
     },
     "execution_count": 96,
     "metadata": {},
     "output_type": "execute_result"
    }
   ],
   "source": [
    "valor_transacoes_ano = transacoes.groupby('ano')['valor_transacao'].sum()\n",
    "valor_transacoes_ano"
   ]
  },
  {
   "cell_type": "code",
   "execution_count": 97,
   "metadata": {},
   "outputs": [
    {
     "data": {
      "image/png": "[encoded data removed]",
      "text/plain": [
       "<Figure size 1000x600 with 1 Axes>"
      ]
     },
     "metadata": {},
     "output_type": "display_data"
    }
   ],
   "source": [
    "plt.figure(figsize=(10,6))\n",
    "volume_transacoes_ano.plot(kind='bar', color='skyblue')\n",
    "plt.title('Volume de transações por ano')\n",
    "plt.xlabel('Ano')\n",
    "plt.ylabel('Volume de transações')\n",
    "plt.xticks(rotation=45)\n",
    "plt.show()"
   ]
  },
  {
   "cell_type": "code",
   "execution_count": 98,
   "metadata": {},
   "outputs": [
    {
     "data": {
      "text/html": [
       "<div>\n",
       "<style scoped>\n",
       "    .dataframe tbody tr th:only-of-type {\n",
       "        vertical-align: middle;\n",
       "    }\n",
       "\n",
       "    .dataframe tbody tr th {\n",
       "        vertical-align: top;\n",
       "    }\n",
       "\n",
       "    .dataframe thead th {\n",
       "        text-align: right;\n",
       "    }\n",
       "</style>\n",
       "<table border=\"1\" class=\"dataframe\">\n",
       "  <thead>\n",
       "    <tr style=\"text-align: right;\">\n",
       "      <th></th>\n",
       "      <th>Volume de Transações</th>\n",
       "      <th>Valor Total das Transações</th>\n",
       "    </tr>\n",
       "    <tr>\n",
       "      <th>ano</th>\n",
       "      <th></th>\n",
       "      <th></th>\n",
       "    </tr>\n",
       "  </thead>\n",
       "  <tbody>\n",
       "    <tr>\n",
       "      <th>2010</th>\n",
       "      <td>93</td>\n",
       "      <td>28666.50</td>\n",
       "    </tr>\n",
       "    <tr>\n",
       "      <th>2011</th>\n",
       "      <td>367</td>\n",
       "      <td>416235.09</td>\n",
       "    </tr>\n",
       "    <tr>\n",
       "      <th>2012</th>\n",
       "      <td>734</td>\n",
       "      <td>723934.39</td>\n",
       "    </tr>\n",
       "    <tr>\n",
       "      <th>2013</th>\n",
       "      <td>1249</td>\n",
       "      <td>850661.15</td>\n",
       "    </tr>\n",
       "    <tr>\n",
       "      <th>2014</th>\n",
       "      <td>1503</td>\n",
       "      <td>1067881.92</td>\n",
       "    </tr>\n",
       "    <tr>\n",
       "      <th>2015</th>\n",
       "      <td>1897</td>\n",
       "      <td>1050124.90</td>\n",
       "    </tr>\n",
       "    <tr>\n",
       "      <th>2016</th>\n",
       "      <td>2604</td>\n",
       "      <td>940687.20</td>\n",
       "    </tr>\n",
       "    <tr>\n",
       "      <th>2017</th>\n",
       "      <td>3554</td>\n",
       "      <td>2665821.73</td>\n",
       "    </tr>\n",
       "    <tr>\n",
       "      <th>2018</th>\n",
       "      <td>3945</td>\n",
       "      <td>2492171.95</td>\n",
       "    </tr>\n",
       "    <tr>\n",
       "      <th>2019</th>\n",
       "      <td>5428</td>\n",
       "      <td>3329166.68</td>\n",
       "    </tr>\n",
       "    <tr>\n",
       "      <th>2020</th>\n",
       "      <td>5783</td>\n",
       "      <td>3396454.91</td>\n",
       "    </tr>\n",
       "    <tr>\n",
       "      <th>2021</th>\n",
       "      <td>7777</td>\n",
       "      <td>977979.23</td>\n",
       "    </tr>\n",
       "    <tr>\n",
       "      <th>2022</th>\n",
       "      <td>36506</td>\n",
       "      <td>7708477.04</td>\n",
       "    </tr>\n",
       "    <tr>\n",
       "      <th>2023</th>\n",
       "      <td>559</td>\n",
       "      <td>57191.71</td>\n",
       "    </tr>\n",
       "  </tbody>\n",
       "</table>\n",
       "</div>"
      ],
      "text/plain": [
       "      Volume de Transações  Valor Total das Transações\n",
       "ano                                                   \n",
       "2010                    93                    28666.50\n",
       "2011                   367                   416235.09\n",
       "2012                   734                   723934.39\n",
       "2013                  1249                   850661.15\n",
       "2014                  1503                  1067881.92\n",
       "2015                  1897                  1050124.90\n",
       "2016                  2604                   940687.20\n",
       "2017                  3554                  2665821.73\n",
       "2018                  3945                  2492171.95\n",
       "2019                  5428                  3329166.68\n",
       "2020                  5783                  3396454.91\n",
       "2021                  7777                   977979.23\n",
       "2022                 36506                  7708477.04\n",
       "2023                   559                    57191.71"
      ]
     },
     "execution_count": 98,
     "metadata": {},
     "output_type": "execute_result"
    }
   ],
   "source": [
    "resumo_transacoes = pd.DataFrame({\n",
    "    'Volume de Transações': volume_transacoes_ano,\n",
    "    'Valor Total das Transações': valor_transacoes_ano\n",
    "})\n",
    "resumo_transacoes"
   ]
  },
  {
   "cell_type": "markdown",
   "metadata": {},
   "source": [
    "Volume das transações por mes"
   ]
  },
  {
   "cell_type": "code",
   "execution_count": 99,
   "metadata": {},
   "outputs": [
    {
     "data": {
      "text/plain": [
       "0        2020-05\n",
       "1        2021-06\n",
       "2        2020-05\n",
       "3        2020-09\n",
       "4        2020-10\n",
       "          ...   \n",
       "71994    2022-12\n",
       "71995    2022-12\n",
       "71996    2012-05\n",
       "71997    2015-09\n",
       "71998    2022-12\n",
       "Name: ano_mes, Length: 71999, dtype: period[M]"
      ]
     },
     "execution_count": 99,
     "metadata": {},
     "output_type": "execute_result"
    }
   ],
   "source": [
    "transacoes['ano_mes'] = transacoes['data_transacao'].dt.to_period('M')\n",
    "transacoes['ano_mes']"
   ]
  },
  {
   "cell_type": "code",
   "execution_count": 100,
   "metadata": {},
   "outputs": [
    {
     "data": {
      "text/plain": [
       "ano_mes\n",
       "2010-02        2\n",
       "2010-03        8\n",
       "2010-05        2\n",
       "2010-06        6\n",
       "2010-07        6\n",
       "           ...  \n",
       "2022-09     1230\n",
       "2022-10     1372\n",
       "2022-11     1841\n",
       "2022-12    25319\n",
       "2023-01      559\n",
       "Freq: M, Length: 155, dtype: int64"
      ]
     },
     "execution_count": 100,
     "metadata": {},
     "output_type": "execute_result"
    }
   ],
   "source": [
    "volume_transacoes_mes = transacoes.groupby('ano_mes').size()\n",
    "volume_transacoes_mes"
   ]
  },
  {
   "cell_type": "code",
   "execution_count": 101,
   "metadata": {},
   "outputs": [
    {
     "data": {
      "text/plain": [
       "ano_mes\n",
       "2010-02        116.01\n",
       "2010-03       1566.96\n",
       "2010-05         15.06\n",
       "2010-06       9869.88\n",
       "2010-07        270.34\n",
       "              ...    \n",
       "2022-09     413649.09\n",
       "2022-10      97435.74\n",
       "2022-11     921909.10\n",
       "2022-12    4792582.69\n",
       "2023-01      57191.71\n",
       "Freq: M, Name: valor_transacao, Length: 155, dtype: float64"
      ]
     },
     "execution_count": 101,
     "metadata": {},
     "output_type": "execute_result"
    }
   ],
   "source": [
    "valor_transacoes_mes = transacoes.groupby('ano_mes')['valor_transacao'].sum()\n",
    "valor_transacoes_mes"
   ]
  },
  {
   "cell_type": "code",
   "execution_count": null,
   "metadata": {},
   "outputs": [],
   "source": []
  }
 ],
 "metadata": {
  "kernelspec": {
   "display_name": "Python 3",
   "language": "python",
   "name": "python3"
  },
  "language_info": {
   "codemirror_mode": {
    "name": "ipython",
    "version": 3
   },
   "file_extension": ".py",
   "mimetype": "text/x-python",
   "name": "python",
   "nbconvert_exporter": "python",
   "pygments_lexer": "ipython3",
   "version": "3.11.5"
  }
 },
 "nbformat": 4,
 "nbformat_minor": 2
}
